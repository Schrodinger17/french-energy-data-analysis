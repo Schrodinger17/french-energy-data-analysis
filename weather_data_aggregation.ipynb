{
 "cells": [
  {
   "cell_type": "markdown",
   "metadata": {},
   "source": [
    "# Aggregation des données météo\n",
    "Source : https://donneespubliques.meteofrance.fr/?fond=produit&id_produit=90&id_rubrique=32"
   ]
  },
  {
   "cell_type": "code",
   "execution_count": 1,
   "metadata": {},
   "outputs": [],
   "source": [
    "#concat all the csv files inside raw_data_meteo folder to an unique csv file\n",
    "import os\n",
    "import pandas as pd\n",
    "\n",
    "#set the path to the folder containing the csv files\n",
    "path = os.getcwd() + '/raw_data_meteo'\n",
    "\n",
    "#list all the files inside the folder\n",
    "files = os.listdir(path)\n",
    "\n",
    "#concatenate all the files\n",
    "df = pd.concat([pd.read_csv(path + '/' + file) for file in files])\n",
    "\n",
    "#save the concatenated file\n",
    "df.to_csv('weather.csv', index=False)"
   ]
  }
 ],
 "metadata": {
  "kernelspec": {
   "display_name": "Simulbus-Ptrans",
   "language": "python",
   "name": "python3"
  },
  "language_info": {
   "codemirror_mode": {
    "name": "ipython",
    "version": 3
   },
   "file_extension": ".py",
   "mimetype": "text/x-python",
   "name": "python",
   "nbconvert_exporter": "python",
   "pygments_lexer": "ipython3",
   "version": "3.9.16"
  }
 },
 "nbformat": 4,
 "nbformat_minor": 2
}
