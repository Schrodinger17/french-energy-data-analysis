{
 "cells": [
  {
   "cell_type": "markdown",
   "metadata": {},
   "source": [
    "Tristan MANIER - Léa GRASSIEN - Mathieu RAMEL - INFO 5 - 9/01/2024\n"
   ]
  },
  {
   "cell_type": "markdown",
   "metadata": {},
   "source": [
    "# 1. Présentation des données"
   ]
  },
  {
   "cell_type": "markdown",
   "metadata": {},
   "source": [
    "Pourquoi avons nous choisis ces données ?\n",
    "TODO\n",
    "\n",
    "source, conditions de recueil, nombre de fichiers, nombres de variables et d'individus, expliquer l'activité derrière les données.\n",
    "TODO\n",
    "Notre dataset contient deux fichiers : eCO2mix_RTE_En-cours-TR.csv, donnees-synop-essentielles-omm.csv \n",
    "Le fichier eCO2mix_RTE_En-cours-TR.csv contient les données de consommation et de production en électricité en France, les échanges d'éléctricité avec d'autres pays Européens sur une période allant de juin 2022 à fin 2023.\n",
    "Le fichier donnees-synop-essentielles-omm.csv contient les données météorologiques de la France sur les années 2022 à 2023.\n",
    "\n",
    "Donnez la signification desindividus et des variables\n",
    "TODO"
   ]
  },
  {
   "cell_type": "markdown",
   "metadata": {},
   "source": [
    "## Questions\n",
    "\n",
    "### Analyse\n",
    "Nous allons chercher à répondre à ces questions :\n",
    "- Quelles sont les sources de production d'énergie les plus corrélées ?\n",
    "- Quelles est la proportion d'énergie renouvelable produite ?\n",
    "- Quelles sont les tendances de méthode de production d'énergie au cours de l'année ?\n",
    "- Quelles sont les périodes de l'année où la production d'énergie est la plus importante/faible ?\n",
    "- Quelles sont les moments de la journée où la production d'énergie est la plus importante/faible ?\n",
    "- La météo influe-t-elle sur la consomation d'énergie ?\n",
    "- Quelles sont les sources de production d'énergie les plus corrélées avec la météo ?\n",
    "- Classification des jousrsde l'année par rapport à la consomation d'énergie.\n",
    "\n",
    "### Prédictions\n",
    "- Quelle est la tendance de production d'énergie pour les jours/mois/années à venir ?\n",
    "- "
   ]
  },
  {
   "cell_type": "markdown",
   "metadata": {},
   "source": [
    "# 2. Préparation des données"
   ]
  },
  {
   "cell_type": "markdown",
   "metadata": {},
   "source": [
    "Ce notebook présente les commandes utiles pour les principales tâches de préparation des données. Les données `notes.data` qui servent d'illustration sont des notes obtenues par des étudiants dans des matières."
   ]
  },
  {
   "cell_type": "code",
   "execution_count": null,
   "metadata": {
    "scrolled": true
   },
   "outputs": [],
   "source": [
    "import pandas as pd\n",
    "pd.set_option('display.max_rows', 100)     # Set the maximum number of rows displayed to 100 rows\n",
    "\n",
    "import math"
   ]
  },
  {
   "cell_type": "markdown",
   "metadata": {},
   "source": [
    "## 2.1 Premier dataset sur la production d'énergie"
   ]
  },
  {
   "cell_type": "code",
   "execution_count": null,
   "metadata": {
    "scrolled": true
   },
   "outputs": [],
   "source": [
    "df = pd.read_csv(\"eCO2mix_RTE_En-cours-TR.csv\", sep=\"\\t\", encoding='latin-1', index_col=False)\n",
    "\n",
    "df.head()"
   ]
  },
  {
   "cell_type": "markdown",
   "metadata": {},
   "source": [
    "Renommage des colonnes pour retirer les espaces et faciliter la selection ensuite"
   ]
  },
  {
   "cell_type": "code",
   "execution_count": null,
   "metadata": {},
   "outputs": [],
   "source": [
    "df.columns = [c.replace(' ', '_') for c in df.columns]\n",
    "df.head()"
   ]
  },
  {
   "cell_type": "markdown",
   "metadata": {},
   "source": [
    "Affichage des données non-définies"
   ]
  },
  {
   "cell_type": "code",
   "execution_count": null,
   "metadata": {},
   "outputs": [],
   "source": [
    "temp = ({\n",
    "    'column':[],\n",
    "    'type':[],\n",
    "    'nb_lines' :[],\n",
    "    'nb_ND':[]\n",
    "})\n",
    "\n",
    "nd = pd.DataFrame(temp)\n",
    "\n",
    "for column in df.columns : \n",
    "\n",
    "    new_row = pd.DataFrame({'column': column, 'type': df[column].dtype, 'nb_lines': df[column].count(), 'nb_ND': (df[column] == 'ND').sum()}, index=[0])\n",
    "    nd = pd.concat([new_row, nd.loc[:]]).reset_index(drop=True)\n",
    "nd = nd.sort_values(by='nb_ND', ascending=False)\n",
    "\n",
    "nd[\"%ND\"] = nd[\"nb_ND\"] / nd[\"nb_lines\"] * 100\n",
    "\n",
    "nd"
   ]
  },
  {
   "cell_type": "markdown",
   "metadata": {},
   "source": [
    "Suppression des lignes sans information de consommation et sans prédiction "
   ]
  },
  {
   "cell_type": "code",
   "execution_count": null,
   "metadata": {},
   "outputs": [],
   "source": [
    "df = df[df['Prévision_J-1'] != 'ND']\n",
    "df = df[:-1]"
   ]
  },
  {
   "cell_type": "markdown",
   "metadata": {},
   "source": [
    "Hydrolique est décomposé en 3 catégories : 'Hydraulique - Fil de l?eau + éclusée', 'Hydraulique - Lacs', 'Hydraulique - STEP turbinage' \\\n",
    "Bioénergies est décomposé en 3 catégories : 'Bioénergies - Déchets', 'Bioénergies - Biomasse', 'Bioénergies - Biogaz' \\\n",
    "Eolien est décomposé en 2 catégories : 'Eolien terrestre', 'Eolien offshore' \\\n",
    "Fioul est décomposé en 3 catégories : 'Fioul - TAC', 'Fioul - Cogén.', 'Fioul - Autres' \\\n",
    "Gaz est décomposé en 3 catégories :  'Gaz - TAC', 'Gaz - Cogén.', 'Gaz - CCG', 'Gaz - Autres' \n",
    "\n",
    "Les deux colonnes sur les batteries ne semble pas pertinente non plus."
   ]
  },
  {
   "cell_type": "code",
   "execution_count": null,
   "metadata": {},
   "outputs": [],
   "source": [
    "list_energy = ['Périmètre', 'Date', 'Heures', 'Consommation',\n",
    "       'Prévision_J-1', 'Prévision_J', 'Fioul', 'Charbon', 'Gaz', 'Nucléaire',\n",
    "       'Eolien', 'Solaire', 'Hydraulique', 'Pompage', 'Bioénergies',\n",
    "       'Ech._physiques', 'Taux_de_Co2', 'Ech._comm._Angleterre',\n",
    "       'Ech._comm._Espagne', 'Ech._comm._Italie', 'Ech._comm._Suisse',\n",
    "       'Ech._comm._Allemagne-Belgique']\n",
    "for col_name in df.columns:\n",
    "    if col_name not in list_energy:\n",
    "        df = df.drop(col_name, axis=1)"
   ]
  },
  {
   "cell_type": "code",
   "execution_count": null,
   "metadata": {
    "scrolled": true
   },
   "outputs": [],
   "source": [
    "print(f\"{df.shape[0]} rows and {df.shape[1]} columns\")\n",
    "\n",
    "# Combine dtypre, count and nnunique\n",
    "pd.concat([df.dtypes, df.count(), df.nunique()], keys=[\"Types\", \"Count\", \"NUnique\"], axis=1)"
   ]
  },
  {
   "cell_type": "markdown",
   "metadata": {},
   "source": [
    "Ici on observe que les types des colonnes restantes sont plus logiques, on obtient plus de float au lieu de type object sur des colonnes decrivant une consommation ou une production."
   ]
  },
  {
   "cell_type": "markdown",
   "metadata": {},
   "source": [
    "### Statistiques descriptives des valeurs non-définies"
   ]
  },
  {
   "cell_type": "code",
   "execution_count": null,
   "metadata": {},
   "outputs": [],
   "source": [
    "temp = ({\n",
    "    'column':[],\n",
    "    'nb_lines' :[],\n",
    "    'nb_ND':[]\n",
    "})\n",
    "\n",
    "nd = pd.DataFrame(temp)\n",
    "\n",
    "for column in df.columns : \n",
    "    new_row = pd.DataFrame({'column': column, 'nb_lines': df[column].count(), 'nb_ND': (df[column] == 'ND').sum()}, index=[0])\n",
    "    nd = pd.concat([new_row, nd.loc[:]]).reset_index(drop=True)\n",
    "nd = nd.sort_values(by='nb_ND', ascending=False)\n",
    "\n",
    "nd[\"%ND\"] = nd[\"nb_ND\"] / nd[\"nb_lines\"] * 100\n",
    "\n",
    "nd"
   ]
  },
  {
   "cell_type": "markdown",
   "metadata": {},
   "source": [
    "## 2.2 Deuxième dataset sur les données météo"
   ]
  },
  {
   "cell_type": "code",
   "execution_count": null,
   "metadata": {},
   "outputs": [],
   "source": [
    "df_weather = pd.read_csv(\"donnees-synop-essentielles-omm.csv\", sep=\";\", index_col=False, encoding='utf-8')\n",
    "\n",
    "# df_weather.head()\n",
    "print(f\"{df_weather.shape[0]} rows and {df_weather.shape[1]} columns\")\n",
    "\n",
    "df_weather.head()"
   ]
  },
  {
   "cell_type": "markdown",
   "metadata": {},
   "source": [
    "Selection des données d'une seule région. (Pourais être remplacer par une moyenne des régions) "
   ]
  },
  {
   "cell_type": "code",
   "execution_count": null,
   "metadata": {},
   "outputs": [],
   "source": [
    "code_region = int('07149')  # Ile-de-France\n",
    "df_weather = df_weather[df_weather[\"numer_sta\"] == code_region]\n",
    "\n",
    "# df_weather.head()\n",
    "print(f\"{df_weather.shape[0]} rows and {df_weather.shape[1]} columns\")"
   ]
  },
  {
   "cell_type": "markdown",
   "metadata": {},
   "source": [
    "Formattage des données météo.\n",
    "\n",
    "Parmis toutes les données météo fournies, nous avons choisis de ne garder que les données les plus pertinantes pour nous. De plus, nous les avons renomer pour facilité leur utilisation et leur lisibilité."
   ]
  },
  {
   "cell_type": "code",
   "execution_count": null,
   "metadata": {},
   "outputs": [],
   "source": [
    "#multiplier les colonnes par 3 pour avoir 1 lignes par heures\n",
    "weather_rename_map = {\n",
    "    'date': 'date',\n",
    "    'pmer': 'pression_mer',\n",
    "    'ff': 'vitesse_vent',\n",
    "    't': 'température',\n",
    "    'u': 'humidité',\n",
    "    'pres': 'pression',\n",
    "    'niv_bar': 'niveau_barometrique',\n",
    "    'tn12': 't_min_12h',\n",
    "    'tn24': 't_min_24h',\n",
    "    'tx12': 't_max_12h',\n",
    "    'tx24': 't_max_24h',\n",
    "    'tminsol': 't_min_sol_12h',\n",
    "    'rr1': 'précipitation_1h',\n",
    "    'rr3': 'précipitation_3h',\n",
    "    'rr6': 'précipitation_6h',\n",
    "    'rr12': 'précipitation_12h',\n",
    "    'rr24': 'précipitation_24h',\n",
    "    'ssfrai': 'hauteur_neige'\n",
    "}\n",
    "\n",
    "df_weather = df_weather.rename(columns=weather_rename_map)\n",
    "\n",
    "# remove columns not in weather_rename_map\n",
    "for col_name in df_weather.columns.values.tolist():\n",
    "    if col_name not in weather_rename_map.values():\n",
    "        df_weather = df_weather.drop(col_name, axis=1)\n",
    "\n",
    "df_weather = df_weather.reset_index(drop=True)\n",
    "\n",
    "# convert object to float\n",
    "for col_name in df_weather.columns.values.tolist():\n",
    "    df_weather[col_name] = pd.to_numeric(df_weather[col_name], errors='coerce')\n",
    "\n",
    "#df_weather.head()\n",
    "\n",
    "#df_weather.dtypes"
   ]
  },
  {
   "cell_type": "markdown",
   "metadata": {},
   "source": [
    "Suppresion des lignes avec des valeurs manquantes pour les dates et heures."
   ]
  },
  {
   "cell_type": "code",
   "execution_count": null,
   "metadata": {},
   "outputs": [],
   "source": [
    "df = df.dropna(subset=['Date', \"Heures\"])"
   ]
  },
  {
   "cell_type": "markdown",
   "metadata": {},
   "source": [
    "## 2.3 Jointure des deux datasets\n",
    "\n",
    "Formatage des dates et heures des deux datasets."
   ]
  },
  {
   "cell_type": "code",
   "execution_count": null,
   "metadata": {},
   "outputs": [],
   "source": [
    "# Concat date and hours\n",
    "df['date'] = df['Date'].astype(str) + df['Heures'].astype(str)\n",
    "\n",
    "# Convert to datetime\n",
    "df['date'] = df['date'].apply(lambda x: pd.to_datetime(str(x), format='%Y-%m-%d%H:%M'))\n",
    "\n",
    "df_weather[\"date\"] = df_weather['date'].apply(lambda x: pd.to_datetime(str(x), format='%Y%m%d%H%M%S'))"
   ]
  },
  {
   "cell_type": "markdown",
   "metadata": {},
   "source": [
    "Fusion des deux datasets"
   ]
  },
  {
   "cell_type": "code",
   "execution_count": null,
   "metadata": {},
   "outputs": [],
   "source": [
    "df_full = pd.merge(df, df_weather, how='inner', on = 'date' )\n",
    "\n",
    "# full_df.head()\n",
    "print(f\"df : {df.shape[0]} rows and {df.shape[1]} columns\")\n",
    "print(f\"df_weather : {df_weather.shape[0]} rows and {df_weather.shape[1]} columns\")\n",
    "print(f\"df_full : {df_full.shape[0]} rows and {df_full.shape[1]} columns\")\n",
    "\n",
    "print(f\"Data between {df_full['date'].min()} and {df_full['date'].max()}\")"
   ]
  },
  {
   "cell_type": "code",
   "execution_count": null,
   "metadata": {},
   "outputs": [],
   "source": [
    "df_full.head()"
   ]
  },
  {
   "cell_type": "markdown",
   "metadata": {},
   "source": [
    "# 3. Analyse des données"
   ]
  },
  {
   "cell_type": "markdown",
   "metadata": {},
   "source": [
    "Selection d'une periode de temps"
   ]
  },
  {
   "cell_type": "code",
   "execution_count": null,
   "metadata": {},
   "outputs": [],
   "source": [
    "from matplotlib import pyplot as plt\n",
    "\n",
    "#select rows between date1 and date 2\n",
    "date1 = pd.to_datetime('2022-06-01')\n",
    "date2 = pd.to_datetime('2023-12-01')\n",
    "\n",
    "df_selection = df_full[(df_full['date'] >= date1) & (df_full['date'] < date2)]"
   ]
  },
  {
   "cell_type": "markdown",
   "metadata": {},
   "source": [
    "Visualisation des données de consomations"
   ]
  },
  {
   "cell_type": "code",
   "execution_count": null,
   "metadata": {},
   "outputs": [],
   "source": [
    "figure = plt.figure(figsize=(20,10))\n",
    "plt.plot(df_selection[\"date\"], df_selection[\"Consommation\"], label=column)\n",
    "plt.legend( loc='upper right', numpoints = 1 )\n",
    "plt.xlabel('Date')\n",
    "plt.ylabel('Production (MW)')\n",
    "plt.show()"
   ]
  },
  {
   "cell_type": "markdown",
   "metadata": {},
   "source": [
    "Visualisation des données de production"
   ]
  },
  {
   "cell_type": "code",
   "execution_count": null,
   "metadata": {},
   "outputs": [],
   "source": [
    "to_plot = [\"Charbon\", \"Eolien\", \"Solaire\", \"Nucléaire\", \"Hydraulique\", \"Bioénergies\", \"Pompage\"]\n",
    "\n",
    "figure = plt.figure(figsize=(20,10))\n",
    "for column in to_plot :\n",
    "    plt.plot(df_selection[\"date\"], df_selection[column], label=column)\n",
    "    plt.legend( loc='upper right', numpoints = 1 )\n",
    "\n",
    "plt.xlabel('Date')\n",
    "plt.ylabel('Production (MW)')\n",
    "plt.show()\n"
   ]
  },
  {
   "cell_type": "markdown",
   "metadata": {},
   "source": [
    "### Quelles sont les sources de production d'énergie les plus corrélées ?"
   ]
  },
  {
   "cell_type": "markdown",
   "metadata": {},
   "source": [
    "Selections des colonnes liées à la production et description de celles-ci"
   ]
  },
  {
   "cell_type": "code",
   "execution_count": null,
   "metadata": {},
   "outputs": [],
   "source": [
    "df_energies = df_full[[\"Charbon\", \"Gaz\", \"Fioul\", \"Nucléaire\", \"Eolien\", \"Solaire\", \"Hydraulique\", \"Bioénergies\", \"Consommation\"]]\n",
    "\n",
    "df_energies.describe()"
   ]
  },
  {
   "cell_type": "markdown",
   "metadata": {},
   "source": [
    "Matrice de corrélation"
   ]
  },
  {
   "cell_type": "code",
   "execution_count": null,
   "metadata": {},
   "outputs": [],
   "source": [
    "df_energies.corr()"
   ]
  },
  {
   "cell_type": "markdown",
   "metadata": {},
   "source": [
    "#### Conclusion\n",
    "TODO: Mathieu"
   ]
  },
  {
   "cell_type": "markdown",
   "metadata": {},
   "source": [
    "### Quelles est la proportion d'énergie renouvelable produite ?\n",
    "\n",
    "Calcul de la production globale d'énergie sur la période du dataset"
   ]
  },
  {
   "cell_type": "code",
   "execution_count": null,
   "metadata": {},
   "outputs": [],
   "source": [
    "name_col =[\"Charbon\", \"Gaz\", \"Fioul\", \"Nucléaire\", \"Eolien\", \"Solaire\", \"Hydraulique\", \"Bioénergies\"]\n",
    "\n",
    "df_energies = df_full[name_col]\n",
    "\n",
    "df_energies = df_energies.dropna()\n",
    "\n",
    "total_energies = sum(df_energies.sum(axis=1))\n",
    "print(f\"Production total : {total_energies} MW\")"
   ]
  },
  {
   "cell_type": "markdown",
   "metadata": {},
   "source": [
    "Calcul des proportions de chaque source d'énergie"
   ]
  },
  {
   "cell_type": "code",
   "execution_count": null,
   "metadata": {},
   "outputs": [],
   "source": [
    "sum_dic = {}\n",
    "pourcent_dic = {}\n",
    "for col in name_col:\n",
    "    sum_dic[col] = sum(df_energies[col])\n",
    "    pourcent_dic[col] = sum_dic[col]/total_energies*100\n",
    "    \n",
    "pourcent_df = pd.DataFrame.from_dict(pourcent_dic, orient='index', columns=['%'])\n",
    "print(pourcent_df)"
   ]
  },
  {
   "cell_type": "markdown",
   "metadata": {},
   "source": [
    "Aggrégation des sources d'énergie en 3 catégories : renouvelable, fossile et nucléaire"
   ]
  },
  {
   "cell_type": "code",
   "execution_count": null,
   "metadata": {},
   "outputs": [],
   "source": [
    "renouvelable = [\"Eolien\",\"Solaire\",\"Hydraulique\",\"Bioénergies\"]\n",
    "pourcent_renouvelable = sum([pourcent_dic[nrj12] for nrj12 in renouvelable])\n",
    "print(f\"Pourcentage d'énergie renouvelable : {pourcent_renouvelable:.2f} %\")\n",
    "\n",
    "fossil = [\"Charbon\",\"Gaz\",\"Fioul\"]\n",
    "pourcent_fossil = sum([pourcent_dic[nrj12] for nrj12 in fossil])\n",
    "print(f\"Pourcentage d'énergie fossile : {pourcent_fossil:.2f} %\")\n",
    "\n",
    "nuclear = [\"Nucléaire\"]\n",
    "pourcent_nuclear = sum([pourcent_dic[nrj12] for nrj12 in nuclear])\n",
    "print(f\"Pourcentage d'énergie nucléaire : {pourcent_nuclear:.2f} %\")"
   ]
  },
  {
   "cell_type": "markdown",
   "metadata": {},
   "source": [
    "Les énergies renouvelables représente plus d'un quart de la production total d'énergie."
   ]
  },
  {
   "cell_type": "markdown",
   "metadata": {},
   "source": [
    "### Quelles sont les tendances de méthode de production d'énergie au cours de l'année ?\n",
    "TODO: mathieu\n",
    "separer données en plusieurs periode et les plot"
   ]
  },
  {
   "cell_type": "markdown",
   "metadata": {},
   "source": [
    "### La météo influe-t-elle sur la consomation d'énergie ?\n"
   ]
  },
  {
   "cell_type": "code",
   "execution_count": null,
   "metadata": {},
   "outputs": [],
   "source": [
    "col_names = [\"Consommation\", \"température\", \"vitesse_vent\", \"humidité\", \"pression\", \"précipitation_24h\", \"hauteur_neige\"]\n",
    "# df_full.columns.values.tolist()\n",
    "\n",
    "df_selection = df_full[col_names]\n",
    "#removes lines with nan or None\n",
    "df_selection = df_selection.dropna()\n",
    "\n",
    "df_selection.describe()"
   ]
  },
  {
   "cell_type": "markdown",
   "metadata": {},
   "source": [
    "Matrice de corrélation"
   ]
  },
  {
   "cell_type": "code",
   "execution_count": null,
   "metadata": {},
   "outputs": [],
   "source": [
    "corr_matrix = df_selection.corr()\n",
    "\n",
    "# for only the \"Consommation\" column sort by descending order of absolute values\n",
    "pd.DataFrame(corr_matrix[\"Consommation\"].sort_values(ascending=False, key=lambda x: abs(x)))"
   ]
  },
  {
   "cell_type": "markdown",
   "metadata": {},
   "source": [
    "### Conclusion\n",
    "\n",
    "On remarque que la température est inversement corrélée avec la consomation d'énergie. Cela est logique car plus il fait froid, plus les gens chauffent leur logement.\n",
    "Cependant c'est la seule corrélation notable."
   ]
  },
  {
   "cell_type": "markdown",
   "metadata": {},
   "source": [
    "### Quelles sont les sources de production d'énergie les plus corrélées avec la météo ?"
   ]
  },
  {
   "cell_type": "code",
   "execution_count": null,
   "metadata": {},
   "outputs": [],
   "source": [
    "col_names_prod =[\"Charbon\", \"Gaz\", \"Fioul\", \"Nucléaire\", \"Eolien\", \"Solaire\", \"Hydraulique\", \"Bioénergies\"]\n",
    "col_names_weather = [\"température\", \"vitesse_vent\", \"humidité\", \"pression\", \"précipitation_24h\", \"hauteur_neige\"]\n",
    "\n",
    "df_selection = df_full[col_names_prod + col_names_weather]\n",
    "df_selection = df_selection.dropna()\n",
    "\n",
    "df_selection.describe()"
   ]
  },
  {
   "cell_type": "code",
   "execution_count": null,
   "metadata": {},
   "outputs": [],
   "source": [
    "#create a dataset with with the correlation between the production and the weather for each energy\n",
    "corr_dataset = pd.DataFrame()\n",
    "for col_name in col_names_prod:\n",
    "    current_df = df_selection[[col_name] + col_names_weather]\n",
    "    corr_matrix = current_df.corr()\n",
    "\n",
    "    corr_list = corr_matrix[col_name]\n",
    "    \n",
    "    corr_dataset.insert(0, col_name, corr_matrix[col_name])\n",
    "\n",
    "corr_dataset.dropna()"
   ]
  },
  {
   "cell_type": "markdown",
   "metadata": {},
   "source": [
    "### Conclusion\n",
    "\n",
    "On remarque que la température influence toutes les produciont d'énérgie, quand il fait froid la production augmentent et inversement. Sauf pour le solaire qui est invers car on produit plus d'énergie solaire en été lorsque le soeil est haut.\n",
    "\n",
    "L'autre corrélation notable est celle entre le solaire et l'humidité. Cela est logique car il y a plus de nuage lorsque l'humidité est élevée et donc moins de soleil. De même pour les temps pluvieux. Cependant la corrélation entre le solaire et les précipitations des dernières 24h est inexistante, ce qui est très étonnant.\n",
    "\n",
    "L'humidité à également un impact sur la production d'énégie hydrolique. Cela est logique car il y a plus d'eau dans les barages. Cependant elle a également in impact sur l'éolien, le nucléaire, le gaz et le charbon. Cela est plus difficile à expliquer.\n",
    "\n",
    "La dernière corrélation est entre la vitesse du vent, la pression et la production d'énérgie éolienne qui est tout à fait logique, les pression et dépression entrainne du vent qui favorisent la production d'énergie éolienne."
   ]
  },
  {
   "cell_type": "markdown",
   "metadata": {},
   "source": [
    "# 4. Prédiction"
   ]
  },
  {
   "cell_type": "markdown",
   "metadata": {},
   "source": [
    "### Quelle est la tendance de production d'énergie pour les jours/mois/années à venir ?\n"
   ]
  },
  {
   "cell_type": "code",
   "execution_count": null,
   "metadata": {
    "scrolled": true
   },
   "outputs": [],
   "source": [
    "#time series prediction\n",
    "from sklearn.model_selection import train_test_split\n",
    "from sklearn.linear_model import LinearRegression\n",
    "\n",
    "#select rows between date1 and date 2\n",
    "\n",
    "date1 = pd.to_datetime('2022-06-01')\n",
    "date2 = pd.to_datetime('2023-12-01')\n",
    "\n",
    "df_selection = df_full[(df_full['date'] >= date1) & (df_full['date'] < date2)]\n",
    "\n",
    "#df_selection = df_selection[col_names_prod + col_names_weather]\n",
    "\n",
    "df_selection = df_selection.dropna()\n",
    "\n",
    "X = df_selection[col_names_weather]\n",
    "y = df_selection[\"Nucléaire\"]\n",
    "\n",
    "X_train, X_test, y_train, y_test = train_test_split(X, y, test_size=0.2, random_state=42)\n",
    "\n",
    "reg = LinearRegression().fit(X_train, y_train)\n",
    "\n",
    "reg.score(X_test, y_test)\n",
    "\n",
    "y_pred = reg.predict(X_test)\n",
    "\n",
    "from sklearn.metrics import mean_squared_error\n",
    "mean_squared_error(y_test, y_pred)\n"
   ]
  },
  {
   "cell_type": "code",
   "execution_count": null,
   "metadata": {},
   "outputs": [],
   "source": [
    "from statsmodels.tsa.arima.model import ARIMA\n",
    "from random import random\n",
    "# contrived dataset\n",
    "data = [x + random() for x in range(1, 100)]\n",
    "# fit model\n",
    "model = ARIMA(data, order=(0, 0, 1))\n",
    "model_fit = model.fit()\n",
    "# make prediction\n",
    "yhat = model_fit.predict(len(data), len(data))\n",
    "print(yhat)"
   ]
  }
 ],
 "metadata": {
  "kernelspec": {
   "display_name": "Python 3",
   "language": "python",
   "name": "python3"
  },
  "language_info": {
   "codemirror_mode": {
    "name": "ipython",
    "version": 3
   },
   "file_extension": ".py",
   "mimetype": "text/x-python",
   "name": "python",
   "nbconvert_exporter": "python",
   "pygments_lexer": "ipython3",
   "version": "3.9.13"
  }
 },
 "nbformat": 4,
 "nbformat_minor": 2
}
