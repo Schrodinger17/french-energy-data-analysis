{
 "cells": [
  {
   "cell_type": "markdown",
   "metadata": {},
   "source": [
    "Tristan MANIER - Léa GRASSIEN - Mathieu RAMEL - INFO 5 - 9/01/2024\n"
   ]
  },
  {
   "cell_type": "markdown",
   "metadata": {},
   "source": [
    "# 1. Présentation des données"
   ]
  },
  {
   "cell_type": "markdown",
   "metadata": {},
   "source": [
    "Notre dataset contient deux fichiers : \n",
    "- eCO2mix_RTE_En-cours-TR.csv :  https://www.rte-france.com/eco2mix\n",
    "- donnees-synop-essentielles-omm.csv :  \n",
    "\n",
    "Le fichier eCO2mix_RTE_En-cours-TR.csv contient les données de consommation et de production en électricité en France, les échanges d'éléctricité avec d'autres pays Européens sur une période allant de juin 2022 à début 2023.\n",
    "Le fichier donnees-synop-essentielles-omm.csv contient les données météorologiques de la France sur les années 2022 à début 2024.\n",
    "\n",
    "Nous avons choisi ces données parce que ce sont des données d'actualité. En effet avec l'augmentation des prix et le changement climatique, il est très intéressant de se pencher sur ce genre de données. Les données de consommation et de production d'électricité sont aussi très intéressantes en général. Il est possible d'obtenir des informations très utiles sur les habitudes de consommation et la façon de faire des éconnomies.\n",
    "\n",
    "### Description plus précise des données\n",
    "|         | nombre de variables | nombre de lignes |                 Granularité                 |                                      Informations de la table                                       |\n",
    "|---------|:-------------------:|:----------------:|:-------------------------------------------:|:---------------------------------------------------------------------------------------------------:|\n",
    "| Eco2mix |         40          |      56640       | 2022-06-01 / 2024-01-14  Précision de 15min | Consommation, découpage de la production (Gaz, Fioul, ...), échange d'électicité avec d'autres pays |\n",
    "| Météo   |         59          |      341186      |   2022-01-01 / 2024-01-14 Précision de 3h   |                                    Pluie, vent, température, ...                                    |\n"
   ]
  },
  {
   "cell_type": "markdown",
   "metadata": {},
   "source": [
    "## Questions\n",
    "\n",
    "### Analyse\n",
    "Nous allons chercher à répondre à ces questions :\n",
    "- Quelles sont les sources de production d'énergie les plus corrélées ?\n",
    "- Quelles est la proportion d'énergie renouvelable produite ?\n",
    "- Quelles sont les tendances de méthode de production d'énergie au cours de l'année ?\n",
    "- Quelles sont les périodes de l'année où la production d'énergie est la plus importante/faible ?\n",
    "- Quelles sont les moments de la journée où la production d'énergie est la plus importante/faible ?\n",
    "- La météo influe-t-elle sur la consomation d'énergie ?\n",
    "- Quelles sont les sources de production d'énergie les plus corrélées avec la météo ?\n",
    "- Classification des jousrs de l'année par rapport à la consomation d'énergie.\n",
    "\n",
    "### Prédictions\n",
    "- Quelle est la tendance de production d'énergie pour les jours/mois/années à venir ?\n",
    "- Peut-on classifier les jours de la semaine par rapport à la consomation et la production d'énergie ?"
   ]
  },
  {
   "cell_type": "markdown",
   "metadata": {},
   "source": [
    "# 2. Préparation des données\n",
    "\n",
    "Modules"
   ]
  },
  {
   "cell_type": "code",
   "execution_count": null,
   "metadata": {
    "scrolled": true
   },
   "outputs": [],
   "source": [
    "import math\n",
    "import pandas as pd\n",
    "\n",
    "pd.set_option(\n",
    "    \"display.max_rows\", 100\n",
    ")  # Set the maximum number of rows displayed to 100 rows"
   ]
  },
  {
   "cell_type": "markdown",
   "metadata": {},
   "source": [
    "## 2.1 Premier dataset sur la production d'énergie\n",
    "\n",
    "Importation des données"
   ]
  },
  {
   "cell_type": "code",
   "execution_count": null,
   "metadata": {
    "scrolled": true
   },
   "outputs": [],
   "source": [
    "file_name = \"eCO2mix_RTE_En-cours-TR.csv\"\n",
    "\n",
    "df = pd.read_csv(file_name, sep=\"\\t\", encoding=\"latin-1\", index_col=False)\n",
    "\n",
    "df.head()"
   ]
  },
  {
   "cell_type": "markdown",
   "metadata": {},
   "source": [
    "Renommage des colonnes pour retirer les espaces et faciliter la selection ensuite"
   ]
  },
  {
   "cell_type": "code",
   "execution_count": null,
   "metadata": {},
   "outputs": [],
   "source": [
    "df.columns = [c.replace(\" \", \"_\") for c in df.columns]\n",
    "df.head()"
   ]
  },
  {
   "cell_type": "markdown",
   "metadata": {},
   "source": [
    "### 2.1.1 Correction des données"
   ]
  },
  {
   "cell_type": "markdown",
   "metadata": {},
   "source": [
    "Affichage des données non-définies et des types des colonnes pour vérifier la qulaité de notre dataset.\n",
    "\n",
    "Ici on remarque que certaines colonnes contiennent beaucoup de données non-définies et que d'autres ont des types object.\n",
    "\n",
    "Il faut corriger cela."
   ]
  },
  {
   "cell_type": "code",
   "execution_count": null,
   "metadata": {},
   "outputs": [],
   "source": [
    "temp = {\"column\": [], \"type\": [], \"nb_lines\": [], \"nb_ND\": []}\n",
    "\n",
    "nd = pd.DataFrame(temp)\n",
    "\n",
    "for column in df.columns:\n",
    "    new_row = pd.DataFrame(\n",
    "        {\n",
    "            \"column\": column,\n",
    "            \"type\": df[column].dtype,\n",
    "            \"nb_lines\": df[column].count(),\n",
    "            \"nb_ND\": (df[column] == \"ND\").sum(),\n",
    "        },\n",
    "        index=[0],\n",
    "    )\n",
    "    nd = pd.concat([new_row, nd.loc[:]]).reset_index(drop=True)\n",
    "nd = nd.sort_values(by=\"nb_ND\", ascending=False)\n",
    "\n",
    "nd[\"%ND\"] = nd[\"nb_ND\"] / nd[\"nb_lines\"] * 100\n",
    "\n",
    "nd"
   ]
  },
  {
   "cell_type": "markdown",
   "metadata": {},
   "source": [
    "Commençons par Supprimer les lignes sans dates et heures."
   ]
  },
  {
   "cell_type": "code",
   "execution_count": null,
   "metadata": {},
   "outputs": [],
   "source": [
    "df.dropna(subset=[\"Date\", \"Heures\"], inplace=True)"
   ]
  },
  {
   "cell_type": "markdown",
   "metadata": {},
   "source": [
    "Suppression des lignes sans information de consommation et sans prédiction, celles qui n'apportent aucune information concrète. "
   ]
  },
  {
   "cell_type": "code",
   "execution_count": null,
   "metadata": {},
   "outputs": [],
   "source": [
    "df = df[df[\"Prévision_J-1\"] != \"ND\"]\n",
    "df = df[:-1]"
   ]
  },
  {
   "cell_type": "markdown",
   "metadata": {},
   "source": [
    "Supression de colonnes décomposant la production que nous n'utiliseront pas :\n",
    "\n",
    "- Hydrolique est décomposé en 3 catégories : 'Hydraulique - Fil de l?eau + éclusée', 'Hydraulique - Lacs', 'Hydraulique - STEP turbinage' \\\n",
    "- Bioénergies est décomposé en 3 catégories : 'Bioénergies - Déchets', 'Bioénergies - Biomasse', 'Bioénergies - Biogaz' \\\n",
    "- Eolien est décomposé en 2 catégories : 'Eolien terrestre', 'Eolien offshore' \\\n",
    "- Fioul est décomposé en 3 catégories : 'Fioul - TAC', 'Fioul - Cogén.', 'Fioul - Autres' \\\n",
    "- Gaz est décomposé en 3 catégories :  'Gaz - TAC', 'Gaz - Cogén.', 'Gaz - CCG', 'Gaz - Autres' \n",
    "- Les deux colonnes sur les batteries ne semble pas pertinente non plus."
   ]
  },
  {
   "cell_type": "code",
   "execution_count": null,
   "metadata": {},
   "outputs": [],
   "source": [
    "list_energy = [\n",
    "    \"Périmètre\",\n",
    "    \"Date\",\n",
    "    \"Heures\",\n",
    "    \"Consommation\",\n",
    "    \"Prévision_J-1\",\n",
    "    \"Prévision_J\",\n",
    "    \"Fioul\",\n",
    "    \"Charbon\",\n",
    "    \"Gaz\",\n",
    "    \"Nucléaire\",\n",
    "    \"Eolien\",\n",
    "    \"Solaire\",\n",
    "    \"Hydraulique\",\n",
    "    \"Pompage\",\n",
    "    \"Bioénergies\",\n",
    "    \"Ech._physiques\",\n",
    "    \"Taux_de_Co2\",\n",
    "    \"Ech._comm._Angleterre\",\n",
    "    \"Ech._comm._Espagne\",\n",
    "    \"Ech._comm._Italie\",\n",
    "    \"Ech._comm._Suisse\",\n",
    "    \"Ech._comm._Allemagne-Belgique\",\n",
    "]\n",
    "\n",
    "for col_name in df.columns:\n",
    "    if col_name not in list_energy:\n",
    "        df = df.drop(col_name, axis=1)"
   ]
  },
  {
   "cell_type": "code",
   "execution_count": null,
   "metadata": {
    "scrolled": true
   },
   "outputs": [],
   "source": [
    "print(f\"{df.shape[0]} rows and {df.shape[1]} columns\")\n",
    "\n",
    "# Combine dtypre, count and nnunique\n",
    "pd.concat(\n",
    "    [df.dtypes, df.count(), df.nunique()], keys=[\"Types\", \"Count\", \"NUnique\"], axis=1\n",
    ")"
   ]
  },
  {
   "cell_type": "markdown",
   "metadata": {},
   "source": [
    "Ici on observe que les types des colonnes restantes sont plus logiques, on obtient plus de float au lieu de type object sur des colonnes decrivant une consommation ou une production."
   ]
  },
  {
   "cell_type": "markdown",
   "metadata": {},
   "source": [
    "### 2.1.2 Ajout de colonnes\n",
    "\n",
    "Ajout d'une colonne production totale qui est la somme de toutes les productions."
   ]
  },
  {
   "cell_type": "code",
   "execution_count": null,
   "metadata": {},
   "outputs": [],
   "source": [
    "columns_to_sum = [\n",
    "    \"Fioul\",\n",
    "    \"Charbon\",\n",
    "    \"Gaz\",\n",
    "    \"Nucléaire\",\n",
    "    \"Eolien\",\n",
    "    \"Solaire\",\n",
    "    \"Hydraulique\",\n",
    "    \"Pompage\",\n",
    "    \"Bioénergies\",\n",
    "]\n",
    "df[\"Production\"] = df[columns_to_sum].sum(axis=1)"
   ]
  },
  {
   "cell_type": "markdown",
   "metadata": {},
   "source": [
    "### Statistiques descriptives des valeurs non-définies"
   ]
  },
  {
   "cell_type": "code",
   "execution_count": null,
   "metadata": {},
   "outputs": [],
   "source": [
    "temp = {\"column\": [], \"nb_lines\": [], \"nb_ND\": []}\n",
    "\n",
    "nd = pd.DataFrame(temp)\n",
    "\n",
    "for column in df.columns:\n",
    "    new_row = pd.DataFrame(\n",
    "        {\n",
    "            \"column\": column,\n",
    "            \"nb_lines\": df[column].count(),\n",
    "            \"nb_ND\": (df[column] == \"ND\").sum(),\n",
    "        },\n",
    "        index=[0],\n",
    "    )\n",
    "    nd = pd.concat([new_row, nd.loc[:]]).reset_index(drop=True)\n",
    "nd = nd.sort_values(by=\"nb_ND\", ascending=False)\n",
    "\n",
    "nd[\"%ND\"] = nd[\"nb_ND\"] / nd[\"nb_lines\"] * 100\n",
    "\n",
    "nd"
   ]
  },
  {
   "cell_type": "markdown",
   "metadata": {},
   "source": [
    "## 2.2 Deuxième dataset sur les données météo\n",
    "\n",
    "Importation des données météo"
   ]
  },
  {
   "cell_type": "code",
   "execution_count": null,
   "metadata": {},
   "outputs": [],
   "source": [
    "file_name = \"weather.csv\"\n",
    "\n",
    "df_weather = pd.read_csv(file_name, sep=\";\", index_col=False, encoding=\"utf-8\")\n",
    "\n",
    "# df_weather.head()\n",
    "print(f\"{df_weather.shape[0]} rows and {df_weather.shape[1]} columns\")\n",
    "\n",
    "df_weather.head()"
   ]
  },
  {
   "cell_type": "markdown",
   "metadata": {},
   "source": [
    "Selection des données d'une seule région. (Pourrais être remplacer par une moyenne des régions) "
   ]
  },
  {
   "cell_type": "code",
   "execution_count": null,
   "metadata": {},
   "outputs": [],
   "source": [
    "code_region = int(\"07149\")  # Ile-de-France\n",
    "df_weather = df_weather[df_weather[\"numer_sta\"] == code_region]\n",
    "\n",
    "# df_weather.head()\n",
    "print(f\"{df_weather.shape[0]} rows and {df_weather.shape[1]} columns\")"
   ]
  },
  {
   "cell_type": "markdown",
   "metadata": {},
   "source": [
    "Formattage des données météo.\n",
    "\n",
    "Parmis toutes les données météo fournies, nous avons choisis de ne garder que les données les plus pertinantes pour nous. De plus, nous les avons renomer pour facilité leur utilisation et leur lisibilité."
   ]
  },
  {
   "cell_type": "code",
   "execution_count": null,
   "metadata": {},
   "outputs": [],
   "source": [
    "# multiplier les colonnes par 3 pour avoir 1 lignes par heures\n",
    "weather_rename_map = {\n",
    "    \"date\": \"date\",\n",
    "    \"pmer\": \"pression_mer\",\n",
    "    \"ff\": \"vitesse_vent\",\n",
    "    \"t\": \"température\",\n",
    "    \"u\": \"humidité\",\n",
    "    \"pres\": \"pression\",\n",
    "    \"niv_bar\": \"niveau_barometrique\",\n",
    "    \"tn12\": \"t_min_12h\",\n",
    "    \"tn24\": \"t_min_24h\",\n",
    "    \"tx12\": \"t_max_12h\",\n",
    "    \"tx24\": \"t_max_24h\",\n",
    "    \"tminsol\": \"t_min_sol_12h\",\n",
    "    \"rr1\": \"précipitation_1h\",\n",
    "    \"rr3\": \"précipitation_3h\",\n",
    "    \"rr6\": \"précipitation_6h\",\n",
    "    \"rr12\": \"précipitation_12h\",\n",
    "    \"rr24\": \"précipitation_24h\",\n",
    "    \"ssfrai\": \"hauteur_neige\",\n",
    "}\n",
    "\n",
    "df_weather = df_weather.rename(columns=weather_rename_map)\n",
    "\n",
    "# remove columns not in weather_rename_map\n",
    "for col_name in df_weather.columns.values.tolist():\n",
    "    if col_name not in weather_rename_map.values():\n",
    "        df_weather = df_weather.drop(col_name, axis=1)\n",
    "\n",
    "df_weather = df_weather.reset_index(drop=True)\n",
    "\n",
    "# convert object to float\n",
    "for col_name in df_weather.columns.values.tolist():\n",
    "    df_weather[col_name] = pd.to_numeric(df_weather[col_name], errors=\"coerce\")\n",
    "\n",
    "# df_weather.head()\n",
    "\n",
    "# df_weather.dtypes"
   ]
  },
  {
   "cell_type": "markdown",
   "metadata": {},
   "source": [
    "Suppresion des lignes avec des valeurs manquantes pour les dates et heures."
   ]
  },
  {
   "cell_type": "code",
   "execution_count": null,
   "metadata": {},
   "outputs": [],
   "source": [
    "df = df.dropna(subset=[\"Date\", \"Heures\"])"
   ]
  },
  {
   "cell_type": "markdown",
   "metadata": {},
   "source": [
    "## 2.3 Jointure des deux datasets\n",
    "\n",
    "Formatage des dates et heures des deux datasets."
   ]
  },
  {
   "cell_type": "code",
   "execution_count": null,
   "metadata": {},
   "outputs": [],
   "source": [
    "# Merge Date and Heures\n",
    "df[\"date\"] = df[\"Date\"].astype(str) + df[\"Heures\"].astype(str)\n",
    "\n",
    "# Convert to datetime\n",
    "df[\"date\"] = df[\"date\"].apply(lambda x: pd.to_datetime(str(x), format=\"%Y-%m-%d%H:%M\"))\n",
    "\n",
    "# Convert to datetime\n",
    "df_weather[\"date\"] = df_weather[\"date\"].apply(\n",
    "    lambda x: pd.to_datetime(str(x), format=\"%Y%m%d%H%M%S\")\n",
    ")"
   ]
  },
  {
   "cell_type": "markdown",
   "metadata": {},
   "source": [
    "Fusion des deux datasets"
   ]
  },
  {
   "cell_type": "code",
   "execution_count": null,
   "metadata": {},
   "outputs": [],
   "source": [
    "df_full = pd.merge(df, df_weather, how=\"inner\", on=\"date\")\n",
    "\n",
    "# full_df.head()\n",
    "print(f\"df : {df.shape[0]} rows and {df.shape[1]} columns\")\n",
    "print(f\"df_weather : {df_weather.shape[0]} rows and {df_weather.shape[1]} columns\")\n",
    "print(f\"df_full : {df_full.shape[0]} rows and {df_full.shape[1]} columns\")\n",
    "\n",
    "print(f\"Data between {df_full['date'].min()} and {df_full['date'].max()}\")"
   ]
  },
  {
   "cell_type": "code",
   "execution_count": null,
   "metadata": {},
   "outputs": [],
   "source": [
    "df_full.head()"
   ]
  },
  {
   "cell_type": "markdown",
   "metadata": {},
   "source": [
    "# 3. Analyse des données"
   ]
  },
  {
   "cell_type": "markdown",
   "metadata": {},
   "source": [
    "Selection d'une periode de temps"
   ]
  },
  {
   "cell_type": "code",
   "execution_count": null,
   "metadata": {},
   "outputs": [],
   "source": [
    "from matplotlib import pyplot as plt\n",
    "\n",
    "# select rows between date1 and date 2\n",
    "date1 = pd.to_datetime(\"2022-06-01\")\n",
    "date2 = pd.to_datetime(\"2024-09-01\")\n",
    "\n",
    "df_selection = df_full[(df_full[\"date\"] >= date1) & (df_full[\"date\"] < date2)]"
   ]
  },
  {
   "cell_type": "markdown",
   "metadata": {},
   "source": [
    "### 3.1 La période a-t-elle une influence sur la production et la consommation ?"
   ]
  },
  {
   "cell_type": "markdown",
   "metadata": {},
   "source": [
    "Visualisation des données de consomations"
   ]
  },
  {
   "cell_type": "code",
   "execution_count": null,
   "metadata": {},
   "outputs": [],
   "source": [
    "figure = plt.figure(figsize=(20, 10))\n",
    "plt.plot(df_selection[\"date\"], df_selection[\"Consommation\"], label=column)\n",
    "plt.legend(loc=\"upper right\", numpoints=1)\n",
    "plt.xlabel(\"Date\")\n",
    "plt.ylabel(\"Production (MW)\")\n",
    "plt.show()"
   ]
  },
  {
   "cell_type": "markdown",
   "metadata": {},
   "source": [
    "Visualisation des données de production"
   ]
  },
  {
   "cell_type": "code",
   "execution_count": null,
   "metadata": {},
   "outputs": [],
   "source": [
    "to_plot = [\n",
    "    \"Charbon\",\n",
    "    \"Eolien\",\n",
    "    \"Solaire\",\n",
    "    \"Nucléaire\",\n",
    "    \"Hydraulique\",\n",
    "    \"Bioénergies\",\n",
    "    \"Pompage\",\n",
    "]\n",
    "\n",
    "figure = plt.figure(figsize=(20, 10))\n",
    "for column in to_plot:\n",
    "    plt.plot(df_selection[\"date\"], df_selection[column], label=column)\n",
    "    plt.legend(loc=\"upper right\", numpoints=1)\n",
    "\n",
    "plt.xlabel(\"Date\")\n",
    "plt.ylabel(\"Production (MW)\")\n",
    "plt.show()"
   ]
  },
  {
   "cell_type": "code",
   "execution_count": null,
   "metadata": {},
   "outputs": [],
   "source": [
    "to_plot = [\"Consommation\", \"Production\"]\n",
    "\n",
    "figure = plt.figure(figsize=(20, 10))\n",
    "for column in to_plot:\n",
    "    plt.plot(df_selection[\"date\"], df_selection[column], label=column)\n",
    "    plt.legend(loc=\"upper right\", numpoints=1)\n",
    "\n",
    "plt.xlabel(\"Date\")\n",
    "plt.ylabel(\"(MW)\")\n",
    "plt.show()"
   ]
  },
  {
   "cell_type": "code",
   "execution_count": null,
   "metadata": {},
   "outputs": [],
   "source": [
    "bin_size = 6\n",
    "\n",
    "figure = plt.figure(figsize=(20, 10))\n",
    "for i in range(0, 24, bin_size):\n",
    "    lab = \"\"\n",
    "    to_plot = pd.DataFrame()\n",
    "    for j in range(1, bin_size):\n",
    "        lab += str(i + j) + \" \"\n",
    "        to_plot = pd.concat(\n",
    "            [\n",
    "                to_plot,\n",
    "                df_selection[pd.to_datetime(df_selection[\"Heures\"]).dt.hour == i + j],\n",
    "            ]\n",
    "        )\n",
    "\n",
    "    lab += \" heures\"\n",
    "\n",
    "    plt.plot(to_plot[\"date\"], to_plot[\"Consommation\"], label=lab)\n",
    "    plt.legend(loc=\"upper right\", numpoints=1, title=\"Interval d'heures\")\n",
    "# plt.plot(df.groupby([ time_date , time_date.dt.hour 'heure']).Consommation.sum())\n",
    "plt.xlabel(\"Date\")\n",
    "plt.ylabel(\"(MW)\")\n",
    "plt.show()"
   ]
  },
  {
   "cell_type": "markdown",
   "metadata": {},
   "source": [
    "### 3.2 Quelles sont les sources de production d'énergie les plus corrélées ?"
   ]
  },
  {
   "cell_type": "markdown",
   "metadata": {},
   "source": [
    "Selections des colonnes liées à la production et description de celles-ci"
   ]
  },
  {
   "cell_type": "code",
   "execution_count": null,
   "metadata": {},
   "outputs": [],
   "source": [
    "df_energies = df_full[\n",
    "    [\n",
    "        \"Charbon\",\n",
    "        \"Gaz\",\n",
    "        \"Fioul\",\n",
    "        \"Nucléaire\",\n",
    "        \"Eolien\",\n",
    "        \"Solaire\",\n",
    "        \"Hydraulique\",\n",
    "        \"Bioénergies\",\n",
    "    ]\n",
    "]\n",
    "\n",
    "df_energies.describe()"
   ]
  },
  {
   "cell_type": "markdown",
   "metadata": {},
   "source": [
    "Matrice de corrélation"
   ]
  },
  {
   "cell_type": "code",
   "execution_count": null,
   "metadata": {},
   "outputs": [],
   "source": [
    "df_energies.corr()"
   ]
  },
  {
   "cell_type": "markdown",
   "metadata": {},
   "source": [
    "#### Conclusion\n",
    "On remarque que les sources les plus corrélées sont de loin le gaz et le charbon ainsi que le nucléaire et l'hydraulique.\n",
    "Derrière on retrouve le gaz et le fioul qui ont une corrélation assez basse comparé aux deux premiers mais qui reste notable.\n",
    "\n",
    "Le charbon et le gaz  et le fioul sont toutes les trois des sources non renouvelables ce qui pourrait expliquer leur corrélations. \n",
    "Pour ce qui est du nucléaire et de l'hydraulique cela devient plus intriguant.\n",
    "Les centrales nucléaires nécessitent une grande quantité d'eau ce qui pourrait avoir un impact sur l'hydraulique.\n",
    "\n",
    "En revanche ce que l'on peut conclure est qu'aucune énergies ne sont vraiment corrélées ensemble car la valeur la plus haute reste en dessous de 0.6. Cela fait sens car ces industries ont tendances à être relativement indépendantes."
   ]
  },
  {
   "cell_type": "markdown",
   "metadata": {},
   "source": [
    "### 3.3 Quelles est la proportion d'énergie renouvelable produite ?\n",
    "\n",
    "Calcul de la production globale d'énergie sur la période du dataset"
   ]
  },
  {
   "cell_type": "code",
   "execution_count": null,
   "metadata": {},
   "outputs": [],
   "source": [
    "name_col = [\n",
    "    \"Charbon\",\n",
    "    \"Gaz\",\n",
    "    \"Fioul\",\n",
    "    \"Nucléaire\",\n",
    "    \"Eolien\",\n",
    "    \"Solaire\",\n",
    "    \"Hydraulique\",\n",
    "    \"Bioénergies\",\n",
    "]\n",
    "\n",
    "df_energies = df_full[name_col]\n",
    "\n",
    "df_energies = df_energies.dropna()\n",
    "\n",
    "total_energies = sum(df_energies.sum(axis=1))\n",
    "print(f\"Production total : {total_energies} MW\")"
   ]
  },
  {
   "cell_type": "markdown",
   "metadata": {},
   "source": [
    "Calcul des proportions de chaque source d'énergie"
   ]
  },
  {
   "cell_type": "code",
   "execution_count": null,
   "metadata": {},
   "outputs": [],
   "source": [
    "sum_dic = {}\n",
    "pourcent_dic = {}\n",
    "for col in name_col:\n",
    "    sum_dic[col] = sum(df_energies[col])\n",
    "    pourcent_dic[col] = sum_dic[col] / total_energies * 100\n",
    "\n",
    "pourcent_df = pd.DataFrame.from_dict(pourcent_dic, orient=\"index\", columns=[\"%\"])\n",
    "print(pourcent_df)"
   ]
  },
  {
   "cell_type": "markdown",
   "metadata": {},
   "source": [
    "Aggrégation des sources d'énergie en 3 catégories : renouvelable, fossile et nucléaire"
   ]
  },
  {
   "cell_type": "code",
   "execution_count": null,
   "metadata": {},
   "outputs": [],
   "source": [
    "renouvelable = [\"Eolien\", \"Solaire\", \"Hydraulique\", \"Bioénergies\"]\n",
    "pourcent_renouvelable = sum([pourcent_dic[nrj12] for nrj12 in renouvelable])\n",
    "print(f\"Pourcentage d'énergie renouvelable : {pourcent_renouvelable:.2f} %\")\n",
    "\n",
    "fossil = [\"Charbon\", \"Gaz\", \"Fioul\"]\n",
    "pourcent_fossil = sum([pourcent_dic[nrj12] for nrj12 in fossil])\n",
    "print(f\"Pourcentage d'énergie fossile : {pourcent_fossil:.2f} %\")\n",
    "\n",
    "nuclear = [\"Nucléaire\"]\n",
    "pourcent_nuclear = sum([pourcent_dic[nrj12] for nrj12 in nuclear])\n",
    "print(f\"Pourcentage d'énergie nucléaire : {pourcent_nuclear:.2f} %\")"
   ]
  },
  {
   "cell_type": "markdown",
   "metadata": {},
   "source": [
    "#### Conclusion\n",
    "Les énergies renouvelables représente plus d'un quart de la production total d'énergie.\n",
    "Cependant ce nombre fait pale figure face au 65% que représente le nucléaire.\n",
    "Il est important de remarqué que de nos jours, les énergies renouvelables sont plus de 4x supérieur à la production d'énergies fossile (non renouvelables).\n",
    "\n",
    "Pour conclure, ce nombre reste quand même conséquent et reste logique pour un pays comme la france qui s'appuis beaucoup sur le nucléaire.\n"
   ]
  },
  {
   "cell_type": "markdown",
   "metadata": {},
   "source": [
    "### 3.4 Quelles sont les tendances de méthode de production d'énergie au cours de l'année ?"
   ]
  },
  {
   "cell_type": "markdown",
   "metadata": {},
   "source": [
    "Séparation des données par mois de l'année."
   ]
  },
  {
   "cell_type": "code",
   "execution_count": null,
   "metadata": {},
   "outputs": [],
   "source": [
    "date1 = pd.to_datetime(\"2023-01-01\")\n",
    "date2 = pd.to_datetime(\"2024-01-01\")\n",
    "df_selection = df_full[(df_full[\"date\"] >= date1) & (df_full[\"date\"] < date2)]\n",
    "\n",
    "name_col = [\n",
    "    \"date\",\n",
    "    \"Charbon\",\n",
    "    \"Gaz\",\n",
    "    \"Fioul\",\n",
    "    \"Nucléaire\",\n",
    "    \"Eolien\",\n",
    "    \"Solaire\",\n",
    "    \"Hydraulique\",\n",
    "    \"Bioénergies\",\n",
    "]\n",
    "\n",
    "df_energies = df_full[name_col]\n",
    "\n",
    "df_energies = df_energies.dropna()\n",
    "\n",
    "\n",
    "mois = [\n",
    "    \"Janvier\",\n",
    "    \"Février\",\n",
    "    \"Mars\",\n",
    "    \"Avril\",\n",
    "    \"Mai\",\n",
    "    \"Juin\",\n",
    "    \"Juillet\",\n",
    "    \"Août\",\n",
    "    \"Septembre\",\n",
    "    \"Octobre\",\n",
    "    \"Novembre\",\n",
    "    \"Décembre\",\n",
    "]\n",
    "mois_dict = {}\n",
    "sum_mois_dict = {}\n",
    "name_col.pop(0)\n",
    "for i in range(len(mois)):\n",
    "    date1 = pd.to_datetime(\"2023-\" + str(i + 1) + \"-01\")\n",
    "    if i == 11:\n",
    "        date1 = pd.to_datetime(\"2022-\" + str(i + 1) + \"-01\")\n",
    "        date2 = pd.to_datetime(\"2022-\" + str(i + 1) + \"-31\")\n",
    "        mois_dict[mois[i]] = df_energies[\n",
    "            (df_energies[\"date\"] >= date1) & (df_energies[\"date\"] <= date2)\n",
    "        ]\n",
    "    else:\n",
    "        date2 = pd.to_datetime(\"2023-\" + str(i + 2) + \"-01\")\n",
    "        mois_dict[mois[i]] = df_energies[\n",
    "            (df_energies[\"date\"] >= date1) & (df_energies[\"date\"] < date2)\n",
    "        ]\n",
    "    mois_dict[mois[i]] = mois_dict[mois[i]].drop(columns=[\"date\"])\n",
    "    for nrj12 in name_col:\n",
    "        mois_dict[mois[i]][nrj12] = sum(mois_dict[mois[i]][nrj12])\n",
    "    mois_dict[mois[i]] = mois_dict[mois[i]].iloc[0]\n",
    "\n",
    "df_prod_final = mois_dict[\"Janvier\"]\n",
    "df_prod_final = pd.DataFrame.from_dict(df_prod_final).T\n",
    "# print(df_prod_final)\n",
    "for month, df_nrj in mois_dict.items():\n",
    "    # print(pd.DataFrame.from_dict(df_nrj).T)\n",
    "    df_prod_final = pd.concat([df_prod_final, pd.DataFrame.from_dict(df_nrj).T])\n",
    "df_prod_final = df_prod_final.tail(-1)\n",
    "df_prod_final.insert(0, \"Mois\", mois, True)\n",
    "df_prod_final = df_prod_final.set_index(\"Mois\")\n",
    "# print(df_prod_final)"
   ]
  },
  {
   "cell_type": "markdown",
   "metadata": {},
   "source": [
    "Affichage"
   ]
  },
  {
   "cell_type": "code",
   "execution_count": null,
   "metadata": {},
   "outputs": [],
   "source": [
    "ax = df_prod_final.plot.bar(stacked=True, figsize=(18, 6))\n",
    "\n",
    "ax.set_xticklabels(mois, rotation=0)\n",
    "ax.set_title(\"Comparaison de la production d'énergie durant l'année\")\n",
    "ax.legend(loc=\"upper right\")"
   ]
  },
  {
   "cell_type": "markdown",
   "metadata": {},
   "source": [
    "### Conclusion\n",
    "Grâce à cette représentation on remarque que dans sa globalité la proportion de production d'énergie au cours de l'année reste plutôt constante.\n",
    "Certaines tendances sont cependant notables, comme la production de charbon qui voit une hausse non négligeable en Décembre ou encore la production de gaz qui se baisse particuliérement en Mai.\n",
    "Pour finir on peut remarquer que la production d'énergie solaire baisse pendance l'hiver pour remonter en été. Cela s'explique par la durée des jours qui se racourcissent en hiver et se ralong en été."
   ]
  },
  {
   "cell_type": "markdown",
   "metadata": {},
   "source": [
    "### 3.5 Quelles sont les périodes de l'année où la production d'énergie est la plus importante/faible ?\n",
    "\n",
    "### Conclusion\n",
    "Pour cette question il suffit de reprendre la représentation utilisé par la question précédente. \n",
    "On remarque que Janvier est en première position suivi de novembre et décembre. \n",
    "Cette hausse de production vient probablement des fêtes de fins d'années.\n",
    "C'est une période particulièrement rentable pour les entreprises et il est logique de penser que les productions d'énergies suivent cette tendance.\n",
    "A l'inverse, la période la moins productive se retrouve être le milieu de l'année avec les mois de Juin, Juillet et Août ayant une production équivalente. \n",
    "Cette baisse peut s'expliquer par la hausse de chaleur. En été, moins d'énergie est dépensé pour le chauffage et avec cette baisse de consommation la production baisse aussi pour s'adapter à la demande."
   ]
  },
  {
   "cell_type": "markdown",
   "metadata": {},
   "source": [
    "### 3.6 Quelles sont les moments de la journée où la production d'énergie est la plus importante/faible ?"
   ]
  },
  {
   "cell_type": "markdown",
   "metadata": {},
   "source": [
    "Somme des données de production en une seule"
   ]
  },
  {
   "cell_type": "code",
   "execution_count": null,
   "metadata": {},
   "outputs": [],
   "source": [
    "name_col = [\n",
    "    \"date\",\n",
    "    \"Charbon\",\n",
    "    \"Gaz\",\n",
    "    \"Fioul\",\n",
    "    \"Nucléaire\",\n",
    "    \"Eolien\",\n",
    "    \"Solaire\",\n",
    "    \"Hydraulique\",\n",
    "    \"Bioénergies\",\n",
    "]\n",
    "\n",
    "df_energies = df_full[name_col]\n",
    "\n",
    "df_energies = df_energies.dropna()\n",
    "name_col.pop(0)\n",
    "df_energies[\"prod_total\"] = df_energies[name_col].sum(axis=1)\n",
    "\n",
    "date1 = pd.to_datetime(\"11:02\")\n",
    "time_dict = {}\n",
    "for ind in df_energies.index:\n",
    "    heure = df_energies[\"date\"][ind].hour\n",
    "    if heure not in time_dict.keys():\n",
    "        time_dict[heure] = df_energies[\"prod_total\"][ind]\n",
    "    else:\n",
    "        time_dict[heure] += df_energies[\"prod_total\"][ind]\n",
    "        # print(f'date: {df_energies[\"date\"][ind]}, conso: {df_energies[\"conso_total\"][ind]}')\n",
    "print(time_dict)"
   ]
  },
  {
   "cell_type": "markdown",
   "metadata": {},
   "source": [
    "Affichage"
   ]
  },
  {
   "cell_type": "code",
   "execution_count": null,
   "metadata": {},
   "outputs": [],
   "source": [
    "figure = plt.figure(figsize=(20, 10))\n",
    "plt.plot(time_dict.keys(), time_dict.values(), label=str(heure))\n",
    "\n",
    "plt.xlabel(\"Heure\")\n",
    "plt.ylabel(\"Production (MW)\")\n",
    "plt.show()"
   ]
  },
  {
   "cell_type": "markdown",
   "metadata": {},
   "source": [
    "### Conclusion\n",
    "On remarque que la production d'énergie est fortement influencé par le jour et la nuit. \n",
    "La production atteint son pic vers midi pour ensuite redescendre avant d'atteindre son minimum vers 3h du matin.\n",
    "Il est intéressant de voir que la production suit presque une courbe sinusoidale. Lorsque la production commence à monter, elle continue jusqu'à atteindre sont maximum puis descend jusqu'à atteindre son minimum.\n",
    "\n",
    "Pour conclure, on ne trouve aucune anomalie dans la production d'énergie et sa courbe est étrangement régulière."
   ]
  },
  {
   "cell_type": "markdown",
   "metadata": {},
   "source": [
    "### 3.7 La météo influe-t-elle sur la consomation d'énergie ?\n"
   ]
  },
  {
   "cell_type": "code",
   "execution_count": null,
   "metadata": {},
   "outputs": [],
   "source": [
    "col_names = [\n",
    "    \"Consommation\",\n",
    "    \"température\",\n",
    "    \"vitesse_vent\",\n",
    "    \"humidité\",\n",
    "    \"pression\",\n",
    "    \"précipitation_24h\",\n",
    "    \"hauteur_neige\",\n",
    "]\n",
    "# df_full.columns.values.tolist()\n",
    "\n",
    "df_selection = df_full[col_names]\n",
    "# removes lines with nan or None\n",
    "df_selection = df_selection.dropna()\n",
    "\n",
    "df_selection.describe()"
   ]
  },
  {
   "cell_type": "markdown",
   "metadata": {},
   "source": [
    "Matrice de corrélation"
   ]
  },
  {
   "cell_type": "code",
   "execution_count": null,
   "metadata": {},
   "outputs": [],
   "source": [
    "corr_matrix = df_selection.corr()\n",
    "\n",
    "# for only the \"Consommation\" column sort by descending order of absolute values\n",
    "pd.DataFrame(\n",
    "    corr_matrix[\"Consommation\"].sort_values(ascending=False, key=lambda x: abs(x))\n",
    ")"
   ]
  },
  {
   "cell_type": "markdown",
   "metadata": {},
   "source": [
    "### Conclusion\n",
    "\n",
    "On remarque que la température est inversement corrélée avec la consomation d'énergie. Cela est logique car plus il fait froid, plus les gens chauffent leur logement.\n",
    "Cependant c'est la seule corrélation notable."
   ]
  },
  {
   "cell_type": "markdown",
   "metadata": {},
   "source": [
    "### 3.8 Quelles sont les sources de production d'énergie les plus corrélées avec la météo ?"
   ]
  },
  {
   "cell_type": "code",
   "execution_count": null,
   "metadata": {},
   "outputs": [],
   "source": [
    "col_names_prod = [\n",
    "    \"Charbon\",\n",
    "    \"Gaz\",\n",
    "    \"Fioul\",\n",
    "    \"Nucléaire\",\n",
    "    \"Eolien\",\n",
    "    \"Solaire\",\n",
    "    \"Hydraulique\",\n",
    "    \"Bioénergies\",\n",
    "]\n",
    "col_names_weather = [\n",
    "    \"température\",\n",
    "    \"vitesse_vent\",\n",
    "    \"humidité\",\n",
    "    \"pression\",\n",
    "    \"précipitation_24h\",\n",
    "    \"hauteur_neige\",\n",
    "]\n",
    "\n",
    "df_selection = df_full[col_names_prod + col_names_weather]\n",
    "df_selection = df_selection.dropna()\n",
    "\n",
    "df_selection.describe()"
   ]
  },
  {
   "cell_type": "code",
   "execution_count": null,
   "metadata": {},
   "outputs": [],
   "source": [
    "# create a dataset with with the correlation between the production and the weather for each energy\n",
    "corr_dataset = pd.DataFrame()\n",
    "for col_name in col_names_prod:\n",
    "    current_df = df_selection[[col_name] + col_names_weather]\n",
    "    corr_matrix = current_df.corr()\n",
    "\n",
    "    corr_list = corr_matrix[col_name]\n",
    "\n",
    "    corr_dataset.insert(0, col_name, corr_matrix[col_name])\n",
    "\n",
    "corr_dataset.dropna()"
   ]
  },
  {
   "cell_type": "markdown",
   "metadata": {},
   "source": [
    "### Conclusion\n",
    "\n",
    "On remarque que la température influence toutes les produciont d'énérgie, quand il fait froid la production augmentent et inversement. Sauf pour le solaire qui est inversé car on produit plus d'énergie solaire en été lorsque le soeil est haut.\n",
    "\n",
    "L'autre corrélation notable est celle entre le solaire et l'humidité. Cela est logique car il y a plus de nuage lorsque l'humidité est élevée et donc moins de soleil. De même pour les temps pluvieux. Cependant la corrélation entre le solaire et les précipitations des dernières 24h est inexistante, ce qui est très étonnant.\n",
    "\n",
    "L'humidité à également un impact sur la production d'énégie hydrolique. Cela est logique car il y a plus d'eau dans les barages. Cependant elle a également in impact sur l'éolien, le nucléaire, le gaz et le charbon. Cela est plus difficile à expliquer.\n",
    "\n",
    "La dernière corrélation est entre la vitesse du vent, la pression et la production d'énérgie éolienne qui est tout à fait logique, les pression et dépression entrainne du vent qui favorisent la production d'énergie éolienne."
   ]
  },
  {
   "cell_type": "markdown",
   "metadata": {},
   "source": [
    "### 3.9 Classification des jours de l'année par rapport à la consomation d'énergie.\n",
    "classifié binaire et classifié par la semaine"
   ]
  },
  {
   "cell_type": "code",
   "execution_count": null,
   "metadata": {},
   "outputs": [],
   "source": [
    "date1 = pd.to_datetime(\"2022-01-01\")\n",
    "date2 = pd.to_datetime(\"2024-01-01\")\n",
    "df_selection = df_full[(df_full[\"date\"] >= date1) & (df_full[\"date\"] < date2)]\n",
    "\n",
    "name_col = [\n",
    "    \"date\",\n",
    "    \"Consommation\",\n",
    "    \"Charbon\",\n",
    "    \"Gaz\",\n",
    "    \"Fioul\",\n",
    "    \"Nucléaire\",\n",
    "    \"Eolien\",\n",
    "    \"Solaire\",\n",
    "    \"Hydraulique\",\n",
    "    \"Bioénergies\",\n",
    "]\n",
    "semaine = [\"Lundi\", \"Mardi\", \"Mercredi\", \"Jeudi\", \"Vendredi\", \"Samedi\", \"Dimanche\"]\n",
    "df_energies = df_selection[name_col]\n",
    "\n",
    "df_energies = df_energies.dropna()\n",
    "day_df = pd.DataFrame()\n",
    "row_dict = pd.DataFrame()\n",
    "for ind in df_energies.index:\n",
    "    jour = (df_energies[\"date\"][ind].day, df_energies[\"date\"][ind].month)\n",
    "    day_of_week = df_energies[\"date\"][ind].weekday()\n",
    "    if \"jour\" not in row_dict.columns:\n",
    "        row_dict[\"jour\"] = [semaine[day_of_week]]\n",
    "        for column in name_col:\n",
    "            row_dict[column] = [df_energies[column][ind]]\n",
    "    else:\n",
    "        if row_dict[\"jour\"][0] != semaine[day_of_week]:\n",
    "            day_df = pd.concat([day_df, row_dict], ignore_index=True)\n",
    "            row_dict[\"jour\"] = semaine[day_of_week]\n",
    "            for column in name_col:\n",
    "                row_dict[column] = df_energies[column][ind]\n",
    "        else:\n",
    "            for column in name_col:\n",
    "                if column != \"date\":\n",
    "                    row_dict[column] += df_energies[column][ind]\n",
    "                    row_dict[column] /= 2\n",
    "\n",
    "print(day_df)"
   ]
  },
  {
   "cell_type": "markdown",
   "metadata": {},
   "source": [
    "Affichage de la consommation par jour"
   ]
  },
  {
   "cell_type": "code",
   "execution_count": null,
   "metadata": {},
   "outputs": [],
   "source": [
    "figure = plt.figure(figsize=(20, 10))\n",
    "\n",
    "plt.plot(day_df[\"date\"], day_df[\"Consommation\"])\n",
    "plt.xlabel(\"Date\")\n",
    "plt.ylabel(\"Consommation\")\n",
    "plt.show()"
   ]
  },
  {
   "cell_type": "markdown",
   "metadata": {},
   "source": [
    "### Conclusion\n",
    "La consommation suit les même variation que la production d'énergie.\n",
    "Elle est haute en hiver et durant les fêtes mais reste basse en été.\n",
    "On retrouve donc cette correlation avec non seulement les saisons mais aussi la logique des entreprises qui boost leur ventes en fin d'années et donc leur production."
   ]
  },
  {
   "cell_type": "markdown",
   "metadata": {},
   "source": [
    "Affichage de la consommation par jour de la semaine"
   ]
  },
  {
   "cell_type": "code",
   "execution_count": null,
   "metadata": {},
   "outputs": [],
   "source": [
    "df_week_days = pd.DataFrame()\n",
    "interesting_col = [\"jour\", \"Consommation\"]\n",
    "day_df_filtered = day_df[interesting_col]\n",
    "\n",
    "for ind in day_df_filtered.index:\n",
    "    jour = day_df_filtered[\"jour\"][ind]\n",
    "    \n",
    "    if df_week_days.empty:\n",
    "        df_week_days[\"jour\"] = [day_df_filtered[\"jour\"][ind]]\n",
    "        df_week_days[\"Consommation\"] = [day_df_filtered[\"Consommation\"][ind]]\n",
    "    # print(df_week_days)\n",
    "    else:\n",
    "        if jour not in df_week_days[\"jour\"].values:\n",
    "            df_week_days.loc[len(df_week_days)] = day_df_filtered.iloc[ind]\n",
    "        else:\n",
    "            day_index = df_week_days.index[df_week_days[\"jour\"] == jour][0]\n",
    "            df_week_days[\"Consommation\"][day_index] += day_df_filtered[\"Consommation\"][\n",
    "                ind\n",
    "            ]\n",
    "            df_week_days[\"Consommation\"][day_index] /= 2\n",
    "\n",
    "df_week_days.index = [\n",
    "    6,\n",
    "    0,\n",
    "    1,\n",
    "    2,\n",
    "    3,\n",
    "    4,\n",
    "    5,\n",
    "]  # faire en sorte que les jours soient dans l'ordre\n",
    "df_week_days = df_week_days.sort_index()\n",
    "print(df_week_days)\n",
    "\n",
    "figure = plt.figure(figsize=(10, 5))\n",
    "\n",
    "plt.ylim([50000, 60000])\n",
    "plt.bar(df_week_days[\"jour\"], df_week_days[\"Consommation\"])\n",
    "plt.xlabel(\"Jour de la semaine\")\n",
    "plt.ylabel(\"Consommation (MW)\")\n",
    "plt.show()"
   ]
  },
  {
   "cell_type": "markdown",
   "metadata": {},
   "source": [
    "### Conclusion\n",
    "La fin de la semaine représente une baisse notable dans la consommation car les salariés sont en weekend et les entreprises baisses leur production. \n",
    "Il est quand même intéressant de voir que cette baisse se poursuit jusqu'au lundi qui a une consommation certe plus haute qu'en weekend mais assez basse comparé au milieu de semaine.\n",
    "Globalement le milieu de semaine reste la période consommation la plus élevé et les autres jours sont influencés par la baisse notable du weekend."
   ]
  },
  {
   "cell_type": "markdown",
   "metadata": {},
   "source": [
    "# 4. Prédiction"
   ]
  },
  {
   "cell_type": "markdown",
   "metadata": {},
   "source": [
    "### 4.1 Regrouper les données par période de temps jours/mois/années"
   ]
  },
  {
   "cell_type": "code",
   "execution_count": null,
   "metadata": {},
   "outputs": [],
   "source": [
    "from sklearn.cluster import KMeans\n",
    "import numpy as np\n",
    "\n",
    "date1 = pd.to_datetime(\"2022-06-01\")\n",
    "date2 = pd.to_datetime(\"2023-12-01\")\n",
    "\n",
    "col_names = [\n",
    "    \"Consommation\",\n",
    "    \"Production\",\n",
    "    \"Bioénergies\",\n",
    "    \"Hydraulique\",\n",
    "    \"Solaire\",\n",
    "    \"Eolien\",\n",
    "    \"Nucléaire\",\n",
    "    \"Fioul\",\n",
    "    \"Gaz\",\n",
    "    \"Charbon\",\n",
    "]\n",
    "\n",
    "# df_selection = df_full[(df_full['date'] >= date1) & (df_full['date'] < date2)]\n",
    "df_selection = df[(df[\"date\"] >= date1) & (df[\"date\"] < date2)]\n",
    "df_selection = df_selection.dropna()\n",
    "\n",
    "X = df_selection[col_names]\n",
    "y = df_selection[\"Nucléaire\"]\n",
    "\n",
    "# print(X)\n",
    "\n",
    "kmeans = KMeans(n_clusters=2, random_state=0).fit(X)\n",
    "\n",
    "kmeans.labels_\n",
    "\n",
    "y_pred = KMeans(n_clusters=4).fit_predict(X)\n",
    "\n",
    "figure = plt.figure(figsize=(20, 10))\n",
    "plt.scatter(df_selection[\"Date\"], X[\"Consommation\"], c=y_pred)\n",
    "plt.title(\"Clustering\")\n",
    "plt.xlabel(\"Date\")\n",
    "plt.ylabel(\"(MW)\")\n",
    "plt.show()\n",
    "\n",
    "# kmeans.predict([[0, 0], [12, 3]])\n",
    "# kmeans.cluster_centers_"
   ]
  },
  {
   "cell_type": "code",
   "execution_count": null,
   "metadata": {},
   "outputs": [],
   "source": [
    "heures = []\n",
    "cluster1 = []\n",
    "cluster2 = []\n",
    "cluster3 = []\n",
    "cluster4 = []\n",
    "df_selection[\"y_pred\"] = y_pred\n",
    "for i in range(24):\n",
    "    heures.append(str(i))\n",
    "    df_temp = df_selection[pd.to_datetime(df_selection[\"Heures\"]).dt.hour == i]\n",
    "\n",
    "    cluster1.append(len(df_temp[df_selection[\"y_pred\"] == 0]))\n",
    "    cluster2.append(len(df_temp[df_selection[\"y_pred\"] == 1]))\n",
    "    cluster3.append(len(df_temp[df_selection[\"y_pred\"] == 2]))\n",
    "    cluster4.append(len(df_temp[df_selection[\"y_pred\"] == 3]))\n",
    "\n",
    "dict = {\n",
    "    \"Heure\": heures,\n",
    "    \"cluster1\": cluster1,\n",
    "    \"cluster2\": cluster2,\n",
    "    \"cluster3\": cluster3,\n",
    "    \"cluster4\": cluster4,\n",
    "}\n",
    "df_cluster = pd.DataFrame(dict)\n",
    "\n",
    "figure = plt.figure(figsize=(20, 10))\n",
    "df_cluster.plot.bar(stacked=True)\n",
    "\n",
    "for i in range(4):\n",
    "    print(\n",
    "        \"moyenne cluster\",\n",
    "        i,\n",
    "        df_selection[df_selection[\"y_pred\"] == i][\"Consommation\"].mean(),\n",
    "    )\n",
    "# d.plot.bar(stacked=True, x=\"Heures\")"
   ]
  },
  {
   "cell_type": "markdown",
   "metadata": {},
   "source": [
    "## 4.2 Peut-on classifier les jours de la semaine par rapport à la consomation et la production d'énergie ?\n",
    "\n",
    "On cré un modèle qui a partir des données de production d'énergie et de consommation d'énergie, nous dit si c'est un jour de la semaine ou du weekend.\n",
    "\n",
    "On commence par ajouter une collone jour de la semaine dans le dataset et on supprime la date."
   ]
  },
  {
   "cell_type": "code",
   "execution_count": null,
   "metadata": {},
   "outputs": [],
   "source": [
    "df_selection = df_full\n",
    "\n",
    "name_col = [\n",
    "    \"date\",\n",
    "    \"Consommation\",\n",
    "    \"Charbon\",\n",
    "    \"Gaz\",\n",
    "    \"Fioul\",\n",
    "    \"Nucléaire\",\n",
    "    \"Eolien\",\n",
    "    \"Solaire\",\n",
    "    \"Hydraulique\",\n",
    "    \"Bioénergies\",\n",
    "]\n",
    "semaine = [\"Lundi\", \"Mardi\", \"Mercredi\", \"Jeudi\", \"Vendredi\", \"Samedi\", \"Dimanche\"]\n",
    "df_energies = df_selection[name_col]\n",
    "\n",
    "df_energies = df_energies.dropna()\n",
    "day_df = pd.DataFrame()\n",
    "row_dict = pd.DataFrame()\n",
    "for ind in df_energies.index:\n",
    "    jour = (df_energies[\"date\"][ind].day, df_energies[\"date\"][ind].month)\n",
    "    day_of_week = df_energies[\"date\"][ind].weekday()\n",
    "    if \"jour\" not in row_dict.columns:\n",
    "        row_dict[\"jour\"] = [semaine[day_of_week]]\n",
    "        for column in name_col:\n",
    "            row_dict[column] = [df_energies[column][ind]]\n",
    "    else:\n",
    "        if row_dict[\"jour\"][0] != semaine[day_of_week]:\n",
    "            day_df = pd.concat([day_df, row_dict], ignore_index=True)\n",
    "            row_dict[\"jour\"] = semaine[day_of_week]\n",
    "            for column in name_col:\n",
    "                row_dict[column] = df_energies[column][ind]\n",
    "        else:\n",
    "            for column in name_col:\n",
    "                if column != \"date\":\n",
    "                    row_dict[column] += df_energies[column][ind]\n",
    "                    row_dict[column] /= 2\n",
    "\n",
    "data = day_df\n",
    "\n",
    "data = data.drop([\"date\"], axis=1)\n",
    "data.head()"
   ]
  },
  {
   "cell_type": "markdown",
   "metadata": {},
   "source": [
    "On transforme les données catégorielles en données numériques (binaire, 0: jour de la semaine, 1: weekend)."
   ]
  },
  {
   "cell_type": "code",
   "execution_count": null,
   "metadata": {},
   "outputs": [],
   "source": [
    "\"\"\"\"\n",
    "day_dict = {\n",
    "    \"Lundi\": 0,\n",
    "    \"Mardi\": 1,\n",
    "    \"Mercredi\": 2,\n",
    "    \"Jeudi\": 3,\n",
    "    \"Vendredi\": 4,\n",
    "    \"Samedi\": 5,\n",
    "    \"Dimanche\": 6,\n",
    "}\n",
    "\"\"\"\n",
    "\n",
    "day_dict = {\n",
    "    \"Lundi\": 0,\n",
    "    \"Mardi\": 0,\n",
    "    \"Mercredi\": 0,\n",
    "    \"Jeudi\": 0,\n",
    "    \"Vendredi\": 0,\n",
    "    \"Samedi\": 1,\n",
    "    \"Dimanche\": 1,\n",
    "}\n",
    "\n",
    "data[\"jour\"] = data[\"jour\"].map(day_dict)\n",
    "data.head()"
   ]
  },
  {
   "cell_type": "markdown",
   "metadata": {},
   "source": [
    "Séparation des données en données d'entrainement et de test."
   ]
  },
  {
   "cell_type": "code",
   "execution_count": null,
   "metadata": {},
   "outputs": [],
   "source": [
    "from sklearn.model_selection import train_test_split\n",
    "\n",
    "X, Y = data.iloc[:, 1:], data[\"jour\"]\n",
    "\n",
    "x_train, x_test, y_train, y_test = train_test_split(X, Y, test_size=0.2)\n",
    "print(len(x_train), len(y_train), len(x_test), len(y_test))"
   ]
  },
  {
   "cell_type": "markdown",
   "metadata": {},
   "source": [
    "Choix du modèle"
   ]
  },
  {
   "cell_type": "code",
   "execution_count": null,
   "metadata": {},
   "outputs": [],
   "source": [
    "from sklearn.tree import DecisionTreeClassifier\n",
    "from sklearn.svm import SVC\n",
    "from sklearn.model_selection import cross_val_score\n",
    "from sklearn import linear_model\n",
    "\n",
    "model = DecisionTreeClassifier(random_state=0)\n",
    "# model = SVC(gamma='auto')\n",
    "# model = linear_model.Lasso(alpha=0.1)"
   ]
  },
  {
   "cell_type": "markdown",
   "metadata": {},
   "source": [
    "Entainement du modèle"
   ]
  },
  {
   "cell_type": "code",
   "execution_count": null,
   "metadata": {},
   "outputs": [],
   "source": [
    "model = model.fit(x_train, y_train)"
   ]
  },
  {
   "cell_type": "markdown",
   "metadata": {},
   "source": [
    "Matrice de confusion"
   ]
  },
  {
   "cell_type": "code",
   "execution_count": null,
   "metadata": {},
   "outputs": [],
   "source": [
    "from sklearn.metrics import confusion_matrix\n",
    "\n",
    "y_pred = model.predict(x_test)\n",
    "\n",
    "cf_matrix = confusion_matrix(y_test, y_pred)\n",
    "print(cf_matrix)"
   ]
  },
  {
   "cell_type": "markdown",
   "metadata": {},
   "source": [
    "Validation croisée"
   ]
  },
  {
   "cell_type": "code",
   "execution_count": null,
   "metadata": {},
   "outputs": [],
   "source": [
    "import matplotlib.pyplot as plt\n",
    "\n",
    "score = model.predict_proba(x_test)\n",
    "type(score)\n",
    "\n",
    "plt.hist(score[:, 0], bins=25, alpha=0.5, color=\"red\")\n",
    "plt.hist(score[:, 1], bins=25, alpha=0.5, color=\"blue\")\n",
    "\n",
    "plt.title(\"histogram of the score\")\n",
    "plt.legend([\"False\", \"True\"])\n",
    "\n",
    "plt.show()"
   ]
  },
  {
   "cell_type": "markdown",
   "metadata": {},
   "source": [
    "Courbe ROC"
   ]
  },
  {
   "cell_type": "code",
   "execution_count": null,
   "metadata": {},
   "outputs": [],
   "source": [
    "import numpy as np\n",
    "from sklearn.metrics import roc_curve\n",
    "from sklearn.metrics import RocCurveDisplay\n",
    "import matplotlib.pyplot as plt\n",
    "\n",
    "fpr, tpr, _ = roc_curve(y_test, score[:, 1], pos_label=1)\n",
    "print(fpr), print(tpr)\n",
    "roc_display = RocCurveDisplay(fpr=fpr, tpr=tpr).plot()\n",
    "plt.show()"
   ]
  },
  {
   "cell_type": "markdown",
   "metadata": {},
   "source": [
    "AUC"
   ]
  },
  {
   "cell_type": "code",
   "execution_count": null,
   "metadata": {},
   "outputs": [],
   "source": [
    "from sklearn.metrics import roc_auc_score\n",
    "\n",
    "roc_auc_score(y_test, score[:, 1], multi_class=\"ovr\")"
   ]
  },
  {
   "cell_type": "markdown",
   "metadata": {},
   "source": [
    "Validation croissée"
   ]
  },
  {
   "cell_type": "code",
   "execution_count": null,
   "metadata": {},
   "outputs": [],
   "source": [
    "from numpy import mean, std\n",
    "from sklearn.model_selection import KFold\n",
    "\n",
    "kf = KFold(n_splits=10, shuffle=True)\n",
    "\n",
    "best_area = 0\n",
    "best_model = None\n",
    "\n",
    "areas = []\n",
    "for i, (train_index, test_index) in enumerate(kf.split(X)):\n",
    "    model = DecisionTreeClassifier(max_depth=5)\n",
    "\n",
    "    model = model.fit(X.iloc[train_index], Y[train_index])\n",
    "\n",
    "    y_test_kf = Y[test_index]\n",
    "    score = model.predict_proba(X.iloc[test_index])\n",
    "\n",
    "    area = roc_auc_score(y_test_kf, score[:, 1])\n",
    "\n",
    "    areas.append(area)\n",
    "\n",
    "    if area > best_area:\n",
    "        best_area = area\n",
    "        best_model = model\n",
    "\n",
    "print(areas)\n",
    "areas = np.array(areas)\n",
    "print(\"mean :\", mean(areas), \"; std :\", std(areas))\n",
    "\n",
    "print(\"Best area :\", best_area)"
   ]
  },
  {
   "cell_type": "markdown",
   "metadata": {},
   "source": [
    "### Conclusion\n",
    "\n",
    "On obtient un score de 0.77 ce qui est plutôt bon. On peut donc conclure que notre modèle est satisfaisant.\n",
    "On peut donc prédire si un jour est un jour de la semaine ou du weekend à partir de la production et de la consommation d'énergie. Cela parait logique car on a pu observé précédement que la consomation et la produciton était plus faible en weekend (bien que la production varie toute l'année)."
   ]
  }
 ],
 "metadata": {
  "kernelspec": {
   "display_name": "Python 3",
   "language": "python",
   "name": "python3"
  },
  "language_info": {
   "codemirror_mode": {
    "name": "ipython",
    "version": 3
   },
   "file_extension": ".py",
   "mimetype": "text/x-python",
   "name": "python",
   "nbconvert_exporter": "python",
   "pygments_lexer": "ipython3",
   "version": "3.9.16"
  }
 },
 "nbformat": 4,
 "nbformat_minor": 2
}
