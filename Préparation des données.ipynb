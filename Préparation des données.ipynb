{
 "cells": [
  {
   "cell_type": "markdown",
   "metadata": {},
   "source": [
    "# Préparation des données"
   ]
  },
  {
   "cell_type": "markdown",
   "metadata": {},
   "source": [
    "Ce notebook présente les commandes utiles pour les principales tâches de préparation des données. Les données `notes.data` qui servent d'illustration sont des notes obtenues par des étudiants dans des matières."
   ]
  },
  {
   "cell_type": "code",
   "execution_count": 2,
   "metadata": {
    "scrolled": true
   },
   "outputs": [],
   "source": [
    "%matplotlib inline\n",
    "import pandas as pd\n",
    "pd.set_option('display.max_rows', 100)     #capacité maximale d'affichage à 100 lignes"
   ]
  },
  {
   "cell_type": "code",
   "execution_count": 11,
   "metadata": {
    "scrolled": true
   },
   "outputs": [
    {
     "name": "stderr",
     "output_type": "stream",
     "text": [
      "C:\\Users\\leagr\\AppData\\Local\\Temp\\ipykernel_5388\\1065841346.py:1: DtypeWarning: Columns (5,26,27,30,31,33,36,37,38,39) have mixed types. Specify dtype option on import or set low_memory=False.\n",
      "  df = pd.read_csv(\"eCO2mix_RTE_En-cours-TR.csv\", sep=\"\\t\", index_col=0, encoding='latin-1')\n"
     ]
    },
    {
     "data": {
      "text/html": [
       "<div>\n",
       "<style scoped>\n",
       "    .dataframe tbody tr th:only-of-type {\n",
       "        vertical-align: middle;\n",
       "    }\n",
       "\n",
       "    .dataframe tbody tr th {\n",
       "        vertical-align: top;\n",
       "    }\n",
       "\n",
       "    .dataframe thead th {\n",
       "        text-align: right;\n",
       "    }\n",
       "</style>\n",
       "<table border=\"1\" class=\"dataframe\">\n",
       "  <thead>\n",
       "    <tr style=\"text-align: right;\">\n",
       "      <th></th>\n",
       "      <th>Périmètre</th>\n",
       "      <th>Nature</th>\n",
       "      <th>Date</th>\n",
       "      <th>Heures</th>\n",
       "      <th>Consommation</th>\n",
       "      <th>Prévision J-1</th>\n",
       "      <th>Prévision J</th>\n",
       "      <th>Fioul</th>\n",
       "      <th>Charbon</th>\n",
       "      <th>Gaz</th>\n",
       "      <th>...</th>\n",
       "      <th>Hydraulique - Fil de l?eau + éclusée</th>\n",
       "      <th>Hydraulique - Lacs</th>\n",
       "      <th>Hydraulique - STEP turbinage</th>\n",
       "      <th>Bioénergies - Déchets</th>\n",
       "      <th>Bioénergies - Biomasse</th>\n",
       "      <th>Bioénergies - Biogaz</th>\n",
       "      <th>Stockage batterie</th>\n",
       "      <th>Déstockage batterie</th>\n",
       "      <th>Eolien terrestre</th>\n",
       "      <th>Eolien offshore</th>\n",
       "    </tr>\n",
       "  </thead>\n",
       "  <tbody>\n",
       "    <tr>\n",
       "      <th>France</th>\n",
       "      <td>Données temps réel</td>\n",
       "      <td>2022-06-01</td>\n",
       "      <td>00:00</td>\n",
       "      <td>44940.0</td>\n",
       "      <td>44800</td>\n",
       "      <td>45100.0</td>\n",
       "      <td>144.0</td>\n",
       "      <td>0.0</td>\n",
       "      <td>3596.0</td>\n",
       "      <td>30207.0</td>\n",
       "      <td>...</td>\n",
       "      <td>1054</td>\n",
       "      <td>1677.0</td>\n",
       "      <td>170</td>\n",
       "      <td>584.0</td>\n",
       "      <td>286.0</td>\n",
       "      <td>ND</td>\n",
       "      <td>ND</td>\n",
       "      <td>ND</td>\n",
       "      <td>ND</td>\n",
       "      <td>NaN</td>\n",
       "    </tr>\n",
       "    <tr>\n",
       "      <th>France</th>\n",
       "      <td>Données temps réel</td>\n",
       "      <td>2022-06-01</td>\n",
       "      <td>00:15</td>\n",
       "      <td>43967.0</td>\n",
       "      <td>43700</td>\n",
       "      <td>43900.0</td>\n",
       "      <td>144.0</td>\n",
       "      <td>0.0</td>\n",
       "      <td>3716.0</td>\n",
       "      <td>30337.0</td>\n",
       "      <td>...</td>\n",
       "      <td>1419</td>\n",
       "      <td>581.0</td>\n",
       "      <td>171</td>\n",
       "      <td>560.0</td>\n",
       "      <td>276.0</td>\n",
       "      <td>ND</td>\n",
       "      <td>ND</td>\n",
       "      <td>ND</td>\n",
       "      <td>ND</td>\n",
       "      <td>NaN</td>\n",
       "    </tr>\n",
       "    <tr>\n",
       "      <th>France</th>\n",
       "      <td>Données temps réel</td>\n",
       "      <td>2022-06-01</td>\n",
       "      <td>00:30</td>\n",
       "      <td>42514.0</td>\n",
       "      <td>42600</td>\n",
       "      <td>42700.0</td>\n",
       "      <td>142.0</td>\n",
       "      <td>0.0</td>\n",
       "      <td>2880.0</td>\n",
       "      <td>29746.0</td>\n",
       "      <td>...</td>\n",
       "      <td>1280</td>\n",
       "      <td>530.0</td>\n",
       "      <td>169</td>\n",
       "      <td>561.0</td>\n",
       "      <td>276.0</td>\n",
       "      <td>ND</td>\n",
       "      <td>ND</td>\n",
       "      <td>ND</td>\n",
       "      <td>ND</td>\n",
       "      <td>NaN</td>\n",
       "    </tr>\n",
       "    <tr>\n",
       "      <th>France</th>\n",
       "      <td>Données temps réel</td>\n",
       "      <td>2022-06-01</td>\n",
       "      <td>00:45</td>\n",
       "      <td>41073.0</td>\n",
       "      <td>41450</td>\n",
       "      <td>41600.0</td>\n",
       "      <td>143.0</td>\n",
       "      <td>0.0</td>\n",
       "      <td>2699.0</td>\n",
       "      <td>29230.0</td>\n",
       "      <td>...</td>\n",
       "      <td>1120</td>\n",
       "      <td>361.0</td>\n",
       "      <td>170</td>\n",
       "      <td>563.0</td>\n",
       "      <td>276.0</td>\n",
       "      <td>ND</td>\n",
       "      <td>ND</td>\n",
       "      <td>ND</td>\n",
       "      <td>ND</td>\n",
       "      <td>NaN</td>\n",
       "    </tr>\n",
       "    <tr>\n",
       "      <th>France</th>\n",
       "      <td>Données temps réel</td>\n",
       "      <td>2022-06-01</td>\n",
       "      <td>01:00</td>\n",
       "      <td>40359.0</td>\n",
       "      <td>40300</td>\n",
       "      <td>40500.0</td>\n",
       "      <td>144.0</td>\n",
       "      <td>3.0</td>\n",
       "      <td>2718.0</td>\n",
       "      <td>29019.0</td>\n",
       "      <td>...</td>\n",
       "      <td>1101</td>\n",
       "      <td>373.0</td>\n",
       "      <td>170</td>\n",
       "      <td>563.0</td>\n",
       "      <td>276.0</td>\n",
       "      <td>ND</td>\n",
       "      <td>ND</td>\n",
       "      <td>ND</td>\n",
       "      <td>ND</td>\n",
       "      <td>NaN</td>\n",
       "    </tr>\n",
       "    <tr>\n",
       "      <th>...</th>\n",
       "      <td>...</td>\n",
       "      <td>...</td>\n",
       "      <td>...</td>\n",
       "      <td>...</td>\n",
       "      <td>...</td>\n",
       "      <td>...</td>\n",
       "      <td>...</td>\n",
       "      <td>...</td>\n",
       "      <td>...</td>\n",
       "      <td>...</td>\n",
       "      <td>...</td>\n",
       "      <td>...</td>\n",
       "      <td>...</td>\n",
       "      <td>...</td>\n",
       "      <td>...</td>\n",
       "      <td>...</td>\n",
       "      <td>...</td>\n",
       "      <td>...</td>\n",
       "      <td>...</td>\n",
       "      <td>...</td>\n",
       "      <td>...</td>\n",
       "    </tr>\n",
       "    <tr>\n",
       "      <th>France</th>\n",
       "      <td>Données temps réel</td>\n",
       "      <td>2023-12-01</td>\n",
       "      <td>23:00</td>\n",
       "      <td>NaN</td>\n",
       "      <td>ND</td>\n",
       "      <td>NaN</td>\n",
       "      <td>NaN</td>\n",
       "      <td>NaN</td>\n",
       "      <td>NaN</td>\n",
       "      <td>NaN</td>\n",
       "      <td>...</td>\n",
       "      <td>NaN</td>\n",
       "      <td>NaN</td>\n",
       "      <td>NaN</td>\n",
       "      <td>NaN</td>\n",
       "      <td>NaN</td>\n",
       "      <td>NaN</td>\n",
       "      <td>NaN</td>\n",
       "      <td>NaN</td>\n",
       "      <td>NaN</td>\n",
       "      <td>NaN</td>\n",
       "    </tr>\n",
       "    <tr>\n",
       "      <th>France</th>\n",
       "      <td>Données temps réel</td>\n",
       "      <td>2023-12-01</td>\n",
       "      <td>23:15</td>\n",
       "      <td>NaN</td>\n",
       "      <td>ND</td>\n",
       "      <td>NaN</td>\n",
       "      <td>NaN</td>\n",
       "      <td>NaN</td>\n",
       "      <td>NaN</td>\n",
       "      <td>NaN</td>\n",
       "      <td>...</td>\n",
       "      <td>NaN</td>\n",
       "      <td>NaN</td>\n",
       "      <td>NaN</td>\n",
       "      <td>NaN</td>\n",
       "      <td>NaN</td>\n",
       "      <td>NaN</td>\n",
       "      <td>NaN</td>\n",
       "      <td>NaN</td>\n",
       "      <td>NaN</td>\n",
       "      <td>NaN</td>\n",
       "    </tr>\n",
       "    <tr>\n",
       "      <th>France</th>\n",
       "      <td>Données temps réel</td>\n",
       "      <td>2023-12-01</td>\n",
       "      <td>23:30</td>\n",
       "      <td>NaN</td>\n",
       "      <td>ND</td>\n",
       "      <td>NaN</td>\n",
       "      <td>NaN</td>\n",
       "      <td>NaN</td>\n",
       "      <td>NaN</td>\n",
       "      <td>NaN</td>\n",
       "      <td>...</td>\n",
       "      <td>NaN</td>\n",
       "      <td>NaN</td>\n",
       "      <td>NaN</td>\n",
       "      <td>NaN</td>\n",
       "      <td>NaN</td>\n",
       "      <td>NaN</td>\n",
       "      <td>NaN</td>\n",
       "      <td>NaN</td>\n",
       "      <td>NaN</td>\n",
       "      <td>NaN</td>\n",
       "    </tr>\n",
       "    <tr>\n",
       "      <th>France</th>\n",
       "      <td>Données temps réel</td>\n",
       "      <td>2023-12-01</td>\n",
       "      <td>23:45</td>\n",
       "      <td>NaN</td>\n",
       "      <td>ND</td>\n",
       "      <td>NaN</td>\n",
       "      <td>NaN</td>\n",
       "      <td>NaN</td>\n",
       "      <td>NaN</td>\n",
       "      <td>NaN</td>\n",
       "      <td>...</td>\n",
       "      <td>NaN</td>\n",
       "      <td>NaN</td>\n",
       "      <td>NaN</td>\n",
       "      <td>NaN</td>\n",
       "      <td>NaN</td>\n",
       "      <td>NaN</td>\n",
       "      <td>NaN</td>\n",
       "      <td>NaN</td>\n",
       "      <td>NaN</td>\n",
       "      <td>NaN</td>\n",
       "    </tr>\n",
       "    <tr>\n",
       "      <th>RTE ne pourra être tenu responsable de l'usage qui pourrait être fait des données mises à disposition, ni en cas de prévisions qui se révèleraient imprécises.</th>\n",
       "      <td>NaN</td>\n",
       "      <td>NaN</td>\n",
       "      <td>NaN</td>\n",
       "      <td>NaN</td>\n",
       "      <td>NaN</td>\n",
       "      <td>NaN</td>\n",
       "      <td>NaN</td>\n",
       "      <td>NaN</td>\n",
       "      <td>NaN</td>\n",
       "      <td>NaN</td>\n",
       "      <td>...</td>\n",
       "      <td>NaN</td>\n",
       "      <td>NaN</td>\n",
       "      <td>NaN</td>\n",
       "      <td>NaN</td>\n",
       "      <td>NaN</td>\n",
       "      <td>NaN</td>\n",
       "      <td>NaN</td>\n",
       "      <td>NaN</td>\n",
       "      <td>NaN</td>\n",
       "      <td>NaN</td>\n",
       "    </tr>\n",
       "  </tbody>\n",
       "</table>\n",
       "<p>52705 rows × 40 columns</p>\n",
       "</div>"
      ],
      "text/plain": [
       "                                                             Périmètre  \\\n",
       "France                                              Données temps réel   \n",
       "France                                              Données temps réel   \n",
       "France                                              Données temps réel   \n",
       "France                                              Données temps réel   \n",
       "France                                              Données temps réel   \n",
       "...                                                                ...   \n",
       "France                                              Données temps réel   \n",
       "France                                              Données temps réel   \n",
       "France                                              Données temps réel   \n",
       "France                                              Données temps réel   \n",
       "RTE ne pourra être tenu responsable de l'usage ...                 NaN   \n",
       "\n",
       "                                                        Nature   Date  \\\n",
       "France                                              2022-06-01  00:00   \n",
       "France                                              2022-06-01  00:15   \n",
       "France                                              2022-06-01  00:30   \n",
       "France                                              2022-06-01  00:45   \n",
       "France                                              2022-06-01  01:00   \n",
       "...                                                        ...    ...   \n",
       "France                                              2023-12-01  23:00   \n",
       "France                                              2023-12-01  23:15   \n",
       "France                                              2023-12-01  23:30   \n",
       "France                                              2023-12-01  23:45   \n",
       "RTE ne pourra être tenu responsable de l'usage ...         NaN    NaN   \n",
       "\n",
       "                                                     Heures Consommation  \\\n",
       "France                                              44940.0        44800   \n",
       "France                                              43967.0        43700   \n",
       "France                                              42514.0        42600   \n",
       "France                                              41073.0        41450   \n",
       "France                                              40359.0        40300   \n",
       "...                                                     ...          ...   \n",
       "France                                                  NaN           ND   \n",
       "France                                                  NaN           ND   \n",
       "France                                                  NaN           ND   \n",
       "France                                                  NaN           ND   \n",
       "RTE ne pourra être tenu responsable de l'usage ...      NaN          NaN   \n",
       "\n",
       "                                                    Prévision J-1  \\\n",
       "France                                                    45100.0   \n",
       "France                                                    43900.0   \n",
       "France                                                    42700.0   \n",
       "France                                                    41600.0   \n",
       "France                                                    40500.0   \n",
       "...                                                           ...   \n",
       "France                                                        NaN   \n",
       "France                                                        NaN   \n",
       "France                                                        NaN   \n",
       "France                                                        NaN   \n",
       "RTE ne pourra être tenu responsable de l'usage ...            NaN   \n",
       "\n",
       "                                                    Prévision J  Fioul  \\\n",
       "France                                                    144.0    0.0   \n",
       "France                                                    144.0    0.0   \n",
       "France                                                    142.0    0.0   \n",
       "France                                                    143.0    0.0   \n",
       "France                                                    144.0    3.0   \n",
       "...                                                         ...    ...   \n",
       "France                                                      NaN    NaN   \n",
       "France                                                      NaN    NaN   \n",
       "France                                                      NaN    NaN   \n",
       "France                                                      NaN    NaN   \n",
       "RTE ne pourra être tenu responsable de l'usage ...          NaN    NaN   \n",
       "\n",
       "                                                    Charbon      Gaz  ...  \\\n",
       "France                                               3596.0  30207.0  ...   \n",
       "France                                               3716.0  30337.0  ...   \n",
       "France                                               2880.0  29746.0  ...   \n",
       "France                                               2699.0  29230.0  ...   \n",
       "France                                               2718.0  29019.0  ...   \n",
       "...                                                     ...      ...  ...   \n",
       "France                                                  NaN      NaN  ...   \n",
       "France                                                  NaN      NaN  ...   \n",
       "France                                                  NaN      NaN  ...   \n",
       "France                                                  NaN      NaN  ...   \n",
       "RTE ne pourra être tenu responsable de l'usage ...      NaN      NaN  ...   \n",
       "\n",
       "                                                    Hydraulique - Fil de l?eau + éclusée  \\\n",
       "France                                                                              1054   \n",
       "France                                                                              1419   \n",
       "France                                                                              1280   \n",
       "France                                                                              1120   \n",
       "France                                                                              1101   \n",
       "...                                                                                  ...   \n",
       "France                                                                               NaN   \n",
       "France                                                                               NaN   \n",
       "France                                                                               NaN   \n",
       "France                                                                               NaN   \n",
       "RTE ne pourra être tenu responsable de l'usage ...                                   NaN   \n",
       "\n",
       "                                                    Hydraulique - Lacs  \\\n",
       "France                                                          1677.0   \n",
       "France                                                           581.0   \n",
       "France                                                           530.0   \n",
       "France                                                           361.0   \n",
       "France                                                           373.0   \n",
       "...                                                                ...   \n",
       "France                                                             NaN   \n",
       "France                                                             NaN   \n",
       "France                                                             NaN   \n",
       "France                                                             NaN   \n",
       "RTE ne pourra être tenu responsable de l'usage ...                 NaN   \n",
       "\n",
       "                                                    Hydraulique - STEP turbinage  \\\n",
       "France                                                                       170   \n",
       "France                                                                       171   \n",
       "France                                                                       169   \n",
       "France                                                                       170   \n",
       "France                                                                       170   \n",
       "...                                                                          ...   \n",
       "France                                                                       NaN   \n",
       "France                                                                       NaN   \n",
       "France                                                                       NaN   \n",
       "France                                                                       NaN   \n",
       "RTE ne pourra être tenu responsable de l'usage ...                           NaN   \n",
       "\n",
       "                                                    Bioénergies - Déchets  \\\n",
       "France                                                              584.0   \n",
       "France                                                              560.0   \n",
       "France                                                              561.0   \n",
       "France                                                              563.0   \n",
       "France                                                              563.0   \n",
       "...                                                                   ...   \n",
       "France                                                                NaN   \n",
       "France                                                                NaN   \n",
       "France                                                                NaN   \n",
       "France                                                                NaN   \n",
       "RTE ne pourra être tenu responsable de l'usage ...                    NaN   \n",
       "\n",
       "                                                    Bioénergies - Biomasse  \\\n",
       "France                                                               286.0   \n",
       "France                                                               276.0   \n",
       "France                                                               276.0   \n",
       "France                                                               276.0   \n",
       "France                                                               276.0   \n",
       "...                                                                    ...   \n",
       "France                                                                 NaN   \n",
       "France                                                                 NaN   \n",
       "France                                                                 NaN   \n",
       "France                                                                 NaN   \n",
       "RTE ne pourra être tenu responsable de l'usage ...                     NaN   \n",
       "\n",
       "                                                    Bioénergies - Biogaz  \\\n",
       "France                                                                ND   \n",
       "France                                                                ND   \n",
       "France                                                                ND   \n",
       "France                                                                ND   \n",
       "France                                                                ND   \n",
       "...                                                                  ...   \n",
       "France                                                               NaN   \n",
       "France                                                               NaN   \n",
       "France                                                               NaN   \n",
       "France                                                               NaN   \n",
       "RTE ne pourra être tenu responsable de l'usage ...                   NaN   \n",
       "\n",
       "                                                     Stockage batterie  \\\n",
       "France                                                              ND   \n",
       "France                                                              ND   \n",
       "France                                                              ND   \n",
       "France                                                              ND   \n",
       "France                                                              ND   \n",
       "...                                                                ...   \n",
       "France                                                             NaN   \n",
       "France                                                             NaN   \n",
       "France                                                             NaN   \n",
       "France                                                             NaN   \n",
       "RTE ne pourra être tenu responsable de l'usage ...                 NaN   \n",
       "\n",
       "                                                    Déstockage batterie  \\\n",
       "France                                                               ND   \n",
       "France                                                               ND   \n",
       "France                                                               ND   \n",
       "France                                                               ND   \n",
       "France                                                               ND   \n",
       "...                                                                 ...   \n",
       "France                                                              NaN   \n",
       "France                                                              NaN   \n",
       "France                                                              NaN   \n",
       "France                                                              NaN   \n",
       "RTE ne pourra être tenu responsable de l'usage ...                  NaN   \n",
       "\n",
       "                                                    Eolien terrestre  \\\n",
       "France                                                            ND   \n",
       "France                                                            ND   \n",
       "France                                                            ND   \n",
       "France                                                            ND   \n",
       "France                                                            ND   \n",
       "...                                                              ...   \n",
       "France                                                           NaN   \n",
       "France                                                           NaN   \n",
       "France                                                           NaN   \n",
       "France                                                           NaN   \n",
       "RTE ne pourra être tenu responsable de l'usage ...               NaN   \n",
       "\n",
       "                                                    Eolien offshore  \n",
       "France                                                          NaN  \n",
       "France                                                          NaN  \n",
       "France                                                          NaN  \n",
       "France                                                          NaN  \n",
       "France                                                          NaN  \n",
       "...                                                             ...  \n",
       "France                                                          NaN  \n",
       "France                                                          NaN  \n",
       "France                                                          NaN  \n",
       "France                                                          NaN  \n",
       "RTE ne pourra être tenu responsable de l'usage ...              NaN  \n",
       "\n",
       "[52705 rows x 40 columns]"
      ]
     },
     "execution_count": 11,
     "metadata": {},
     "output_type": "execute_result"
    }
   ],
   "source": [
    "df = pd.read_csv(\"eCO2mix_RTE_En-cours-TR.csv\", sep=\"\\t\", index_col=0, encoding='latin-1')\n",
    "df"
   ]
  },
  {
   "cell_type": "code",
   "execution_count": 25,
   "metadata": {
    "scrolled": true
   },
   "outputs": [
    {
     "data": {
      "text/plain": [
       "Périmètre                                object\n",
       "Nature                                   object\n",
       "Date                                     object\n",
       "Heures                                  float64\n",
       "Consommation                             object\n",
       "Prévision J-1                           float64\n",
       "Prévision J                             float64\n",
       "Fioul                                   float64\n",
       "Charbon                                 float64\n",
       "Gaz                                     float64\n",
       "Nucléaire                               float64\n",
       "Eolien                                  float64\n",
       "Solaire                                 float64\n",
       "Hydraulique                             float64\n",
       "Pompage                                 float64\n",
       "Bioénergies                             float64\n",
       "Ech. physiques                          float64\n",
       "Taux de Co2                             float64\n",
       "Ech. comm. Angleterre                   float64\n",
       "Ech. comm. Espagne                      float64\n",
       "Ech. comm. Italie                       float64\n",
       "Ech. comm. Suisse                       float64\n",
       "Ech. comm. Allemagne-Belgique           float64\n",
       "Fioul - TAC                             float64\n",
       "Fioul - Cogén.                          float64\n",
       "Fioul - Autres                           object\n",
       "Gaz - TAC                                object\n",
       "Gaz - Cogén.                            float64\n",
       "Gaz - CCG                               float64\n",
       "Gaz - Autres                             object\n",
       "Hydraulique - Fil de l?eau + éclusée     object\n",
       "Hydraulique - Lacs                      float64\n",
       "Hydraulique - STEP turbinage             object\n",
       "Bioénergies - Déchets                   float64\n",
       "Bioénergies - Biomasse                  float64\n",
       "Bioénergies - Biogaz                     object\n",
       " Stockage batterie                       object\n",
       "Déstockage batterie                      object\n",
       "Eolien terrestre                         object\n",
       "Eolien offshore                         float64\n",
       "dtype: object"
      ]
     },
     "execution_count": 25,
     "metadata": {},
     "output_type": "execute_result"
    }
   ],
   "source": [
    "df.shape\n",
    "\n",
    "df.dtypes"
   ]
  },
  {
   "cell_type": "code",
   "execution_count": 14,
   "metadata": {
    "scrolled": true
   },
   "outputs": [
    {
     "data": {
      "text/plain": [
       "Périmètre                               52704\n",
       "Nature                                  52704\n",
       "Date                                    52704\n",
       "Heures                                  52479\n",
       "Consommation                            52704\n",
       "Prévision J-1                           52512\n",
       "Prévision J                             52479\n",
       "Fioul                                   52479\n",
       "Charbon                                 52479\n",
       "Gaz                                     52479\n",
       "Nucléaire                               52479\n",
       "Eolien                                  52479\n",
       "Solaire                                 52479\n",
       "Hydraulique                             52479\n",
       "Pompage                                 52479\n",
       "Bioénergies                             52479\n",
       "Ech. physiques                          52479\n",
       "Taux de Co2                             26256\n",
       "Ech. comm. Angleterre                   26256\n",
       "Ech. comm. Espagne                      26256\n",
       "Ech. comm. Italie                       26256\n",
       "Ech. comm. Suisse                       26256\n",
       "Ech. comm. Allemagne-Belgique           52479\n",
       "Fioul - TAC                             52479\n",
       "Fioul - Cogén.                          52479\n",
       "Fioul - Autres                          52479\n",
       "Gaz - TAC                               52479\n",
       "Gaz - Cogén.                            52479\n",
       "Gaz - CCG                               52479\n",
       "Gaz - Autres                            52479\n",
       "Hydraulique - Fil de l?eau + éclusée    52479\n",
       "Hydraulique - Lacs                      52479\n",
       "Hydraulique - STEP turbinage            52479\n",
       "Bioénergies - Déchets                   52479\n",
       "Bioénergies - Biomasse                  52479\n",
       "Bioénergies - Biogaz                    52479\n",
       " Stockage batterie                      52479\n",
       "Déstockage batterie                     52479\n",
       "Eolien terrestre                        52479\n",
       "Eolien offshore                             0\n",
       "dtype: int64"
      ]
     },
     "execution_count": 14,
     "metadata": {},
     "output_type": "execute_result"
    }
   ],
   "source": [
    "df.count()"
   ]
  },
  {
   "cell_type": "code",
   "execution_count": 13,
   "metadata": {
    "scrolled": true
   },
   "outputs": [
    {
     "data": {
      "text/plain": [
       "Périmètre                                   1\n",
       "Nature                                    549\n",
       "Date                                       96\n",
       "Heures                                  26699\n",
       "Consommation                             1973\n",
       "Prévision J-1                            2035\n",
       "Prévision J                              1147\n",
       "Fioul                                    1594\n",
       "Charbon                                  8782\n",
       "Gaz                                     20068\n",
       "Nucléaire                               12250\n",
       "Eolien                                  10009\n",
       "Solaire                                  9844\n",
       "Hydraulique                              3592\n",
       "Pompage                                   654\n",
       "Bioénergies                             21093\n",
       "Ech. physiques                            110\n",
       "Taux de Co2                              5255\n",
       "Ech. comm. Angleterre                    3032\n",
       "Ech. comm. Espagne                       3619\n",
       "Ech. comm. Italie                        4128\n",
       "Ech. comm. Suisse                       11627\n",
       "Ech. comm. Allemagne-Belgique            1079\n",
       "Fioul - TAC                                33\n",
       "Fioul - Cogén.                             36\n",
       "Fioul - Autres                            841\n",
       "Gaz - TAC                                3003\n",
       "Gaz - Cogén.                             6427\n",
       "Gaz - CCG                                   4\n",
       "Gaz - Autres                             9354\n",
       "Hydraulique - Fil de l?eau + éclusée     7580\n",
       "Hydraulique - Lacs                       3381\n",
       "Hydraulique - STEP turbinage              336\n",
       "Bioénergies - Déchets                     443\n",
       "Bioénergies - Biomasse                     31\n",
       "Bioénergies - Biogaz                       91\n",
       " Stockage batterie                         60\n",
       "Déstockage batterie                      8269\n",
       "Eolien terrestre                         1362\n",
       "Eolien offshore                             0\n",
       "dtype: int64"
      ]
     },
     "execution_count": 13,
     "metadata": {},
     "output_type": "execute_result"
    }
   ],
   "source": [
    "df.nunique()    # surtout utile pour les variables catégoriques"
   ]
  },
  {
   "cell_type": "markdown",
   "metadata": {},
   "source": [
    "<br>\n",
    "\n",
    "## 1. Sélectionner les enregistrements"
   ]
  },
  {
   "cell_type": "markdown",
   "metadata": {},
   "source": [
    "### Sélection"
   ]
  },
  {
   "cell_type": "markdown",
   "metadata": {},
   "source": [
    "Utilisez la fonction `query()` pour filtrer les enregistrements selon un critère booléen"
   ]
  },
  {
   "cell_type": "code",
   "execution_count": 30,
   "metadata": {},
   "outputs": [
    {
     "data": {
      "text/plain": [
       "France    3596.0\n",
       "France    3716.0\n",
       "France    2880.0\n",
       "France    2699.0\n",
       "France    2718.0\n",
       "Name: Charbon, dtype: float64"
      ]
     },
     "execution_count": 30,
     "metadata": {},
     "output_type": "execute_result"
    }
   ],
   "source": [
    "charbon = df[\"Charbon\"]\n",
    "charbon.head()"
   ]
  },
  {
   "cell_type": "code",
   "execution_count": 27,
   "metadata": {
    "scrolled": true
   },
   "outputs": [
    {
     "data": {
      "text/html": [
       "<div>\n",
       "<style scoped>\n",
       "    .dataframe tbody tr th:only-of-type {\n",
       "        vertical-align: middle;\n",
       "    }\n",
       "\n",
       "    .dataframe tbody tr th {\n",
       "        vertical-align: top;\n",
       "    }\n",
       "\n",
       "    .dataframe thead th {\n",
       "        text-align: right;\n",
       "    }\n",
       "</style>\n",
       "<table border=\"1\" class=\"dataframe\">\n",
       "  <thead>\n",
       "    <tr style=\"text-align: right;\">\n",
       "      <th></th>\n",
       "      <th>Périmètre</th>\n",
       "      <th>Nature</th>\n",
       "      <th>Date</th>\n",
       "      <th>Heures</th>\n",
       "      <th>Consommation</th>\n",
       "      <th>Prévision J-1</th>\n",
       "      <th>Prévision J</th>\n",
       "      <th>Fioul</th>\n",
       "      <th>Charbon</th>\n",
       "      <th>Gaz</th>\n",
       "      <th>...</th>\n",
       "      <th>Hydraulique - Fil de l?eau + éclusée</th>\n",
       "      <th>Hydraulique - Lacs</th>\n",
       "      <th>Hydraulique - STEP turbinage</th>\n",
       "      <th>Bioénergies - Déchets</th>\n",
       "      <th>Bioénergies - Biomasse</th>\n",
       "      <th>Bioénergies - Biogaz</th>\n",
       "      <th>Stockage batterie</th>\n",
       "      <th>Déstockage batterie</th>\n",
       "      <th>Eolien terrestre</th>\n",
       "      <th>Eolien offshore</th>\n",
       "    </tr>\n",
       "  </thead>\n",
       "  <tbody>\n",
       "    <tr>\n",
       "      <th>France</th>\n",
       "      <td>Données temps réel</td>\n",
       "      <td>2022-06-01</td>\n",
       "      <td>00:00</td>\n",
       "      <td>44940.0</td>\n",
       "      <td>44800</td>\n",
       "      <td>45100.0</td>\n",
       "      <td>144.0</td>\n",
       "      <td>0.0</td>\n",
       "      <td>3596.0</td>\n",
       "      <td>30207.0</td>\n",
       "      <td>...</td>\n",
       "      <td>1054</td>\n",
       "      <td>1677.0</td>\n",
       "      <td>170</td>\n",
       "      <td>584.0</td>\n",
       "      <td>286.0</td>\n",
       "      <td>ND</td>\n",
       "      <td>ND</td>\n",
       "      <td>ND</td>\n",
       "      <td>ND</td>\n",
       "      <td>NaN</td>\n",
       "    </tr>\n",
       "    <tr>\n",
       "      <th>France</th>\n",
       "      <td>Données temps réel</td>\n",
       "      <td>2022-06-01</td>\n",
       "      <td>00:15</td>\n",
       "      <td>43967.0</td>\n",
       "      <td>43700</td>\n",
       "      <td>43900.0</td>\n",
       "      <td>144.0</td>\n",
       "      <td>0.0</td>\n",
       "      <td>3716.0</td>\n",
       "      <td>30337.0</td>\n",
       "      <td>...</td>\n",
       "      <td>1419</td>\n",
       "      <td>581.0</td>\n",
       "      <td>171</td>\n",
       "      <td>560.0</td>\n",
       "      <td>276.0</td>\n",
       "      <td>ND</td>\n",
       "      <td>ND</td>\n",
       "      <td>ND</td>\n",
       "      <td>ND</td>\n",
       "      <td>NaN</td>\n",
       "    </tr>\n",
       "    <tr>\n",
       "      <th>France</th>\n",
       "      <td>Données temps réel</td>\n",
       "      <td>2022-06-01</td>\n",
       "      <td>00:30</td>\n",
       "      <td>42514.0</td>\n",
       "      <td>42600</td>\n",
       "      <td>42700.0</td>\n",
       "      <td>142.0</td>\n",
       "      <td>0.0</td>\n",
       "      <td>2880.0</td>\n",
       "      <td>29746.0</td>\n",
       "      <td>...</td>\n",
       "      <td>1280</td>\n",
       "      <td>530.0</td>\n",
       "      <td>169</td>\n",
       "      <td>561.0</td>\n",
       "      <td>276.0</td>\n",
       "      <td>ND</td>\n",
       "      <td>ND</td>\n",
       "      <td>ND</td>\n",
       "      <td>ND</td>\n",
       "      <td>NaN</td>\n",
       "    </tr>\n",
       "    <tr>\n",
       "      <th>France</th>\n",
       "      <td>Données temps réel</td>\n",
       "      <td>2022-06-01</td>\n",
       "      <td>00:45</td>\n",
       "      <td>41073.0</td>\n",
       "      <td>41450</td>\n",
       "      <td>41600.0</td>\n",
       "      <td>143.0</td>\n",
       "      <td>0.0</td>\n",
       "      <td>2699.0</td>\n",
       "      <td>29230.0</td>\n",
       "      <td>...</td>\n",
       "      <td>1120</td>\n",
       "      <td>361.0</td>\n",
       "      <td>170</td>\n",
       "      <td>563.0</td>\n",
       "      <td>276.0</td>\n",
       "      <td>ND</td>\n",
       "      <td>ND</td>\n",
       "      <td>ND</td>\n",
       "      <td>ND</td>\n",
       "      <td>NaN</td>\n",
       "    </tr>\n",
       "    <tr>\n",
       "      <th>France</th>\n",
       "      <td>Données temps réel</td>\n",
       "      <td>2022-06-01</td>\n",
       "      <td>01:00</td>\n",
       "      <td>40359.0</td>\n",
       "      <td>40300</td>\n",
       "      <td>40500.0</td>\n",
       "      <td>144.0</td>\n",
       "      <td>3.0</td>\n",
       "      <td>2718.0</td>\n",
       "      <td>29019.0</td>\n",
       "      <td>...</td>\n",
       "      <td>1101</td>\n",
       "      <td>373.0</td>\n",
       "      <td>170</td>\n",
       "      <td>563.0</td>\n",
       "      <td>276.0</td>\n",
       "      <td>ND</td>\n",
       "      <td>ND</td>\n",
       "      <td>ND</td>\n",
       "      <td>ND</td>\n",
       "      <td>NaN</td>\n",
       "    </tr>\n",
       "    <tr>\n",
       "      <th>...</th>\n",
       "      <td>...</td>\n",
       "      <td>...</td>\n",
       "      <td>...</td>\n",
       "      <td>...</td>\n",
       "      <td>...</td>\n",
       "      <td>...</td>\n",
       "      <td>...</td>\n",
       "      <td>...</td>\n",
       "      <td>...</td>\n",
       "      <td>...</td>\n",
       "      <td>...</td>\n",
       "      <td>...</td>\n",
       "      <td>...</td>\n",
       "      <td>...</td>\n",
       "      <td>...</td>\n",
       "      <td>...</td>\n",
       "      <td>...</td>\n",
       "      <td>...</td>\n",
       "      <td>...</td>\n",
       "      <td>...</td>\n",
       "      <td>...</td>\n",
       "    </tr>\n",
       "    <tr>\n",
       "      <th>France</th>\n",
       "      <td>Données temps réel</td>\n",
       "      <td>2023-11-29</td>\n",
       "      <td>14:30</td>\n",
       "      <td>64161.0</td>\n",
       "      <td>65900</td>\n",
       "      <td>64400.0</td>\n",
       "      <td>179.0</td>\n",
       "      <td>1.0</td>\n",
       "      <td>7819.0</td>\n",
       "      <td>43250.0</td>\n",
       "      <td>...</td>\n",
       "      <td>3444.0</td>\n",
       "      <td>1261.0</td>\n",
       "      <td>76.0</td>\n",
       "      <td>515.0</td>\n",
       "      <td>246.0</td>\n",
       "      <td>-5.0</td>\n",
       "      <td>0.0</td>\n",
       "      <td>1255.0</td>\n",
       "      <td>118.0</td>\n",
       "      <td>NaN</td>\n",
       "    </tr>\n",
       "    <tr>\n",
       "      <th>France</th>\n",
       "      <td>Données temps réel</td>\n",
       "      <td>2023-11-29</td>\n",
       "      <td>14:45</td>\n",
       "      <td>64239.0</td>\n",
       "      <td>65600</td>\n",
       "      <td>64100.0</td>\n",
       "      <td>179.0</td>\n",
       "      <td>1.0</td>\n",
       "      <td>7905.0</td>\n",
       "      <td>43255.0</td>\n",
       "      <td>...</td>\n",
       "      <td>3726.0</td>\n",
       "      <td>1580.0</td>\n",
       "      <td>73.0</td>\n",
       "      <td>519.0</td>\n",
       "      <td>246.0</td>\n",
       "      <td>-3.0</td>\n",
       "      <td>11.0</td>\n",
       "      <td>1295.0</td>\n",
       "      <td>125.0</td>\n",
       "      <td>NaN</td>\n",
       "    </tr>\n",
       "    <tr>\n",
       "      <th>France</th>\n",
       "      <td>Données temps réel</td>\n",
       "      <td>2023-11-29</td>\n",
       "      <td>15:00</td>\n",
       "      <td>64370.0</td>\n",
       "      <td>65300</td>\n",
       "      <td>63800.0</td>\n",
       "      <td>178.0</td>\n",
       "      <td>2.0</td>\n",
       "      <td>7914.0</td>\n",
       "      <td>43253.0</td>\n",
       "      <td>...</td>\n",
       "      <td>3667.0</td>\n",
       "      <td>1903.0</td>\n",
       "      <td>76.0</td>\n",
       "      <td>507.0</td>\n",
       "      <td>246.0</td>\n",
       "      <td>-5.0</td>\n",
       "      <td>13.0</td>\n",
       "      <td>1274.0</td>\n",
       "      <td>121.0</td>\n",
       "      <td>NaN</td>\n",
       "    </tr>\n",
       "    <tr>\n",
       "      <th>France</th>\n",
       "      <td>Données temps réel</td>\n",
       "      <td>2023-11-29</td>\n",
       "      <td>15:15</td>\n",
       "      <td>64097.0</td>\n",
       "      <td>65100</td>\n",
       "      <td>63600.0</td>\n",
       "      <td>178.0</td>\n",
       "      <td>100.0</td>\n",
       "      <td>8281.0</td>\n",
       "      <td>43179.0</td>\n",
       "      <td>...</td>\n",
       "      <td>3535.0</td>\n",
       "      <td>1763.0</td>\n",
       "      <td>75.0</td>\n",
       "      <td>506.0</td>\n",
       "      <td>246.0</td>\n",
       "      <td>-4.0</td>\n",
       "      <td>3.0</td>\n",
       "      <td>1254.0</td>\n",
       "      <td>133.0</td>\n",
       "      <td>NaN</td>\n",
       "    </tr>\n",
       "    <tr>\n",
       "      <th>France</th>\n",
       "      <td>Données temps réel</td>\n",
       "      <td>2023-11-29</td>\n",
       "      <td>15:30</td>\n",
       "      <td>63678.0</td>\n",
       "      <td>64900</td>\n",
       "      <td>63400.0</td>\n",
       "      <td>179.0</td>\n",
       "      <td>150.0</td>\n",
       "      <td>8333.0</td>\n",
       "      <td>43206.0</td>\n",
       "      <td>...</td>\n",
       "      <td>3647.0</td>\n",
       "      <td>2150.0</td>\n",
       "      <td>78.0</td>\n",
       "      <td>509.0</td>\n",
       "      <td>246.0</td>\n",
       "      <td>-4.0</td>\n",
       "      <td>0.0</td>\n",
       "      <td>1269.0</td>\n",
       "      <td>115.0</td>\n",
       "      <td>NaN</td>\n",
       "    </tr>\n",
       "  </tbody>\n",
       "</table>\n",
       "<p>52479 rows × 40 columns</p>\n",
       "</div>"
      ],
      "text/plain": [
       "                 Périmètre      Nature   Date   Heures Consommation  \\\n",
       "France  Données temps réel  2022-06-01  00:00  44940.0        44800   \n",
       "France  Données temps réel  2022-06-01  00:15  43967.0        43700   \n",
       "France  Données temps réel  2022-06-01  00:30  42514.0        42600   \n",
       "France  Données temps réel  2022-06-01  00:45  41073.0        41450   \n",
       "France  Données temps réel  2022-06-01  01:00  40359.0        40300   \n",
       "...                    ...         ...    ...      ...          ...   \n",
       "France  Données temps réel  2023-11-29  14:30  64161.0        65900   \n",
       "France  Données temps réel  2023-11-29  14:45  64239.0        65600   \n",
       "France  Données temps réel  2023-11-29  15:00  64370.0        65300   \n",
       "France  Données temps réel  2023-11-29  15:15  64097.0        65100   \n",
       "France  Données temps réel  2023-11-29  15:30  63678.0        64900   \n",
       "\n",
       "        Prévision J-1  Prévision J  Fioul  Charbon      Gaz  ...  \\\n",
       "France        45100.0        144.0    0.0   3596.0  30207.0  ...   \n",
       "France        43900.0        144.0    0.0   3716.0  30337.0  ...   \n",
       "France        42700.0        142.0    0.0   2880.0  29746.0  ...   \n",
       "France        41600.0        143.0    0.0   2699.0  29230.0  ...   \n",
       "France        40500.0        144.0    3.0   2718.0  29019.0  ...   \n",
       "...               ...          ...    ...      ...      ...  ...   \n",
       "France        64400.0        179.0    1.0   7819.0  43250.0  ...   \n",
       "France        64100.0        179.0    1.0   7905.0  43255.0  ...   \n",
       "France        63800.0        178.0    2.0   7914.0  43253.0  ...   \n",
       "France        63600.0        178.0  100.0   8281.0  43179.0  ...   \n",
       "France        63400.0        179.0  150.0   8333.0  43206.0  ...   \n",
       "\n",
       "        Hydraulique - Fil de l?eau + éclusée  Hydraulique - Lacs  \\\n",
       "France                                  1054              1677.0   \n",
       "France                                  1419               581.0   \n",
       "France                                  1280               530.0   \n",
       "France                                  1120               361.0   \n",
       "France                                  1101               373.0   \n",
       "...                                      ...                 ...   \n",
       "France                                3444.0              1261.0   \n",
       "France                                3726.0              1580.0   \n",
       "France                                3667.0              1903.0   \n",
       "France                                3535.0              1763.0   \n",
       "France                                3647.0              2150.0   \n",
       "\n",
       "        Hydraulique - STEP turbinage  Bioénergies - Déchets  \\\n",
       "France                           170                  584.0   \n",
       "France                           171                  560.0   \n",
       "France                           169                  561.0   \n",
       "France                           170                  563.0   \n",
       "France                           170                  563.0   \n",
       "...                              ...                    ...   \n",
       "France                          76.0                  515.0   \n",
       "France                          73.0                  519.0   \n",
       "France                          76.0                  507.0   \n",
       "France                          75.0                  506.0   \n",
       "France                          78.0                  509.0   \n",
       "\n",
       "        Bioénergies - Biomasse  Bioénergies - Biogaz   Stockage batterie  \\\n",
       "France                   286.0                    ND                  ND   \n",
       "France                   276.0                    ND                  ND   \n",
       "France                   276.0                    ND                  ND   \n",
       "France                   276.0                    ND                  ND   \n",
       "France                   276.0                    ND                  ND   \n",
       "...                        ...                   ...                 ...   \n",
       "France                   246.0                  -5.0                 0.0   \n",
       "France                   246.0                  -3.0                11.0   \n",
       "France                   246.0                  -5.0                13.0   \n",
       "France                   246.0                  -4.0                 3.0   \n",
       "France                   246.0                  -4.0                 0.0   \n",
       "\n",
       "        Déstockage batterie  Eolien terrestre  Eolien offshore  \n",
       "France                   ND                ND              NaN  \n",
       "France                   ND                ND              NaN  \n",
       "France                   ND                ND              NaN  \n",
       "France                   ND                ND              NaN  \n",
       "France                   ND                ND              NaN  \n",
       "...                     ...               ...              ...  \n",
       "France               1255.0             118.0              NaN  \n",
       "France               1295.0             125.0              NaN  \n",
       "France               1274.0             121.0              NaN  \n",
       "France               1254.0             133.0              NaN  \n",
       "France               1269.0             115.0              NaN  \n",
       "\n",
       "[52479 rows x 40 columns]"
      ]
     },
     "execution_count": 27,
     "metadata": {},
     "output_type": "execute_result"
    }
   ],
   "source": [
    "df.query('Charbon > 16')"
   ]
  },
  {
   "cell_type": "markdown",
   "metadata": {},
   "source": [
    "Comme la fonction renvoie un DataFrame, vous pouvez enchaîner plusieurs filtres"
   ]
  },
  {
   "cell_type": "code",
   "execution_count": null,
   "metadata": {
    "scrolled": true
   },
   "outputs": [],
   "source": [
    "df.query('Logiques > 16').query('Stats > 16')"
   ]
  },
  {
   "cell_type": "markdown",
   "metadata": {},
   "source": [
    "On peut aussi créer un critère plus complexe à l'aide des opérateurs `and` et `or`"
   ]
  },
  {
   "cell_type": "code",
   "execution_count": null,
   "metadata": {
    "scrolled": true
   },
   "outputs": [],
   "source": [
    "df.query('Logiques > 16 and Stats > 16')"
   ]
  },
  {
   "cell_type": "code",
   "execution_count": null,
   "metadata": {
    "scrolled": true
   },
   "outputs": [],
   "source": [
    "df.query('Logiques > 16 or (Stats > 16 and Systèmes == \"B\")')"
   ]
  },
  {
   "cell_type": "markdown",
   "metadata": {},
   "source": [
    "Notez les double quotes \" dans la chaîne délimitée par les simples quotes '"
   ]
  },
  {
   "cell_type": "markdown",
   "metadata": {},
   "source": [
    "Pour une variable catégorique, on peut avoir besoin de filtrer sur plusieurs modalités possibles :"
   ]
  },
  {
   "cell_type": "code",
   "execution_count": null,
   "metadata": {
    "scrolled": true
   },
   "outputs": [],
   "source": [
    "df.query('Systèmes in [\"C\", \"D\"]')"
   ]
  },
  {
   "cell_type": "markdown",
   "metadata": {},
   "source": [
    "Il est également possible d'appeler une fonction dans la chaîne de caractères. Par exemple pour isoler les lignes qui contiennent des valeurs manquantes dans une colonne, on peut utiliser les méthodes `isna()` ou `isnull()` :"
   ]
  },
  {
   "cell_type": "code",
   "execution_count": null,
   "metadata": {},
   "outputs": [],
   "source": [
    "df.query('Logiques.isna()')"
   ]
  },
  {
   "cell_type": "markdown",
   "metadata": {},
   "source": [
    "### Suppression"
   ]
  },
  {
   "cell_type": "markdown",
   "metadata": {},
   "source": [
    "Pour supprimer définitivement une ou plusieurs ligne, on peut réaffecter le DataFrame :"
   ]
  },
  {
   "cell_type": "code",
   "execution_count": null,
   "metadata": {
    "scrolled": true
   },
   "outputs": [],
   "source": [
    "df2=df.query('Systèmes in [\"C\", \"D\"]')\n",
    "df2"
   ]
  },
  {
   "cell_type": "markdown",
   "metadata": {},
   "source": [
    "Pour supprimer selon les noms de lignes, on peut utiliser la fonction `drop()`."
   ]
  },
  {
   "cell_type": "code",
   "execution_count": null,
   "metadata": {
    "scrolled": false
   },
   "outputs": [],
   "source": [
    "df2=df.drop('Carine TRUDELLE')\n",
    "df2.shape"
   ]
  },
  {
   "cell_type": "code",
   "execution_count": null,
   "metadata": {
    "scrolled": true
   },
   "outputs": [],
   "source": [
    "df2=df.drop(['Ambroise LEGUENNEC','Roméo LEBERGUEILLEC'])\n",
    "df2.shape"
   ]
  },
  {
   "cell_type": "markdown",
   "metadata": {},
   "source": [
    "Notez que dans la plupart des DataFrames, le nom des lignes est un numéro de lignes. Dans ce cas, une commande du type `df.drop(0)` par exemple permet de supprimer la première ligne (indice 0)."
   ]
  },
  {
   "cell_type": "markdown",
   "metadata": {},
   "source": [
    "<br>\n",
    "\n",
    "## 2. Sélectionner et créer les variables"
   ]
  },
  {
   "cell_type": "markdown",
   "metadata": {},
   "source": [
    "### Sélection"
   ]
  },
  {
   "cell_type": "markdown",
   "metadata": {},
   "source": [
    "Revoir le notebook Introduction.ipynb"
   ]
  },
  {
   "cell_type": "code",
   "execution_count": null,
   "metadata": {
    "scrolled": true
   },
   "outputs": [],
   "source": [
    "df.Sport"
   ]
  },
  {
   "cell_type": "code",
   "execution_count": null,
   "metadata": {
    "scrolled": true
   },
   "outputs": [],
   "source": [
    "df['Sport']"
   ]
  },
  {
   "cell_type": "code",
   "execution_count": null,
   "metadata": {
    "scrolled": true
   },
   "outputs": [],
   "source": [
    "df.iloc[:,2:5]"
   ]
  },
  {
   "cell_type": "markdown",
   "metadata": {},
   "source": [
    "### Suppression"
   ]
  },
  {
   "cell_type": "code",
   "execution_count": null,
   "metadata": {
    "scrolled": true
   },
   "outputs": [],
   "source": [
    "df2 = df.drop('Sport', axis=1)    # axis=1 indique qu'on agit sur les colonnes, la fonction agit sur les lignes par défaut\n",
    "df2"
   ]
  },
  {
   "cell_type": "markdown",
   "metadata": {},
   "source": [
    "### Création d'une nouvelle variable"
   ]
  },
  {
   "cell_type": "markdown",
   "metadata": {
    "scrolled": true
   },
   "source": [
    "Il faut utiliser la syntaxe avec des crochets. Les méthodes `loc` ou `iloc` ne modifieront pas le DataFrame."
   ]
  },
  {
   "cell_type": "code",
   "execution_count": null,
   "metadata": {
    "scrolled": true
   },
   "outputs": [],
   "source": [
    "df['Moyenne des notes'] = df.mean(axis=1)\n",
    "df.head()"
   ]
  },
  {
   "cell_type": "code",
   "execution_count": null,
   "metadata": {},
   "outputs": [],
   "source": [
    "df['CopieSport'] = df.Sport\n",
    "df['Nom'] = df.index    # Recopier l'Index dans une colonne\n",
    "df.head()"
   ]
  },
  {
   "cell_type": "markdown",
   "metadata": {},
   "source": [
    "### Renommage des variables"
   ]
  },
  {
   "cell_type": "code",
   "execution_count": null,
   "metadata": {},
   "outputs": [],
   "source": [
    "df.columns = ['EPS','BD','LogiquesClassiques','Statistiques','SI', 'Moyenne', 'CopieEPS', 'Etudiant']\n",
    "df.head()"
   ]
  },
  {
   "cell_type": "markdown",
   "metadata": {},
   "source": [
    "Il est également possible de renommer l'index."
   ]
  },
  {
   "cell_type": "code",
   "execution_count": null,
   "metadata": {
    "scrolled": true
   },
   "outputs": [],
   "source": [
    "df.index.name"
   ]
  },
  {
   "cell_type": "code",
   "execution_count": null,
   "metadata": {},
   "outputs": [],
   "source": [
    "df.index.name = 'Prénom_Nom'\n",
    "df.head()"
   ]
  },
  {
   "cell_type": "markdown",
   "metadata": {},
   "source": [
    "Pour la suite du notebook, on réinitialise le DataFrame."
   ]
  },
  {
   "cell_type": "code",
   "execution_count": null,
   "metadata": {},
   "outputs": [],
   "source": [
    "df = pd.read_csv(\"notes.data\", sep=\"\\t\", index_col=0)"
   ]
  },
  {
   "cell_type": "markdown",
   "metadata": {},
   "source": [
    "<br>\n",
    "\n",
    "## 3. Vérifier et transformer les types des variables"
   ]
  },
  {
   "cell_type": "code",
   "execution_count": null,
   "metadata": {
    "scrolled": false
   },
   "outputs": [],
   "source": [
    "df.dtypes"
   ]
  },
  {
   "cell_type": "markdown",
   "metadata": {},
   "source": [
    "Les types des variables ont été détectés automatiquement d'après les données. Si les types ne conviennent pas, **il faut les changer !**"
   ]
  },
  {
   "cell_type": "markdown",
   "metadata": {},
   "source": [
    "### Mettre une colonne en type numérique"
   ]
  },
  {
   "cell_type": "markdown",
   "metadata": {},
   "source": [
    "Transformons la variable catégorique `Systèmes` en une variable numérique. Les valeurs A, B, C et D doivent être remplacées par les notes 18, 14, 10 et 6."
   ]
  },
  {
   "cell_type": "code",
   "execution_count": null,
   "metadata": {},
   "outputs": [],
   "source": [
    "df.Systèmes = df.Systèmes.replace(to_replace = 'A', value = '18')\n",
    "df.Systèmes = df.Systèmes.replace(to_replace = 'B', value = '14')\n",
    "df.Systèmes = df.Systèmes.replace(to_replace = 'C', value = '10')\n",
    "df.Systèmes = df.Systèmes.replace(to_replace = 'D', value = '6')"
   ]
  },
  {
   "cell_type": "markdown",
   "metadata": {},
   "source": [
    "Il est possible de remplacer dans tout le DataFrame, sans cibler une colonne, avec `df.replace(to_replace = 'A', value = '18')`\n",
    "\n",
    "On peut aussi faire le remplacement avec un seul appel à la fonction :"
   ]
  },
  {
   "cell_type": "code",
   "execution_count": null,
   "metadata": {
    "scrolled": true
   },
   "outputs": [],
   "source": [
    "df.replace(to_replace =  {'A': '18', 'B': '14',  'C': '10', 'D': '6'})"
   ]
  },
  {
   "cell_type": "code",
   "execution_count": null,
   "metadata": {},
   "outputs": [],
   "source": [
    "df.dtypes"
   ]
  },
  {
   "cell_type": "markdown",
   "metadata": {},
   "source": [
    "Il reste à changer le type de la colonne `Systèmes` pour la rendre numérique. On utilise la fonction `to_numeric()` :"
   ]
  },
  {
   "cell_type": "code",
   "execution_count": null,
   "metadata": {},
   "outputs": [],
   "source": [
    "df.Systèmes = pd.to_numeric(df.Systèmes)\n",
    "df.dtypes"
   ]
  },
  {
   "cell_type": "code",
   "execution_count": null,
   "metadata": {},
   "outputs": [],
   "source": [
    "df.head()"
   ]
  },
  {
   "cell_type": "markdown",
   "metadata": {},
   "source": [
    "### Nettoyer une colonne pour la rendre numérique"
   ]
  },
  {
   "cell_type": "markdown",
   "metadata": {},
   "source": [
    "Des problèmes récurrents empêchent les variables numériques d'être stockées dans un type numérique :\n",
    "- la présence d'espaces pour séparer les chiffres, comme dans `2 154 120`\n",
    "- la présence d'une virgule à la place d'un point, comme dans `127,79`\n",
    "- la présence d'espaces ou de caractères invisibles au début ou à la fin de la chaîne\n",
    "- la présence dans la colonne de valeurs manquantes codées avec des caractères, comme `?`\n",
    "- etc.\n",
    "\n",
    "Pour remplacer des caractères dans une colonne du DataFrame, utilisez la fonction `str.replace()`. Ci-dessous un exemple avec un DataFrame à une seule colonne."
   ]
  },
  {
   "cell_type": "code",
   "execution_count": null,
   "metadata": {},
   "outputs": [],
   "source": [
    "dfsale = pd.DataFrame({\"montant\": [\"26 460,15\", \"29 842,70\", \"29 074,20\"]})\n",
    "dfsale"
   ]
  },
  {
   "cell_type": "code",
   "execution_count": null,
   "metadata": {},
   "outputs": [],
   "source": [
    "dfsale.dtypes"
   ]
  },
  {
   "cell_type": "code",
   "execution_count": null,
   "metadata": {},
   "outputs": [],
   "source": [
    "dfsale.montant = pd.to_numeric(dfsale.montant)   # renvoie une erreur"
   ]
  },
  {
   "cell_type": "code",
   "execution_count": null,
   "metadata": {
    "scrolled": true
   },
   "outputs": [],
   "source": [
    "dfsale.montant = dfsale.montant.str.replace(\",\",\".\")\n",
    "dfsale.montant = dfsale.montant.str.replace(\" \",\"\")\n",
    "dfsale.montant = pd.to_numeric(dfsale.montant)\n",
    "dfsale"
   ]
  },
  {
   "cell_type": "code",
   "execution_count": null,
   "metadata": {},
   "outputs": [],
   "source": [
    "dfsale.dtypes"
   ]
  },
  {
   "cell_type": "markdown",
   "metadata": {},
   "source": [
    "Pour supprimer les espaces, tabulations et caractères invisibles au début et à la fin des chaînes, appliquez la fonction `str.strip()` sur la colonne."
   ]
  },
  {
   "cell_type": "markdown",
   "metadata": {},
   "source": [
    "### Mettre une colonne en type chaîne de caractères (string)"
   ]
  },
  {
   "cell_type": "markdown",
   "metadata": {},
   "source": [
    "Si une colonne numérique contient en fait des catégories (par exemple les valeurs 1, 2 et 3 pour indiquer un numéro de trimestre), il vaut mieux traiter la colonne comme une variable catégorique pour éviter les erreurs dans l'analyse. La commande ci-dessous permet de transformer une colonne numérique vers le type chaîne de caractères."
   ]
  },
  {
   "cell_type": "code",
   "execution_count": null,
   "metadata": {},
   "outputs": [],
   "source": [
    "df.Sport = df.Sport.astype(str)\n",
    "df.dtypes"
   ]
  },
  {
   "cell_type": "markdown",
   "metadata": {},
   "source": [
    "Plutôt que des chaînes de caractères (str), il existe en pandas un véritable type pour les variables catégoriques :"
   ]
  },
  {
   "cell_type": "code",
   "execution_count": null,
   "metadata": {},
   "outputs": [],
   "source": [
    "df.Stats = df.Stats.astype('category')\n",
    "df.dtypes"
   ]
  },
  {
   "cell_type": "markdown",
   "metadata": {},
   "source": [
    "Son principal intérêt est de permettre de déclarer un ordre entre les catégories qui ne correpond pas à l'ordre alphabétique/alphanumérique. Ce format prend également moins de place en mémoire."
   ]
  },
  {
   "cell_type": "markdown",
   "metadata": {},
   "source": [
    "Pour la suite du notebook, on réinitialise le DataFrame."
   ]
  },
  {
   "cell_type": "code",
   "execution_count": null,
   "metadata": {},
   "outputs": [],
   "source": [
    "df = pd.read_csv(\"notes.data\", sep=\"\\t\", index_col=0)"
   ]
  },
  {
   "cell_type": "markdown",
   "metadata": {},
   "source": [
    "### Mettre une colonne en type date"
   ]
  },
  {
   "cell_type": "markdown",
   "metadata": {},
   "source": [
    "Si une colonne du DataFrame contient des dates, elles sont par défaut reconnues comme des chaînes de caractères. Il est possible de transformer la colonne en type date à l'aide de cette commande :"
   ]
  },
  {
   "cell_type": "code",
   "execution_count": null,
   "metadata": {},
   "outputs": [],
   "source": [
    "# df.date = pd.to_datetime(df.date)\n",
    "# commande mise en commentaire pour la bonne exécution du notebook"
   ]
  },
  {
   "cell_type": "markdown",
   "metadata": {},
   "source": [
    "<br>\n",
    "\n",
    "## 4. Agréger des lignes"
   ]
  },
  {
   "cell_type": "markdown",
   "metadata": {},
   "source": [
    "La fonction `groupby()` permet de **regrouper** les lignes selon une ou plusieurs colonnes. Le but final est d'**agréger** les valeurs par groupe dans une ou plusieurs autres colonnes."
   ]
  },
  {
   "cell_type": "code",
   "execution_count": null,
   "metadata": {
    "scrolled": true
   },
   "outputs": [],
   "source": [
    "df.groupby('Systèmes')"
   ]
  },
  {
   "cell_type": "markdown",
   "metadata": {},
   "source": [
    "L'objet retourné n'est pas affichable nativement.\n",
    "\n",
    "Pour agréger, pandas propose des fonctions d'agrégation, dont la plus basique est `size()` :"
   ]
  },
  {
   "cell_type": "code",
   "execution_count": null,
   "metadata": {
    "scrolled": true
   },
   "outputs": [],
   "source": [
    "df.groupby('Systèmes').size()    # nombre de lignes dans chaque groupe"
   ]
  },
  {
   "cell_type": "markdown",
   "metadata": {},
   "source": [
    "La fonction `size()` renvoie toujours une Series. Notez que les groupes se retrouvent en Index de la Series, tandis que les valeurs agrégées remplissent la Series, comme on peut le voir ci-dessous :"
   ]
  },
  {
   "cell_type": "code",
   "execution_count": null,
   "metadata": {},
   "outputs": [],
   "source": [
    "agregation = df.groupby('Systèmes').size()\n",
    "agregation.index"
   ]
  },
  {
   "cell_type": "code",
   "execution_count": null,
   "metadata": {},
   "outputs": [],
   "source": [
    "agregation.values"
   ]
  },
  {
   "cell_type": "markdown",
   "metadata": {},
   "source": [
    "Si on regroupe selon plusieurs colonnes à la fois, on obtient une Series avec un index composite (à plusieurs colonnes), nommé MultiIndex."
   ]
  },
  {
   "cell_type": "code",
   "execution_count": null,
   "metadata": {
    "scrolled": true
   },
   "outputs": [],
   "source": [
    "agregation = df.groupby(['Systèmes','Sport']).size()\n",
    "agregation"
   ]
  },
  {
   "cell_type": "code",
   "execution_count": null,
   "metadata": {},
   "outputs": [],
   "source": [
    "agregation.index"
   ]
  },
  {
   "cell_type": "markdown",
   "metadata": {},
   "source": [
    "Si la fonction `size()` renvoie toujours une Series, les autres fonctions d'agrégation renvoient :\n",
    "- une Series si on n'agrège que dans une seule colonne,\n",
    "- un DataFrame sinon.\n",
    "\n",
    "Par exemple avec la fonction `mean()` qui permet d'agréger en calculant la moyenne, cela donne :"
   ]
  },
  {
   "cell_type": "code",
   "execution_count": null,
   "metadata": {},
   "outputs": [],
   "source": [
    "df.groupby('Systèmes').mean()    # Moyenne calculée dans chaque colonne numérique"
   ]
  },
  {
   "cell_type": "code",
   "execution_count": null,
   "metadata": {
    "scrolled": true
   },
   "outputs": [],
   "source": [
    "df.groupby('Systèmes').Logiques.mean()    # Moyenne calculée dans la colonne Sport uniquement "
   ]
  },
  {
   "cell_type": "markdown",
   "metadata": {},
   "source": [
    "Il est aussi possible de grouper avec le paramètre `as_index=False`. Dans ce cas, les groupes ne sont plus stockés dans un Index ou MultiIndex mais directement dans des colonnes. Le résultat est forcément un DataFrame."
   ]
  },
  {
   "cell_type": "code",
   "execution_count": null,
   "metadata": {
    "scrolled": true
   },
   "outputs": [],
   "source": [
    "df.groupby('Systèmes',as_index=False).mean()    # Grouper sur 1 colonne, agréger dans toutes les colonnes numériques"
   ]
  },
  {
   "cell_type": "code",
   "execution_count": null,
   "metadata": {
    "scrolled": true
   },
   "outputs": [],
   "source": [
    "df.groupby('Systèmes',as_index=False).Logiques.mean()    # Grouper sur 1 colonne, agréger dans 1 colonne"
   ]
  },
  {
   "cell_type": "code",
   "execution_count": null,
   "metadata": {},
   "outputs": [],
   "source": [
    "df.groupby(['Systèmes','Sport'],as_index=False).mean()    # Grouper sur 2 colonnes, agréger dans toutes les colonnes numériques"
   ]
  },
  {
   "cell_type": "code",
   "execution_count": null,
   "metadata": {},
   "outputs": [],
   "source": [
    "df.groupby(['Systèmes','Sport'],as_index=False).Logiques.mean()    # Grouper sur 2 colonnes, agréger dans 1 colonne"
   ]
  },
  {
   "cell_type": "markdown",
   "metadata": {},
   "source": [
    "Remarques :\n",
    "\n",
    "Le paramètre `as_index=False` du `groupby()` ne fonctionne pas si l'agrégation est réalisée avec la fonction `size()`. On obtient quand même une Series avec les groupes en index.\n",
    "\n",
    "Après une agrégation avec `size()`, pour transformer la Series en DataFrame, on peut utiliser une de ces deux solutions :"
   ]
  },
  {
   "cell_type": "code",
   "execution_count": null,
   "metadata": {
    "scrolled": true
   },
   "outputs": [],
   "source": [
    "# Utilisation de la fonction to_frame()\n",
    "df.groupby('Systèmes').size().to_frame('Effectif')"
   ]
  },
  {
   "cell_type": "code",
   "execution_count": null,
   "metadata": {
    "scrolled": true
   },
   "outputs": [],
   "source": [
    "# Utilisation du constructeur de la classe DataFrame\n",
    "pd.DataFrame(df.groupby('Systèmes').size(), columns=['Effectif'])"
   ]
  },
  {
   "cell_type": "markdown",
   "metadata": {},
   "source": [
    "En plus de `size()` et `mean()`, les principales fonctions d'agrégation sont :"
   ]
  },
  {
   "cell_type": "code",
   "execution_count": null,
   "metadata": {},
   "outputs": [],
   "source": [
    "df.groupby('Systèmes').Sport.sum()    # somme"
   ]
  },
  {
   "cell_type": "code",
   "execution_count": null,
   "metadata": {},
   "outputs": [],
   "source": [
    "df.groupby('Systèmes').Sport.min()    # minimum"
   ]
  },
  {
   "cell_type": "code",
   "execution_count": null,
   "metadata": {},
   "outputs": [],
   "source": [
    "df.groupby('Systèmes').Sport.max()    # maximum"
   ]
  },
  {
   "cell_type": "code",
   "execution_count": null,
   "metadata": {},
   "outputs": [],
   "source": [
    "df.groupby('Systèmes').Sport.count()    # nombre de valeurs dans la colonne, mais sans les valeurs manquantes, contrairement à size()"
   ]
  },
  {
   "cell_type": "code",
   "execution_count": null,
   "metadata": {},
   "outputs": [],
   "source": [
    "df.groupby('Systèmes').Sport.nunique()    # nombre de valeurs distinctes dans la colonne"
   ]
  },
  {
   "cell_type": "markdown",
   "metadata": {},
   "source": [
    "<br>\n",
    "\n",
    "## 5. Transformer des variables"
   ]
  },
  {
   "cell_type": "markdown",
   "metadata": {
    "scrolled": true
   },
   "source": [
    "A venir..."
   ]
  },
  {
   "cell_type": "markdown",
   "metadata": {},
   "source": [
    "<br>\n",
    "\n",
    "## 6. Gérer les valeurs manquantes"
   ]
  },
  {
   "cell_type": "markdown",
   "metadata": {},
   "source": [
    "### Repérer les valeurs manquantes"
   ]
  },
  {
   "cell_type": "markdown",
   "metadata": {
    "scrolled": true
   },
   "source": [
    "On peut compter les lignes ou les colonnes qui contiennent des valeurs manquantes."
   ]
  },
  {
   "cell_type": "code",
   "execution_count": null,
   "metadata": {
    "scrolled": true
   },
   "outputs": [],
   "source": [
    "df.isna().sum() "
   ]
  },
  {
   "cell_type": "code",
   "execution_count": null,
   "metadata": {},
   "outputs": [],
   "source": [
    "df.isna().sum(axis=1).sort_values(ascending=False)"
   ]
  },
  {
   "cell_type": "markdown",
   "metadata": {},
   "source": [
    "Pour isoler les lignes qui contiennent une valeur manquante, utilisez :"
   ]
  },
  {
   "cell_type": "code",
   "execution_count": null,
   "metadata": {
    "scrolled": false
   },
   "outputs": [],
   "source": [
    "df[df.isna().any(axis=1)]"
   ]
  },
  {
   "cell_type": "markdown",
   "metadata": {},
   "source": [
    "On peut cibler uniquement les valeurs manquantes d'une colonne uniquement, par exemple avec la commande ci-dessous."
   ]
  },
  {
   "cell_type": "code",
   "execution_count": null,
   "metadata": {
    "scrolled": true
   },
   "outputs": [],
   "source": [
    "df.query('Systèmes.isna()')"
   ]
  },
  {
   "cell_type": "markdown",
   "metadata": {},
   "source": [
    "### Imputer les valeurs manquantes"
   ]
  },
  {
   "cell_type": "markdown",
   "metadata": {},
   "source": [
    "On peut remplacer les valeurs manquantes en utilisant la fonction `fillna()`.\n",
    "\n",
    "Pour imputer par la moyenne dans une colonne :"
   ]
  },
  {
   "cell_type": "code",
   "execution_count": null,
   "metadata": {
    "scrolled": true
   },
   "outputs": [],
   "source": [
    "df.Stats.fillna(df.Stats.mean(), inplace=True)"
   ]
  },
  {
   "cell_type": "code",
   "execution_count": null,
   "metadata": {
    "scrolled": false
   },
   "outputs": [],
   "source": [
    "df.isna().sum() "
   ]
  },
  {
   "cell_type": "markdown",
   "metadata": {},
   "source": [
    "Pour réaliser des imputations plus précises, on peut appliquer une technique de clustering sur les données puis imputer par la moyenne ou le mode dans chaque cluster. Une autre solution consiste à réaliser un modèle supervisé pour \"prédire\" la valeur manquante en fonction des autres variables."
   ]
  },
  {
   "cell_type": "markdown",
   "metadata": {},
   "source": [
    "### Supprimer les lignes/colonnes"
   ]
  },
  {
   "cell_type": "markdown",
   "metadata": {},
   "source": [
    "En dernier recours, la fonction `dropna()` permet de supprimer les lignes ou colonnes qui contiennent au moins une valeur manquante. Il est possible d'exiger un seuil supérieur de valeurs manquantes pour que la ligne/colonne soit supprimée (voir la [doc](https://pandas.pydata.org/docs/reference/api/pandas.DataFrame.dropna.html)).\n",
    "\n",
    "De manière générale, on déconseille de supprimer des lignes si cela représente plus de 5% du jeu de données."
   ]
  },
  {
   "cell_type": "code",
   "execution_count": null,
   "metadata": {},
   "outputs": [],
   "source": [
    "df.dropna()"
   ]
  },
  {
   "cell_type": "code",
   "execution_count": null,
   "metadata": {},
   "outputs": [],
   "source": [
    "df.dropna(axis=1)"
   ]
  },
  {
   "cell_type": "markdown",
   "metadata": {},
   "source": [
    "N'oubliez pas de réaffecter le résultat dans une variable, ou d'utiliser le paramètre `inplace=True`."
   ]
  },
  {
   "cell_type": "markdown",
   "metadata": {},
   "source": [
    "Pour une vue plus complète sur la gestion des valeurs manquantes, voir la doc de [pandas](http://pandas.pydata.org/) : https://pandas.pydata.org/pandas-docs/stable/user_guide/missing_data.html"
   ]
  }
 ],
 "metadata": {
  "kernelspec": {
   "display_name": "Python 3",
   "language": "python",
   "name": "python3"
  },
  "language_info": {
   "codemirror_mode": {
    "name": "ipython",
    "version": 3
   },
   "file_extension": ".py",
   "mimetype": "text/x-python",
   "name": "python",
   "nbconvert_exporter": "python",
   "pygments_lexer": "ipython3",
   "version": "3.9.13"
  }
 },
 "nbformat": 4,
 "nbformat_minor": 2
}
