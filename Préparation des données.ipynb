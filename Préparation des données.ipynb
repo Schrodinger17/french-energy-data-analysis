{
 "cells": [
  {
   "cell_type": "markdown",
   "metadata": {},
   "source": [
    "# Préparation des données"
   ]
  },
  {
   "cell_type": "markdown",
   "metadata": {},
   "source": [
    "Ce notebook présente les commandes utiles pour les principales tâches de préparation des données. Les données `notes.data` qui servent d'illustration sont des notes obtenues par des étudiants dans des matières."
   ]
  },
  {
   "cell_type": "code",
   "execution_count": 2,
   "metadata": {
    "scrolled": true
   },
   "outputs": [],
   "source": [
    "import pandas as pd\n",
    "pd.set_option('display.max_rows', 100)     # Set the maximum number of rows displayed to 100 rows"
   ]
  },
  {
   "cell_type": "code",
   "execution_count": 3,
   "metadata": {
    "scrolled": true
   },
   "outputs": [
    {
     "name": "stderr",
     "output_type": "stream",
     "text": [
      "C:\\Users\\Mathieu\\AppData\\Local\\Temp\\ipykernel_5340\\1607583081.py:1: DtypeWarning: Columns (5,26,27,30,31,33,36,37,38,39) have mixed types. Specify dtype option on import or set low_memory=False.\n",
      "  df = pd.read_csv(\"eCO2mix_RTE_En-cours-TR.csv\", sep=\"\\t\", encoding='latin-1', index_col=False)\n"
     ]
    },
    {
     "data": {
      "text/html": [
       "<div>\n",
       "<style scoped>\n",
       "    .dataframe tbody tr th:only-of-type {\n",
       "        vertical-align: middle;\n",
       "    }\n",
       "\n",
       "    .dataframe tbody tr th {\n",
       "        vertical-align: top;\n",
       "    }\n",
       "\n",
       "    .dataframe thead th {\n",
       "        text-align: right;\n",
       "    }\n",
       "</style>\n",
       "<table border=\"1\" class=\"dataframe\">\n",
       "  <thead>\n",
       "    <tr style=\"text-align: right;\">\n",
       "      <th></th>\n",
       "      <th>Périmètre</th>\n",
       "      <th>Nature</th>\n",
       "      <th>Date</th>\n",
       "      <th>Heures</th>\n",
       "      <th>Consommation</th>\n",
       "      <th>Prévision J-1</th>\n",
       "      <th>Prévision J</th>\n",
       "      <th>Fioul</th>\n",
       "      <th>Charbon</th>\n",
       "      <th>Gaz</th>\n",
       "      <th>...</th>\n",
       "      <th>Hydraulique - Fil de l?eau + éclusée</th>\n",
       "      <th>Hydraulique - Lacs</th>\n",
       "      <th>Hydraulique - STEP turbinage</th>\n",
       "      <th>Bioénergies - Déchets</th>\n",
       "      <th>Bioénergies - Biomasse</th>\n",
       "      <th>Bioénergies - Biogaz</th>\n",
       "      <th>Stockage batterie</th>\n",
       "      <th>Déstockage batterie</th>\n",
       "      <th>Eolien terrestre</th>\n",
       "      <th>Eolien offshore</th>\n",
       "    </tr>\n",
       "  </thead>\n",
       "  <tbody>\n",
       "    <tr>\n",
       "      <th>0</th>\n",
       "      <td>France</td>\n",
       "      <td>Données temps réel</td>\n",
       "      <td>2022-06-01</td>\n",
       "      <td>00:00</td>\n",
       "      <td>44940.0</td>\n",
       "      <td>44800</td>\n",
       "      <td>45100.0</td>\n",
       "      <td>144.0</td>\n",
       "      <td>0.0</td>\n",
       "      <td>3596.0</td>\n",
       "      <td>...</td>\n",
       "      <td>4331</td>\n",
       "      <td>1054</td>\n",
       "      <td>1677.0</td>\n",
       "      <td>170</td>\n",
       "      <td>584.0</td>\n",
       "      <td>286.0</td>\n",
       "      <td>ND</td>\n",
       "      <td>ND</td>\n",
       "      <td>ND</td>\n",
       "      <td>ND</td>\n",
       "    </tr>\n",
       "    <tr>\n",
       "      <th>1</th>\n",
       "      <td>France</td>\n",
       "      <td>Données temps réel</td>\n",
       "      <td>2022-06-01</td>\n",
       "      <td>00:15</td>\n",
       "      <td>43967.0</td>\n",
       "      <td>43700</td>\n",
       "      <td>43900.0</td>\n",
       "      <td>144.0</td>\n",
       "      <td>0.0</td>\n",
       "      <td>3716.0</td>\n",
       "      <td>...</td>\n",
       "      <td>4163</td>\n",
       "      <td>1419</td>\n",
       "      <td>581.0</td>\n",
       "      <td>171</td>\n",
       "      <td>560.0</td>\n",
       "      <td>276.0</td>\n",
       "      <td>ND</td>\n",
       "      <td>ND</td>\n",
       "      <td>ND</td>\n",
       "      <td>ND</td>\n",
       "    </tr>\n",
       "    <tr>\n",
       "      <th>2</th>\n",
       "      <td>France</td>\n",
       "      <td>Données temps réel</td>\n",
       "      <td>2022-06-01</td>\n",
       "      <td>00:30</td>\n",
       "      <td>42514.0</td>\n",
       "      <td>42600</td>\n",
       "      <td>42700.0</td>\n",
       "      <td>142.0</td>\n",
       "      <td>0.0</td>\n",
       "      <td>2880.0</td>\n",
       "      <td>...</td>\n",
       "      <td>4187</td>\n",
       "      <td>1280</td>\n",
       "      <td>530.0</td>\n",
       "      <td>169</td>\n",
       "      <td>561.0</td>\n",
       "      <td>276.0</td>\n",
       "      <td>ND</td>\n",
       "      <td>ND</td>\n",
       "      <td>ND</td>\n",
       "      <td>ND</td>\n",
       "    </tr>\n",
       "    <tr>\n",
       "      <th>3</th>\n",
       "      <td>France</td>\n",
       "      <td>Données temps réel</td>\n",
       "      <td>2022-06-01</td>\n",
       "      <td>00:45</td>\n",
       "      <td>41073.0</td>\n",
       "      <td>41450</td>\n",
       "      <td>41600.0</td>\n",
       "      <td>143.0</td>\n",
       "      <td>0.0</td>\n",
       "      <td>2699.0</td>\n",
       "      <td>...</td>\n",
       "      <td>4054</td>\n",
       "      <td>1120</td>\n",
       "      <td>361.0</td>\n",
       "      <td>170</td>\n",
       "      <td>563.0</td>\n",
       "      <td>276.0</td>\n",
       "      <td>ND</td>\n",
       "      <td>ND</td>\n",
       "      <td>ND</td>\n",
       "      <td>ND</td>\n",
       "    </tr>\n",
       "    <tr>\n",
       "      <th>4</th>\n",
       "      <td>France</td>\n",
       "      <td>Données temps réel</td>\n",
       "      <td>2022-06-01</td>\n",
       "      <td>01:00</td>\n",
       "      <td>40359.0</td>\n",
       "      <td>40300</td>\n",
       "      <td>40500.0</td>\n",
       "      <td>144.0</td>\n",
       "      <td>3.0</td>\n",
       "      <td>2718.0</td>\n",
       "      <td>...</td>\n",
       "      <td>4068</td>\n",
       "      <td>1101</td>\n",
       "      <td>373.0</td>\n",
       "      <td>170</td>\n",
       "      <td>563.0</td>\n",
       "      <td>276.0</td>\n",
       "      <td>ND</td>\n",
       "      <td>ND</td>\n",
       "      <td>ND</td>\n",
       "      <td>ND</td>\n",
       "    </tr>\n",
       "  </tbody>\n",
       "</table>\n",
       "<p>5 rows × 40 columns</p>\n",
       "</div>"
      ],
      "text/plain": [
       "  Périmètre              Nature        Date Heures  Consommation  \\\n",
       "0    France  Données temps réel  2022-06-01  00:00       44940.0   \n",
       "1    France  Données temps réel  2022-06-01  00:15       43967.0   \n",
       "2    France  Données temps réel  2022-06-01  00:30       42514.0   \n",
       "3    France  Données temps réel  2022-06-01  00:45       41073.0   \n",
       "4    France  Données temps réel  2022-06-01  01:00       40359.0   \n",
       "\n",
       "  Prévision J-1  Prévision J  Fioul  Charbon     Gaz  ...  \\\n",
       "0         44800      45100.0  144.0      0.0  3596.0  ...   \n",
       "1         43700      43900.0  144.0      0.0  3716.0  ...   \n",
       "2         42600      42700.0  142.0      0.0  2880.0  ...   \n",
       "3         41450      41600.0  143.0      0.0  2699.0  ...   \n",
       "4         40300      40500.0  144.0      3.0  2718.0  ...   \n",
       "\n",
       "   Hydraulique - Fil de l?eau + éclusée  Hydraulique - Lacs  \\\n",
       "0                                  4331                1054   \n",
       "1                                  4163                1419   \n",
       "2                                  4187                1280   \n",
       "3                                  4054                1120   \n",
       "4                                  4068                1101   \n",
       "\n",
       "   Hydraulique - STEP turbinage  Bioénergies - Déchets  \\\n",
       "0                        1677.0                    170   \n",
       "1                         581.0                    171   \n",
       "2                         530.0                    169   \n",
       "3                         361.0                    170   \n",
       "4                         373.0                    170   \n",
       "\n",
       "   Bioénergies - Biomasse  Bioénergies - Biogaz   Stockage batterie  \\\n",
       "0                   584.0                 286.0                  ND   \n",
       "1                   560.0                 276.0                  ND   \n",
       "2                   561.0                 276.0                  ND   \n",
       "3                   563.0                 276.0                  ND   \n",
       "4                   563.0                 276.0                  ND   \n",
       "\n",
       "   Déstockage batterie  Eolien terrestre  Eolien offshore  \n",
       "0                   ND                ND               ND  \n",
       "1                   ND                ND               ND  \n",
       "2                   ND                ND               ND  \n",
       "3                   ND                ND               ND  \n",
       "4                   ND                ND               ND  \n",
       "\n",
       "[5 rows x 40 columns]"
      ]
     },
     "execution_count": 3,
     "metadata": {},
     "output_type": "execute_result"
    }
   ],
   "source": [
    "df = pd.read_csv(\"eCO2mix_RTE_En-cours-TR.csv\", sep=\"\\t\", encoding='latin-1', index_col=False)\n",
    "\n",
    "df.head()"
   ]
  },
  {
   "cell_type": "code",
   "execution_count": 4,
   "metadata": {
    "scrolled": true
   },
   "outputs": [
    {
     "name": "stdout",
     "output_type": "stream",
     "text": [
      "52705 rows and 40 columns\n"
     ]
    },
    {
     "data": {
      "text/html": [
       "<div>\n",
       "<style scoped>\n",
       "    .dataframe tbody tr th:only-of-type {\n",
       "        vertical-align: middle;\n",
       "    }\n",
       "\n",
       "    .dataframe tbody tr th {\n",
       "        vertical-align: top;\n",
       "    }\n",
       "\n",
       "    .dataframe thead th {\n",
       "        text-align: right;\n",
       "    }\n",
       "</style>\n",
       "<table border=\"1\" class=\"dataframe\">\n",
       "  <thead>\n",
       "    <tr style=\"text-align: right;\">\n",
       "      <th></th>\n",
       "      <th>Types</th>\n",
       "      <th>Count</th>\n",
       "      <th>NUnique</th>\n",
       "    </tr>\n",
       "  </thead>\n",
       "  <tbody>\n",
       "    <tr>\n",
       "      <th>Périmètre</th>\n",
       "      <td>object</td>\n",
       "      <td>52705</td>\n",
       "      <td>2</td>\n",
       "    </tr>\n",
       "    <tr>\n",
       "      <th>Nature</th>\n",
       "      <td>object</td>\n",
       "      <td>52704</td>\n",
       "      <td>1</td>\n",
       "    </tr>\n",
       "    <tr>\n",
       "      <th>Date</th>\n",
       "      <td>object</td>\n",
       "      <td>52704</td>\n",
       "      <td>549</td>\n",
       "    </tr>\n",
       "    <tr>\n",
       "      <th>Heures</th>\n",
       "      <td>object</td>\n",
       "      <td>52704</td>\n",
       "      <td>96</td>\n",
       "    </tr>\n",
       "    <tr>\n",
       "      <th>Consommation</th>\n",
       "      <td>float64</td>\n",
       "      <td>52479</td>\n",
       "      <td>26699</td>\n",
       "    </tr>\n",
       "    <tr>\n",
       "      <th>Prévision J-1</th>\n",
       "      <td>object</td>\n",
       "      <td>52704</td>\n",
       "      <td>1973</td>\n",
       "    </tr>\n",
       "    <tr>\n",
       "      <th>Prévision J</th>\n",
       "      <td>float64</td>\n",
       "      <td>52512</td>\n",
       "      <td>2035</td>\n",
       "    </tr>\n",
       "    <tr>\n",
       "      <th>Fioul</th>\n",
       "      <td>float64</td>\n",
       "      <td>52479</td>\n",
       "      <td>1147</td>\n",
       "    </tr>\n",
       "    <tr>\n",
       "      <th>Charbon</th>\n",
       "      <td>float64</td>\n",
       "      <td>52479</td>\n",
       "      <td>1594</td>\n",
       "    </tr>\n",
       "    <tr>\n",
       "      <th>Gaz</th>\n",
       "      <td>float64</td>\n",
       "      <td>52479</td>\n",
       "      <td>8782</td>\n",
       "    </tr>\n",
       "    <tr>\n",
       "      <th>Nucléaire</th>\n",
       "      <td>float64</td>\n",
       "      <td>52479</td>\n",
       "      <td>20068</td>\n",
       "    </tr>\n",
       "    <tr>\n",
       "      <th>Eolien</th>\n",
       "      <td>float64</td>\n",
       "      <td>52479</td>\n",
       "      <td>12250</td>\n",
       "    </tr>\n",
       "    <tr>\n",
       "      <th>Solaire</th>\n",
       "      <td>float64</td>\n",
       "      <td>52479</td>\n",
       "      <td>10009</td>\n",
       "    </tr>\n",
       "    <tr>\n",
       "      <th>Hydraulique</th>\n",
       "      <td>float64</td>\n",
       "      <td>52479</td>\n",
       "      <td>9844</td>\n",
       "    </tr>\n",
       "    <tr>\n",
       "      <th>Pompage</th>\n",
       "      <td>float64</td>\n",
       "      <td>52479</td>\n",
       "      <td>3592</td>\n",
       "    </tr>\n",
       "    <tr>\n",
       "      <th>Bioénergies</th>\n",
       "      <td>float64</td>\n",
       "      <td>52479</td>\n",
       "      <td>654</td>\n",
       "    </tr>\n",
       "    <tr>\n",
       "      <th>Ech. physiques</th>\n",
       "      <td>float64</td>\n",
       "      <td>52479</td>\n",
       "      <td>21093</td>\n",
       "    </tr>\n",
       "    <tr>\n",
       "      <th>Taux de Co2</th>\n",
       "      <td>float64</td>\n",
       "      <td>52479</td>\n",
       "      <td>110</td>\n",
       "    </tr>\n",
       "    <tr>\n",
       "      <th>Ech. comm. Angleterre</th>\n",
       "      <td>float64</td>\n",
       "      <td>26256</td>\n",
       "      <td>5255</td>\n",
       "    </tr>\n",
       "    <tr>\n",
       "      <th>Ech. comm. Espagne</th>\n",
       "      <td>float64</td>\n",
       "      <td>26256</td>\n",
       "      <td>3032</td>\n",
       "    </tr>\n",
       "    <tr>\n",
       "      <th>Ech. comm. Italie</th>\n",
       "      <td>float64</td>\n",
       "      <td>26256</td>\n",
       "      <td>3619</td>\n",
       "    </tr>\n",
       "    <tr>\n",
       "      <th>Ech. comm. Suisse</th>\n",
       "      <td>float64</td>\n",
       "      <td>26256</td>\n",
       "      <td>4128</td>\n",
       "    </tr>\n",
       "    <tr>\n",
       "      <th>Ech. comm. Allemagne-Belgique</th>\n",
       "      <td>float64</td>\n",
       "      <td>26256</td>\n",
       "      <td>11627</td>\n",
       "    </tr>\n",
       "    <tr>\n",
       "      <th>Fioul - TAC</th>\n",
       "      <td>float64</td>\n",
       "      <td>52479</td>\n",
       "      <td>1079</td>\n",
       "    </tr>\n",
       "    <tr>\n",
       "      <th>Fioul - Cogén.</th>\n",
       "      <td>float64</td>\n",
       "      <td>52479</td>\n",
       "      <td>33</td>\n",
       "    </tr>\n",
       "    <tr>\n",
       "      <th>Fioul - Autres</th>\n",
       "      <td>float64</td>\n",
       "      <td>52479</td>\n",
       "      <td>36</td>\n",
       "    </tr>\n",
       "    <tr>\n",
       "      <th>Gaz - TAC</th>\n",
       "      <td>object</td>\n",
       "      <td>52479</td>\n",
       "      <td>841</td>\n",
       "    </tr>\n",
       "    <tr>\n",
       "      <th>Gaz - Cogén.</th>\n",
       "      <td>object</td>\n",
       "      <td>52479</td>\n",
       "      <td>3003</td>\n",
       "    </tr>\n",
       "    <tr>\n",
       "      <th>Gaz - CCG</th>\n",
       "      <td>float64</td>\n",
       "      <td>52479</td>\n",
       "      <td>6427</td>\n",
       "    </tr>\n",
       "    <tr>\n",
       "      <th>Gaz - Autres</th>\n",
       "      <td>float64</td>\n",
       "      <td>52479</td>\n",
       "      <td>4</td>\n",
       "    </tr>\n",
       "    <tr>\n",
       "      <th>Hydraulique - Fil de l?eau + éclusée</th>\n",
       "      <td>object</td>\n",
       "      <td>52479</td>\n",
       "      <td>9354</td>\n",
       "    </tr>\n",
       "    <tr>\n",
       "      <th>Hydraulique - Lacs</th>\n",
       "      <td>object</td>\n",
       "      <td>52479</td>\n",
       "      <td>7580</td>\n",
       "    </tr>\n",
       "    <tr>\n",
       "      <th>Hydraulique - STEP turbinage</th>\n",
       "      <td>float64</td>\n",
       "      <td>52479</td>\n",
       "      <td>3381</td>\n",
       "    </tr>\n",
       "    <tr>\n",
       "      <th>Bioénergies - Déchets</th>\n",
       "      <td>object</td>\n",
       "      <td>52479</td>\n",
       "      <td>336</td>\n",
       "    </tr>\n",
       "    <tr>\n",
       "      <th>Bioénergies - Biomasse</th>\n",
       "      <td>float64</td>\n",
       "      <td>52479</td>\n",
       "      <td>443</td>\n",
       "    </tr>\n",
       "    <tr>\n",
       "      <th>Bioénergies - Biogaz</th>\n",
       "      <td>float64</td>\n",
       "      <td>52479</td>\n",
       "      <td>31</td>\n",
       "    </tr>\n",
       "    <tr>\n",
       "      <th>Stockage batterie</th>\n",
       "      <td>object</td>\n",
       "      <td>52479</td>\n",
       "      <td>91</td>\n",
       "    </tr>\n",
       "    <tr>\n",
       "      <th>Déstockage batterie</th>\n",
       "      <td>object</td>\n",
       "      <td>52479</td>\n",
       "      <td>60</td>\n",
       "    </tr>\n",
       "    <tr>\n",
       "      <th>Eolien terrestre</th>\n",
       "      <td>object</td>\n",
       "      <td>52479</td>\n",
       "      <td>8269</td>\n",
       "    </tr>\n",
       "    <tr>\n",
       "      <th>Eolien offshore</th>\n",
       "      <td>object</td>\n",
       "      <td>52479</td>\n",
       "      <td>1362</td>\n",
       "    </tr>\n",
       "  </tbody>\n",
       "</table>\n",
       "</div>"
      ],
      "text/plain": [
       "                                        Types  Count  NUnique\n",
       "Périmètre                              object  52705        2\n",
       "Nature                                 object  52704        1\n",
       "Date                                   object  52704      549\n",
       "Heures                                 object  52704       96\n",
       "Consommation                          float64  52479    26699\n",
       "Prévision J-1                          object  52704     1973\n",
       "Prévision J                           float64  52512     2035\n",
       "Fioul                                 float64  52479     1147\n",
       "Charbon                               float64  52479     1594\n",
       "Gaz                                   float64  52479     8782\n",
       "Nucléaire                             float64  52479    20068\n",
       "Eolien                                float64  52479    12250\n",
       "Solaire                               float64  52479    10009\n",
       "Hydraulique                           float64  52479     9844\n",
       "Pompage                               float64  52479     3592\n",
       "Bioénergies                           float64  52479      654\n",
       "Ech. physiques                        float64  52479    21093\n",
       "Taux de Co2                           float64  52479      110\n",
       "Ech. comm. Angleterre                 float64  26256     5255\n",
       "Ech. comm. Espagne                    float64  26256     3032\n",
       "Ech. comm. Italie                     float64  26256     3619\n",
       "Ech. comm. Suisse                     float64  26256     4128\n",
       "Ech. comm. Allemagne-Belgique         float64  26256    11627\n",
       "Fioul - TAC                           float64  52479     1079\n",
       "Fioul - Cogén.                        float64  52479       33\n",
       "Fioul - Autres                        float64  52479       36\n",
       "Gaz - TAC                              object  52479      841\n",
       "Gaz - Cogén.                           object  52479     3003\n",
       "Gaz - CCG                             float64  52479     6427\n",
       "Gaz - Autres                          float64  52479        4\n",
       "Hydraulique - Fil de l?eau + éclusée   object  52479     9354\n",
       "Hydraulique - Lacs                     object  52479     7580\n",
       "Hydraulique - STEP turbinage          float64  52479     3381\n",
       "Bioénergies - Déchets                  object  52479      336\n",
       "Bioénergies - Biomasse                float64  52479      443\n",
       "Bioénergies - Biogaz                  float64  52479       31\n",
       " Stockage batterie                     object  52479       91\n",
       "Déstockage batterie                    object  52479       60\n",
       "Eolien terrestre                       object  52479     8269\n",
       "Eolien offshore                        object  52479     1362"
      ]
     },
     "execution_count": 4,
     "metadata": {},
     "output_type": "execute_result"
    }
   ],
   "source": [
    "print(f\"{df.shape[0]} rows and {df.shape[1]} columns\")\n",
    "\n",
    "# Combine dtypre, count and nnunique\n",
    "pd.concat([df.dtypes, df.count(), df.nunique()], keys=[\"Types\", \"Count\", \"NUnique\"], axis=1)"
   ]
  },
  {
   "cell_type": "markdown",
   "metadata": {},
   "source": [
    "## Statistiques descriptives des valeurs non-définies"
   ]
  },
  {
   "cell_type": "code",
   "execution_count": 5,
   "metadata": {},
   "outputs": [
    {
     "data": {
      "text/html": [
       "<div>\n",
       "<style scoped>\n",
       "    .dataframe tbody tr th:only-of-type {\n",
       "        vertical-align: middle;\n",
       "    }\n",
       "\n",
       "    .dataframe tbody tr th {\n",
       "        vertical-align: top;\n",
       "    }\n",
       "\n",
       "    .dataframe thead th {\n",
       "        text-align: right;\n",
       "    }\n",
       "</style>\n",
       "<table border=\"1\" class=\"dataframe\">\n",
       "  <thead>\n",
       "    <tr style=\"text-align: right;\">\n",
       "      <th></th>\n",
       "      <th>column</th>\n",
       "      <th>nb_lines</th>\n",
       "      <th>nb_ND</th>\n",
       "      <th>%ND</th>\n",
       "    </tr>\n",
       "  </thead>\n",
       "  <tbody>\n",
       "    <tr>\n",
       "      <th>0</th>\n",
       "      <td>Eolien offshore</td>\n",
       "      <td>52479.0</td>\n",
       "      <td>39838.0</td>\n",
       "      <td>75.912270</td>\n",
       "    </tr>\n",
       "    <tr>\n",
       "      <th>1</th>\n",
       "      <td>Eolien terrestre</td>\n",
       "      <td>52479.0</td>\n",
       "      <td>39838.0</td>\n",
       "      <td>75.912270</td>\n",
       "    </tr>\n",
       "    <tr>\n",
       "      <th>2</th>\n",
       "      <td>Déstockage batterie</td>\n",
       "      <td>52479.0</td>\n",
       "      <td>28224.0</td>\n",
       "      <td>53.781513</td>\n",
       "    </tr>\n",
       "    <tr>\n",
       "      <th>3</th>\n",
       "      <td>Stockage batterie</td>\n",
       "      <td>52479.0</td>\n",
       "      <td>28224.0</td>\n",
       "      <td>53.781513</td>\n",
       "    </tr>\n",
       "    <tr>\n",
       "      <th>34</th>\n",
       "      <td>Prévision J-1</td>\n",
       "      <td>52704.0</td>\n",
       "      <td>95.0</td>\n",
       "      <td>0.180252</td>\n",
       "    </tr>\n",
       "    <tr>\n",
       "      <th>9</th>\n",
       "      <td>Hydraulique - Fil de l?eau + éclusée</td>\n",
       "      <td>52479.0</td>\n",
       "      <td>8.0</td>\n",
       "      <td>0.015244</td>\n",
       "    </tr>\n",
       "    <tr>\n",
       "      <th>12</th>\n",
       "      <td>Gaz - Cogén.</td>\n",
       "      <td>52479.0</td>\n",
       "      <td>7.0</td>\n",
       "      <td>0.013339</td>\n",
       "    </tr>\n",
       "    <tr>\n",
       "      <th>13</th>\n",
       "      <td>Gaz - TAC</td>\n",
       "      <td>52479.0</td>\n",
       "      <td>6.0</td>\n",
       "      <td>0.011433</td>\n",
       "    </tr>\n",
       "    <tr>\n",
       "      <th>8</th>\n",
       "      <td>Hydraulique - Lacs</td>\n",
       "      <td>52479.0</td>\n",
       "      <td>3.0</td>\n",
       "      <td>0.005717</td>\n",
       "    </tr>\n",
       "    <tr>\n",
       "      <th>6</th>\n",
       "      <td>Bioénergies - Déchets</td>\n",
       "      <td>52479.0</td>\n",
       "      <td>1.0</td>\n",
       "      <td>0.001906</td>\n",
       "    </tr>\n",
       "    <tr>\n",
       "      <th>36</th>\n",
       "      <td>Heures</td>\n",
       "      <td>52704.0</td>\n",
       "      <td>0.0</td>\n",
       "      <td>0.000000</td>\n",
       "    </tr>\n",
       "    <tr>\n",
       "      <th>30</th>\n",
       "      <td>Gaz</td>\n",
       "      <td>52479.0</td>\n",
       "      <td>0.0</td>\n",
       "      <td>0.000000</td>\n",
       "    </tr>\n",
       "    <tr>\n",
       "      <th>26</th>\n",
       "      <td>Hydraulique</td>\n",
       "      <td>52479.0</td>\n",
       "      <td>0.0</td>\n",
       "      <td>0.000000</td>\n",
       "    </tr>\n",
       "    <tr>\n",
       "      <th>27</th>\n",
       "      <td>Solaire</td>\n",
       "      <td>52479.0</td>\n",
       "      <td>0.0</td>\n",
       "      <td>0.000000</td>\n",
       "    </tr>\n",
       "    <tr>\n",
       "      <th>38</th>\n",
       "      <td>Nature</td>\n",
       "      <td>52704.0</td>\n",
       "      <td>0.0</td>\n",
       "      <td>0.000000</td>\n",
       "    </tr>\n",
       "    <tr>\n",
       "      <th>28</th>\n",
       "      <td>Eolien</td>\n",
       "      <td>52479.0</td>\n",
       "      <td>0.0</td>\n",
       "      <td>0.000000</td>\n",
       "    </tr>\n",
       "    <tr>\n",
       "      <th>29</th>\n",
       "      <td>Nucléaire</td>\n",
       "      <td>52479.0</td>\n",
       "      <td>0.0</td>\n",
       "      <td>0.000000</td>\n",
       "    </tr>\n",
       "    <tr>\n",
       "      <th>32</th>\n",
       "      <td>Fioul</td>\n",
       "      <td>52479.0</td>\n",
       "      <td>0.0</td>\n",
       "      <td>0.000000</td>\n",
       "    </tr>\n",
       "    <tr>\n",
       "      <th>31</th>\n",
       "      <td>Charbon</td>\n",
       "      <td>52479.0</td>\n",
       "      <td>0.0</td>\n",
       "      <td>0.000000</td>\n",
       "    </tr>\n",
       "    <tr>\n",
       "      <th>33</th>\n",
       "      <td>Prévision J</td>\n",
       "      <td>52512.0</td>\n",
       "      <td>0.0</td>\n",
       "      <td>0.000000</td>\n",
       "    </tr>\n",
       "    <tr>\n",
       "      <th>24</th>\n",
       "      <td>Bioénergies</td>\n",
       "      <td>52479.0</td>\n",
       "      <td>0.0</td>\n",
       "      <td>0.000000</td>\n",
       "    </tr>\n",
       "    <tr>\n",
       "      <th>37</th>\n",
       "      <td>Date</td>\n",
       "      <td>52704.0</td>\n",
       "      <td>0.0</td>\n",
       "      <td>0.000000</td>\n",
       "    </tr>\n",
       "    <tr>\n",
       "      <th>35</th>\n",
       "      <td>Consommation</td>\n",
       "      <td>52479.0</td>\n",
       "      <td>0.0</td>\n",
       "      <td>0.000000</td>\n",
       "    </tr>\n",
       "    <tr>\n",
       "      <th>25</th>\n",
       "      <td>Pompage</td>\n",
       "      <td>52479.0</td>\n",
       "      <td>0.0</td>\n",
       "      <td>0.000000</td>\n",
       "    </tr>\n",
       "    <tr>\n",
       "      <th>20</th>\n",
       "      <td>Ech. comm. Espagne</td>\n",
       "      <td>26256.0</td>\n",
       "      <td>0.0</td>\n",
       "      <td>0.000000</td>\n",
       "    </tr>\n",
       "    <tr>\n",
       "      <th>23</th>\n",
       "      <td>Ech. physiques</td>\n",
       "      <td>52479.0</td>\n",
       "      <td>0.0</td>\n",
       "      <td>0.000000</td>\n",
       "    </tr>\n",
       "    <tr>\n",
       "      <th>22</th>\n",
       "      <td>Taux de Co2</td>\n",
       "      <td>52479.0</td>\n",
       "      <td>0.0</td>\n",
       "      <td>0.000000</td>\n",
       "    </tr>\n",
       "    <tr>\n",
       "      <th>21</th>\n",
       "      <td>Ech. comm. Angleterre</td>\n",
       "      <td>26256.0</td>\n",
       "      <td>0.0</td>\n",
       "      <td>0.000000</td>\n",
       "    </tr>\n",
       "    <tr>\n",
       "      <th>19</th>\n",
       "      <td>Ech. comm. Italie</td>\n",
       "      <td>26256.0</td>\n",
       "      <td>0.0</td>\n",
       "      <td>0.000000</td>\n",
       "    </tr>\n",
       "    <tr>\n",
       "      <th>18</th>\n",
       "      <td>Ech. comm. Suisse</td>\n",
       "      <td>26256.0</td>\n",
       "      <td>0.0</td>\n",
       "      <td>0.000000</td>\n",
       "    </tr>\n",
       "    <tr>\n",
       "      <th>17</th>\n",
       "      <td>Ech. comm. Allemagne-Belgique</td>\n",
       "      <td>26256.0</td>\n",
       "      <td>0.0</td>\n",
       "      <td>0.000000</td>\n",
       "    </tr>\n",
       "    <tr>\n",
       "      <th>16</th>\n",
       "      <td>Fioul - TAC</td>\n",
       "      <td>52479.0</td>\n",
       "      <td>0.0</td>\n",
       "      <td>0.000000</td>\n",
       "    </tr>\n",
       "    <tr>\n",
       "      <th>15</th>\n",
       "      <td>Fioul - Cogén.</td>\n",
       "      <td>52479.0</td>\n",
       "      <td>0.0</td>\n",
       "      <td>0.000000</td>\n",
       "    </tr>\n",
       "    <tr>\n",
       "      <th>14</th>\n",
       "      <td>Fioul - Autres</td>\n",
       "      <td>52479.0</td>\n",
       "      <td>0.0</td>\n",
       "      <td>0.000000</td>\n",
       "    </tr>\n",
       "    <tr>\n",
       "      <th>11</th>\n",
       "      <td>Gaz - CCG</td>\n",
       "      <td>52479.0</td>\n",
       "      <td>0.0</td>\n",
       "      <td>0.000000</td>\n",
       "    </tr>\n",
       "    <tr>\n",
       "      <th>10</th>\n",
       "      <td>Gaz - Autres</td>\n",
       "      <td>52479.0</td>\n",
       "      <td>0.0</td>\n",
       "      <td>0.000000</td>\n",
       "    </tr>\n",
       "    <tr>\n",
       "      <th>7</th>\n",
       "      <td>Hydraulique - STEP turbinage</td>\n",
       "      <td>52479.0</td>\n",
       "      <td>0.0</td>\n",
       "      <td>0.000000</td>\n",
       "    </tr>\n",
       "    <tr>\n",
       "      <th>5</th>\n",
       "      <td>Bioénergies - Biomasse</td>\n",
       "      <td>52479.0</td>\n",
       "      <td>0.0</td>\n",
       "      <td>0.000000</td>\n",
       "    </tr>\n",
       "    <tr>\n",
       "      <th>4</th>\n",
       "      <td>Bioénergies - Biogaz</td>\n",
       "      <td>52479.0</td>\n",
       "      <td>0.0</td>\n",
       "      <td>0.000000</td>\n",
       "    </tr>\n",
       "    <tr>\n",
       "      <th>39</th>\n",
       "      <td>Périmètre</td>\n",
       "      <td>52705.0</td>\n",
       "      <td>0.0</td>\n",
       "      <td>0.000000</td>\n",
       "    </tr>\n",
       "  </tbody>\n",
       "</table>\n",
       "</div>"
      ],
      "text/plain": [
       "                                  column  nb_lines    nb_ND        %ND\n",
       "0                        Eolien offshore   52479.0  39838.0  75.912270\n",
       "1                       Eolien terrestre   52479.0  39838.0  75.912270\n",
       "2                    Déstockage batterie   52479.0  28224.0  53.781513\n",
       "3                      Stockage batterie   52479.0  28224.0  53.781513\n",
       "34                         Prévision J-1   52704.0     95.0   0.180252\n",
       "9   Hydraulique - Fil de l?eau + éclusée   52479.0      8.0   0.015244\n",
       "12                          Gaz - Cogén.   52479.0      7.0   0.013339\n",
       "13                             Gaz - TAC   52479.0      6.0   0.011433\n",
       "8                     Hydraulique - Lacs   52479.0      3.0   0.005717\n",
       "6                  Bioénergies - Déchets   52479.0      1.0   0.001906\n",
       "36                                Heures   52704.0      0.0   0.000000\n",
       "30                                   Gaz   52479.0      0.0   0.000000\n",
       "26                           Hydraulique   52479.0      0.0   0.000000\n",
       "27                               Solaire   52479.0      0.0   0.000000\n",
       "38                                Nature   52704.0      0.0   0.000000\n",
       "28                                Eolien   52479.0      0.0   0.000000\n",
       "29                             Nucléaire   52479.0      0.0   0.000000\n",
       "32                                 Fioul   52479.0      0.0   0.000000\n",
       "31                               Charbon   52479.0      0.0   0.000000\n",
       "33                           Prévision J   52512.0      0.0   0.000000\n",
       "24                           Bioénergies   52479.0      0.0   0.000000\n",
       "37                                  Date   52704.0      0.0   0.000000\n",
       "35                          Consommation   52479.0      0.0   0.000000\n",
       "25                               Pompage   52479.0      0.0   0.000000\n",
       "20                    Ech. comm. Espagne   26256.0      0.0   0.000000\n",
       "23                        Ech. physiques   52479.0      0.0   0.000000\n",
       "22                           Taux de Co2   52479.0      0.0   0.000000\n",
       "21                 Ech. comm. Angleterre   26256.0      0.0   0.000000\n",
       "19                     Ech. comm. Italie   26256.0      0.0   0.000000\n",
       "18                     Ech. comm. Suisse   26256.0      0.0   0.000000\n",
       "17         Ech. comm. Allemagne-Belgique   26256.0      0.0   0.000000\n",
       "16                           Fioul - TAC   52479.0      0.0   0.000000\n",
       "15                        Fioul - Cogén.   52479.0      0.0   0.000000\n",
       "14                        Fioul - Autres   52479.0      0.0   0.000000\n",
       "11                             Gaz - CCG   52479.0      0.0   0.000000\n",
       "10                          Gaz - Autres   52479.0      0.0   0.000000\n",
       "7           Hydraulique - STEP turbinage   52479.0      0.0   0.000000\n",
       "5                 Bioénergies - Biomasse   52479.0      0.0   0.000000\n",
       "4                   Bioénergies - Biogaz   52479.0      0.0   0.000000\n",
       "39                             Périmètre   52705.0      0.0   0.000000"
      ]
     },
     "execution_count": 5,
     "metadata": {},
     "output_type": "execute_result"
    }
   ],
   "source": [
    "temp = ({\n",
    "    'column':[],\n",
    "    'nb_lines' :[],\n",
    "    'nb_ND':[]\n",
    "})\n",
    "\n",
    "nd = pd.DataFrame(temp)\n",
    "\n",
    "for column in df.columns : \n",
    "    new_row = pd.DataFrame({'column': column, 'nb_lines': df[column].count(), 'nb_ND': (df[column] == 'ND').sum()}, index=[0])\n",
    "    nd = pd.concat([new_row, nd.loc[:]]).reset_index(drop=True)\n",
    "nd = nd.sort_values(by='nb_ND', ascending=False)\n",
    "\n",
    "nd[\"%ND\"] = nd[\"nb_ND\"] / nd[\"nb_lines\"] * 100\n",
    "\n",
    "nd"
   ]
  },
  {
   "cell_type": "markdown",
   "metadata": {},
   "source": [
    "## Dataset météo"
   ]
  },
  {
   "cell_type": "code",
   "execution_count": 6,
   "metadata": {},
   "outputs": [
    {
     "name": "stdout",
     "output_type": "stream",
     "text": [
      "341186 rows and 60 columns\n"
     ]
    }
   ],
   "source": [
    "df_weather = pd.read_csv(\"donnees-synop-essentielles-omm.csv\", sep=\";\", index_col=False, encoding='utf-8')\n",
    "\n",
    "# df_weather.head()\n",
    "print(f\"{df_weather.shape[0]} rows and {df_weather.shape[1]} columns\")"
   ]
  },
  {
   "cell_type": "markdown",
   "metadata": {},
   "source": [
    "Selection des données d'une seule région. (Pourais être remplacer par une moyenne des régions) "
   ]
  },
  {
   "cell_type": "code",
   "execution_count": 7,
   "metadata": {},
   "outputs": [
    {
     "name": "stdout",
     "output_type": "stream",
     "text": [
      "5690 rows and 60 columns\n"
     ]
    }
   ],
   "source": [
    "code_region = int('07149')  # Ile-de-France\n",
    "df_weather = df_weather[df_weather[\"numer_sta\"] == code_region]\n",
    "\n",
    "# df_weather.head()\n",
    "print(f\"{df_weather.shape[0]} rows and {df_weather.shape[1]} columns\")"
   ]
  },
  {
   "cell_type": "markdown",
   "metadata": {},
   "source": [
    "Suppresion des lignes avec des valeurs manquantes."
   ]
  },
  {
   "cell_type": "code",
   "execution_count": 8,
   "metadata": {},
   "outputs": [],
   "source": [
    "df = df.dropna(subset=['Date', \"Heures\"])"
   ]
  },
  {
   "cell_type": "markdown",
   "metadata": {},
   "source": [
    "## Fusion des deux datasets\n",
    "\n",
    "Formatage des deate et heure des deux datasets."
   ]
  },
  {
   "cell_type": "code",
   "execution_count": 9,
   "metadata": {},
   "outputs": [
    {
     "data": {
      "text/plain": [
       "0   2022-06-01 00:00:00\n",
       "1   2022-06-01 00:15:00\n",
       "2   2022-06-01 00:30:00\n",
       "3   2022-06-01 00:45:00\n",
       "4   2022-06-01 01:00:00\n",
       "Name: date, dtype: datetime64[ns]"
      ]
     },
     "execution_count": 9,
     "metadata": {},
     "output_type": "execute_result"
    }
   ],
   "source": [
    "# Concat date and hours\n",
    "df['date'] = df['Date'].astype(str) + df['Heures'].astype(str)\n",
    "# Convert to datetime\n",
    "df['date'] = df['date'].apply(lambda x: pd.to_datetime(str(x), format='%Y-%m-%d%H:%M'))\n",
    "\n",
    "df['date'].head()"
   ]
  },
  {
   "cell_type": "code",
   "execution_count": 10,
   "metadata": {},
   "outputs": [
    {
     "data": {
      "text/plain": [
       "10       2022-01-01 00:00:00\n",
       "69       2022-01-01 03:00:00\n",
       "128      2022-01-01 06:00:00\n",
       "179      2022-01-01 09:00:00\n",
       "226      2022-01-01 12:00:00\n",
       "                 ...        \n",
       "340888   2023-12-14 09:00:00\n",
       "340949   2023-12-14 12:00:00\n",
       "341011   2023-12-14 15:00:00\n",
       "341072   2023-12-14 18:00:00\n",
       "341134   2023-12-14 21:00:00\n",
       "Name: date, Length: 5690, dtype: datetime64[ns]"
      ]
     },
     "execution_count": 10,
     "metadata": {},
     "output_type": "execute_result"
    }
   ],
   "source": [
    "df_weather[\"date\"] = df_weather['date'].apply(lambda x: pd.to_datetime(str(x), format='%Y%m%d%H%M%S'))\n",
    "df_weather[\"date\"]"
   ]
  },
  {
   "cell_type": "markdown",
   "metadata": {},
   "source": [
    "### Formattage des données météo"
   ]
  },
  {
   "cell_type": "code",
   "execution_count": 31,
   "metadata": {},
   "outputs": [
    {
     "data": {
      "text/html": [
       "<div>\n",
       "<style scoped>\n",
       "    .dataframe tbody tr th:only-of-type {\n",
       "        vertical-align: middle;\n",
       "    }\n",
       "\n",
       "    .dataframe tbody tr th {\n",
       "        vertical-align: top;\n",
       "    }\n",
       "\n",
       "    .dataframe thead th {\n",
       "        text-align: right;\n",
       "    }\n",
       "</style>\n",
       "<table border=\"1\" class=\"dataframe\">\n",
       "  <thead>\n",
       "    <tr style=\"text-align: right;\">\n",
       "      <th></th>\n",
       "      <th>name</th>\n",
       "      <th>pression_mer</th>\n",
       "      <th>vitesse_vent</th>\n",
       "      <th>température</th>\n",
       "      <th>humidité</th>\n",
       "      <th>pression</th>\n",
       "      <th>niveau_barometrique</th>\n",
       "      <th>t_min_12h</th>\n",
       "      <th>t_min_24h</th>\n",
       "      <th>t_max_12h</th>\n",
       "      <th>t_max_24h</th>\n",
       "      <th>t_min_sol_12h</th>\n",
       "      <th>hauteur_neige</th>\n",
       "      <th>précipitation_1h</th>\n",
       "      <th>précipitation_3h</th>\n",
       "      <th>précipitation_6h</th>\n",
       "      <th>précipitation_12h</th>\n",
       "      <th>précipitation_24h</th>\n",
       "    </tr>\n",
       "  </thead>\n",
       "  <tbody>\n",
       "    <tr>\n",
       "      <th>10</th>\n",
       "      <td>2022-01-01 00:00:00</td>\n",
       "      <td>102650</td>\n",
       "      <td>1.800000</td>\n",
       "      <td>282.850000</td>\n",
       "      <td>99</td>\n",
       "      <td>101550</td>\n",
       "      <td>None</td>\n",
       "      <td>None</td>\n",
       "      <td>None</td>\n",
       "      <td>None</td>\n",
       "      <td>None</td>\n",
       "      <td>None</td>\n",
       "      <td>0.000000</td>\n",
       "      <td>0.000000</td>\n",
       "      <td>0.000000</td>\n",
       "      <td>0.000000</td>\n",
       "      <td>0.000000</td>\n",
       "      <td>0.200000</td>\n",
       "    </tr>\n",
       "    <tr>\n",
       "      <th>69</th>\n",
       "      <td>2022-01-01 03:00:00</td>\n",
       "      <td>102630</td>\n",
       "      <td>1.500000</td>\n",
       "      <td>282.050000</td>\n",
       "      <td>100</td>\n",
       "      <td>101520</td>\n",
       "      <td>None</td>\n",
       "      <td>None</td>\n",
       "      <td>None</td>\n",
       "      <td>None</td>\n",
       "      <td>None</td>\n",
       "      <td>None</td>\n",
       "      <td>0.000000</td>\n",
       "      <td>0.000000</td>\n",
       "      <td>0.000000</td>\n",
       "      <td>0.000000</td>\n",
       "      <td>0.000000</td>\n",
       "      <td>0.200000</td>\n",
       "    </tr>\n",
       "    <tr>\n",
       "      <th>128</th>\n",
       "      <td>2022-01-01 06:00:00</td>\n",
       "      <td>102590</td>\n",
       "      <td>1.000000</td>\n",
       "      <td>280.950000</td>\n",
       "      <td>100</td>\n",
       "      <td>101480</td>\n",
       "      <td>None</td>\n",
       "      <td>280.950000</td>\n",
       "      <td>None</td>\n",
       "      <td>285.050000</td>\n",
       "      <td>None</td>\n",
       "      <td>None</td>\n",
       "      <td>0.000000</td>\n",
       "      <td>0.000000</td>\n",
       "      <td>0.200000</td>\n",
       "      <td>0.200000</td>\n",
       "      <td>0.200000</td>\n",
       "      <td>0.200000</td>\n",
       "    </tr>\n",
       "    <tr>\n",
       "      <th>179</th>\n",
       "      <td>2022-01-01 09:00:00</td>\n",
       "      <td>102580</td>\n",
       "      <td>0.600000</td>\n",
       "      <td>280.650000</td>\n",
       "      <td>100</td>\n",
       "      <td>101470</td>\n",
       "      <td>None</td>\n",
       "      <td>None</td>\n",
       "      <td>None</td>\n",
       "      <td>None</td>\n",
       "      <td>None</td>\n",
       "      <td>None</td>\n",
       "      <td>0.000000</td>\n",
       "      <td>0.000000</td>\n",
       "      <td>0.000000</td>\n",
       "      <td>0.200000</td>\n",
       "      <td>0.200000</td>\n",
       "      <td>0.200000</td>\n",
       "    </tr>\n",
       "    <tr>\n",
       "      <th>226</th>\n",
       "      <td>2022-01-01 12:00:00</td>\n",
       "      <td>102460</td>\n",
       "      <td>3.600000</td>\n",
       "      <td>285.350000</td>\n",
       "      <td>81</td>\n",
       "      <td>101370</td>\n",
       "      <td>None</td>\n",
       "      <td>None</td>\n",
       "      <td>None</td>\n",
       "      <td>None</td>\n",
       "      <td>None</td>\n",
       "      <td>None</td>\n",
       "      <td>None</td>\n",
       "      <td>0.000000</td>\n",
       "      <td>0.000000</td>\n",
       "      <td>0.000000</td>\n",
       "      <td>0.200000</td>\n",
       "      <td>0.200000</td>\n",
       "    </tr>\n",
       "    <tr>\n",
       "      <th>...</th>\n",
       "      <td>...</td>\n",
       "      <td>...</td>\n",
       "      <td>...</td>\n",
       "      <td>...</td>\n",
       "      <td>...</td>\n",
       "      <td>...</td>\n",
       "      <td>...</td>\n",
       "      <td>...</td>\n",
       "      <td>...</td>\n",
       "      <td>...</td>\n",
       "      <td>...</td>\n",
       "      <td>...</td>\n",
       "      <td>...</td>\n",
       "      <td>...</td>\n",
       "      <td>...</td>\n",
       "      <td>...</td>\n",
       "      <td>...</td>\n",
       "      <td>...</td>\n",
       "    </tr>\n",
       "    <tr>\n",
       "      <th>340888</th>\n",
       "      <td>2023-12-14 09:00:00</td>\n",
       "      <td>102170</td>\n",
       "      <td>5.200000</td>\n",
       "      <td>280.450000</td>\n",
       "      <td>89</td>\n",
       "      <td>101060</td>\n",
       "      <td>None</td>\n",
       "      <td>None</td>\n",
       "      <td>None</td>\n",
       "      <td>None</td>\n",
       "      <td>None</td>\n",
       "      <td>None</td>\n",
       "      <td>0.000000</td>\n",
       "      <td>-0.100000</td>\n",
       "      <td>0.200000</td>\n",
       "      <td>0.200000</td>\n",
       "      <td>0.400000</td>\n",
       "      <td>2.400000</td>\n",
       "    </tr>\n",
       "    <tr>\n",
       "      <th>340949</th>\n",
       "      <td>2023-12-14 12:00:00</td>\n",
       "      <td>102420</td>\n",
       "      <td>4.400000</td>\n",
       "      <td>281.250000</td>\n",
       "      <td>74</td>\n",
       "      <td>101310</td>\n",
       "      <td>None</td>\n",
       "      <td>None</td>\n",
       "      <td>None</td>\n",
       "      <td>None</td>\n",
       "      <td>None</td>\n",
       "      <td>None</td>\n",
       "      <td>0.000000</td>\n",
       "      <td>0.000000</td>\n",
       "      <td>-0.100000</td>\n",
       "      <td>0.200000</td>\n",
       "      <td>0.200000</td>\n",
       "      <td>2.400000</td>\n",
       "    </tr>\n",
       "    <tr>\n",
       "      <th>341011</th>\n",
       "      <td>2023-12-14 15:00:00</td>\n",
       "      <td>102550</td>\n",
       "      <td>3.900000</td>\n",
       "      <td>281.150000</td>\n",
       "      <td>75</td>\n",
       "      <td>101440</td>\n",
       "      <td>None</td>\n",
       "      <td>None</td>\n",
       "      <td>None</td>\n",
       "      <td>None</td>\n",
       "      <td>None</td>\n",
       "      <td>None</td>\n",
       "      <td>0.000000</td>\n",
       "      <td>0.000000</td>\n",
       "      <td>0.000000</td>\n",
       "      <td>-0.100000</td>\n",
       "      <td>0.200000</td>\n",
       "      <td>0.800000</td>\n",
       "    </tr>\n",
       "    <tr>\n",
       "      <th>341072</th>\n",
       "      <td>2023-12-14 18:00:00</td>\n",
       "      <td>102770</td>\n",
       "      <td>2.600000</td>\n",
       "      <td>280.650000</td>\n",
       "      <td>82</td>\n",
       "      <td>101660</td>\n",
       "      <td>None</td>\n",
       "      <td>280.450000</td>\n",
       "      <td>None</td>\n",
       "      <td>282.050000</td>\n",
       "      <td>None</td>\n",
       "      <td>None</td>\n",
       "      <td>0.000000</td>\n",
       "      <td>0.000000</td>\n",
       "      <td>0.000000</td>\n",
       "      <td>0.000000</td>\n",
       "      <td>0.200000</td>\n",
       "      <td>0.800000</td>\n",
       "    </tr>\n",
       "    <tr>\n",
       "      <th>341134</th>\n",
       "      <td>2023-12-14 21:00:00</td>\n",
       "      <td>102920</td>\n",
       "      <td>3.400000</td>\n",
       "      <td>280.750000</td>\n",
       "      <td>83</td>\n",
       "      <td>101800</td>\n",
       "      <td>None</td>\n",
       "      <td>None</td>\n",
       "      <td>None</td>\n",
       "      <td>None</td>\n",
       "      <td>None</td>\n",
       "      <td>None</td>\n",
       "      <td>0.000000</td>\n",
       "      <td>0.000000</td>\n",
       "      <td>0.000000</td>\n",
       "      <td>0.000000</td>\n",
       "      <td>-0.100000</td>\n",
       "      <td>0.400000</td>\n",
       "    </tr>\n",
       "  </tbody>\n",
       "</table>\n",
       "<p>5690 rows × 18 columns</p>\n",
       "</div>"
      ],
      "text/plain": [
       "                      name pression_mer vitesse_vent température humidité  \\\n",
       "10     2022-01-01 00:00:00       102650     1.800000  282.850000       99   \n",
       "69     2022-01-01 03:00:00       102630     1.500000  282.050000      100   \n",
       "128    2022-01-01 06:00:00       102590     1.000000  280.950000      100   \n",
       "179    2022-01-01 09:00:00       102580     0.600000  280.650000      100   \n",
       "226    2022-01-01 12:00:00       102460     3.600000  285.350000       81   \n",
       "...                    ...          ...          ...         ...      ...   \n",
       "340888 2023-12-14 09:00:00       102170     5.200000  280.450000       89   \n",
       "340949 2023-12-14 12:00:00       102420     4.400000  281.250000       74   \n",
       "341011 2023-12-14 15:00:00       102550     3.900000  281.150000       75   \n",
       "341072 2023-12-14 18:00:00       102770     2.600000  280.650000       82   \n",
       "341134 2023-12-14 21:00:00       102920     3.400000  280.750000       83   \n",
       "\n",
       "       pression niveau_barometrique   t_min_12h t_min_24h   t_max_12h  \\\n",
       "10       101550                None        None      None        None   \n",
       "69       101520                None        None      None        None   \n",
       "128      101480                None  280.950000      None  285.050000   \n",
       "179      101470                None        None      None        None   \n",
       "226      101370                None        None      None        None   \n",
       "...         ...                 ...         ...       ...         ...   \n",
       "340888   101060                None        None      None        None   \n",
       "340949   101310                None        None      None        None   \n",
       "341011   101440                None        None      None        None   \n",
       "341072   101660                None  280.450000      None  282.050000   \n",
       "341134   101800                None        None      None        None   \n",
       "\n",
       "       t_max_24h t_min_sol_12h hauteur_neige précipitation_1h  \\\n",
       "10          None          None      0.000000         0.000000   \n",
       "69          None          None      0.000000         0.000000   \n",
       "128         None          None      0.000000         0.000000   \n",
       "179         None          None      0.000000         0.000000   \n",
       "226         None          None          None         0.000000   \n",
       "...          ...           ...           ...              ...   \n",
       "340888      None          None      0.000000        -0.100000   \n",
       "340949      None          None      0.000000         0.000000   \n",
       "341011      None          None      0.000000         0.000000   \n",
       "341072      None          None      0.000000         0.000000   \n",
       "341134      None          None      0.000000         0.000000   \n",
       "\n",
       "       précipitation_3h précipitation_6h précipitation_12h précipitation_24h  \n",
       "10             0.000000         0.000000          0.000000          0.200000  \n",
       "69             0.000000         0.000000          0.000000          0.200000  \n",
       "128            0.200000         0.200000          0.200000          0.200000  \n",
       "179            0.000000         0.200000          0.200000          0.200000  \n",
       "226            0.000000         0.000000          0.200000          0.200000  \n",
       "...                 ...              ...               ...               ...  \n",
       "340888         0.200000         0.200000          0.400000          2.400000  \n",
       "340949        -0.100000         0.200000          0.200000          2.400000  \n",
       "341011         0.000000        -0.100000          0.200000          0.800000  \n",
       "341072         0.000000         0.000000          0.200000          0.800000  \n",
       "341134         0.000000         0.000000         -0.100000          0.400000  \n",
       "\n",
       "[5690 rows x 18 columns]"
      ]
     },
     "execution_count": 31,
     "metadata": {},
     "output_type": "execute_result"
    }
   ],
   "source": [
    "#multiplier les colonnes par 3 pour avoir 1 lignes par heures\n",
    "list_meteo = {\n",
    "    'date': 'name',\n",
    "    'pmer': 'pression_mer',\n",
    "    'ff': 'vitesse_vent',\n",
    "    't': 'température',\n",
    "    'u': 'humidité',\n",
    "    'pres': 'pression',\n",
    "    'niv_bar': 'niveau_barometrique',\n",
    "    'tn12': 't_min_12h',\n",
    "    'tn24': 't_min_24h',\n",
    "    'tx12': 't_max_12h',\n",
    "    'tx24': 't_max_24h',\n",
    "    'tminsol': 't_min_sol_12h',\n",
    "    'rr1': 'précipitation_1h',\n",
    "    'rr3': 'précipitation_3h',\n",
    "    'rr6': 'précipitation_6h',\n",
    "    'rr12': 'précipitation_12h',\n",
    "    'rr24': 'précipitation_24h',\n",
    "    'ssfrai': 'hauteur_neige'\n",
    "}\n",
    "df_weather = df_weather.rename(columns=list_meteo)\n",
    "#df_weather\n",
    "for col_name in df_weather.columns.values.tolist():\n",
    "    if col_name not in list_meteo.values():\n",
    "        df_weather = df_weather.drop(col_name, axis=1)\n",
    "df_weather"
   ]
  },
  {
   "cell_type": "markdown",
   "metadata": {},
   "source": [
    "### Fusion des deux datasets"
   ]
  },
  {
   "cell_type": "code",
   "execution_count": 12,
   "metadata": {},
   "outputs": [
    {
     "name": "stdout",
     "output_type": "stream",
     "text": [
      "df : 52704 rows and 41 columns\n",
      "df_weather : 5690 rows and 60 columns\n",
      "df_full : 4378 rows and 100 columns\n"
     ]
    }
   ],
   "source": [
    "df_full = pd.merge(df, df_weather, how='inner', on = 'date' )\n",
    "\n",
    "# full_df.head()\n",
    "print(f\"df : {df.shape[0]} rows and {df.shape[1]} columns\")\n",
    "print(f\"df_weather : {df_weather.shape[0]} rows and {df_weather.shape[1]} columns\")\n",
    "print(f\"df_full : {df_full.shape[0]} rows and {df_full.shape[1]} columns\")"
   ]
  },
  {
   "cell_type": "markdown",
   "metadata": {},
   "source": [
    "## Visualisation de données"
   ]
  },
  {
   "cell_type": "code",
   "execution_count": 13,
   "metadata": {},
   "outputs": [
    {
     "ename": "KeyError",
     "evalue": "\"None of [Index(['Heures', 'Consommation'], dtype='object')] are in the [index]\"",
     "output_type": "error",
     "traceback": [
      "\u001b[1;31m---------------------------------------------------------------------------\u001b[0m",
      "\u001b[1;31mKeyError\u001b[0m                                  Traceback (most recent call last)",
      "Cell \u001b[1;32mIn [13], line 2\u001b[0m\n\u001b[0;32m      1\u001b[0m \u001b[38;5;66;03m# Plot consommation over time for \u001b[39;00m\n\u001b[1;32m----> 2\u001b[0m sub_df \u001b[38;5;241m=\u001b[39m \u001b[43mdf\u001b[49m\u001b[38;5;241;43m.\u001b[39;49m\u001b[43mloc\u001b[49m\u001b[43m[\u001b[49m\u001b[43m[\u001b[49m\u001b[38;5;124;43m\"\u001b[39;49m\u001b[38;5;124;43mHeures\u001b[39;49m\u001b[38;5;124;43m\"\u001b[39;49m\u001b[43m,\u001b[49m\u001b[43m \u001b[49m\u001b[38;5;124;43m\"\u001b[39;49m\u001b[38;5;124;43mConsommation\u001b[39;49m\u001b[38;5;124;43m\"\u001b[39;49m\u001b[43m]\u001b[49m\u001b[43m]\u001b[49m\n\u001b[0;32m      3\u001b[0m sub_df \u001b[38;5;241m=\u001b[39m sub_df\u001b[38;5;241m.\u001b[39miloc[:, :\u001b[38;5;241m96\u001b[39m]\n\u001b[0;32m      5\u001b[0m sub_df\u001b[38;5;241m.\u001b[39mplot(x\u001b[38;5;241m=\u001b[39m\u001b[38;5;124m\"\u001b[39m\u001b[38;5;124mHeure\u001b[39m\u001b[38;5;124m\"\u001b[39m, y\u001b[38;5;241m=\u001b[39m\u001b[38;5;124m\"\u001b[39m\u001b[38;5;124mConsommation\u001b[39m\u001b[38;5;124m\"\u001b[39m, figsize\u001b[38;5;241m=\u001b[39m(\u001b[38;5;241m20\u001b[39m,\u001b[38;5;241m10\u001b[39m))\n",
      "File \u001b[1;32m~\\AppData\\Roaming\\Python\\Python310\\site-packages\\pandas\\core\\indexing.py:1073\u001b[0m, in \u001b[0;36m_LocationIndexer.__getitem__\u001b[1;34m(self, key)\u001b[0m\n\u001b[0;32m   1070\u001b[0m axis \u001b[38;5;241m=\u001b[39m \u001b[38;5;28mself\u001b[39m\u001b[38;5;241m.\u001b[39maxis \u001b[38;5;129;01mor\u001b[39;00m \u001b[38;5;241m0\u001b[39m\n\u001b[0;32m   1072\u001b[0m maybe_callable \u001b[38;5;241m=\u001b[39m com\u001b[38;5;241m.\u001b[39mapply_if_callable(key, \u001b[38;5;28mself\u001b[39m\u001b[38;5;241m.\u001b[39mobj)\n\u001b[1;32m-> 1073\u001b[0m \u001b[38;5;28;01mreturn\u001b[39;00m \u001b[38;5;28;43mself\u001b[39;49m\u001b[38;5;241;43m.\u001b[39;49m\u001b[43m_getitem_axis\u001b[49m\u001b[43m(\u001b[49m\u001b[43mmaybe_callable\u001b[49m\u001b[43m,\u001b[49m\u001b[43m \u001b[49m\u001b[43maxis\u001b[49m\u001b[38;5;241;43m=\u001b[39;49m\u001b[43maxis\u001b[49m\u001b[43m)\u001b[49m\n",
      "File \u001b[1;32m~\\AppData\\Roaming\\Python\\Python310\\site-packages\\pandas\\core\\indexing.py:1301\u001b[0m, in \u001b[0;36m_LocIndexer._getitem_axis\u001b[1;34m(self, key, axis)\u001b[0m\n\u001b[0;32m   1298\u001b[0m     \u001b[38;5;28;01mif\u001b[39;00m \u001b[38;5;28mhasattr\u001b[39m(key, \u001b[38;5;124m\"\u001b[39m\u001b[38;5;124mndim\u001b[39m\u001b[38;5;124m\"\u001b[39m) \u001b[38;5;129;01mand\u001b[39;00m key\u001b[38;5;241m.\u001b[39mndim \u001b[38;5;241m>\u001b[39m \u001b[38;5;241m1\u001b[39m:\n\u001b[0;32m   1299\u001b[0m         \u001b[38;5;28;01mraise\u001b[39;00m \u001b[38;5;167;01mValueError\u001b[39;00m(\u001b[38;5;124m\"\u001b[39m\u001b[38;5;124mCannot index with multidimensional key\u001b[39m\u001b[38;5;124m\"\u001b[39m)\n\u001b[1;32m-> 1301\u001b[0m     \u001b[38;5;28;01mreturn\u001b[39;00m \u001b[38;5;28;43mself\u001b[39;49m\u001b[38;5;241;43m.\u001b[39;49m\u001b[43m_getitem_iterable\u001b[49m\u001b[43m(\u001b[49m\u001b[43mkey\u001b[49m\u001b[43m,\u001b[49m\u001b[43m \u001b[49m\u001b[43maxis\u001b[49m\u001b[38;5;241;43m=\u001b[39;49m\u001b[43maxis\u001b[49m\u001b[43m)\u001b[49m\n\u001b[0;32m   1303\u001b[0m \u001b[38;5;66;03m# nested tuple slicing\u001b[39;00m\n\u001b[0;32m   1304\u001b[0m \u001b[38;5;28;01mif\u001b[39;00m is_nested_tuple(key, labels):\n",
      "File \u001b[1;32m~\\AppData\\Roaming\\Python\\Python310\\site-packages\\pandas\\core\\indexing.py:1239\u001b[0m, in \u001b[0;36m_LocIndexer._getitem_iterable\u001b[1;34m(self, key, axis)\u001b[0m\n\u001b[0;32m   1236\u001b[0m \u001b[38;5;28mself\u001b[39m\u001b[38;5;241m.\u001b[39m_validate_key(key, axis)\n\u001b[0;32m   1238\u001b[0m \u001b[38;5;66;03m# A collection of keys\u001b[39;00m\n\u001b[1;32m-> 1239\u001b[0m keyarr, indexer \u001b[38;5;241m=\u001b[39m \u001b[38;5;28;43mself\u001b[39;49m\u001b[38;5;241;43m.\u001b[39;49m\u001b[43m_get_listlike_indexer\u001b[49m\u001b[43m(\u001b[49m\u001b[43mkey\u001b[49m\u001b[43m,\u001b[49m\u001b[43m \u001b[49m\u001b[43maxis\u001b[49m\u001b[43m)\u001b[49m\n\u001b[0;32m   1240\u001b[0m \u001b[38;5;28;01mreturn\u001b[39;00m \u001b[38;5;28mself\u001b[39m\u001b[38;5;241m.\u001b[39mobj\u001b[38;5;241m.\u001b[39m_reindex_with_indexers(\n\u001b[0;32m   1241\u001b[0m     {axis: [keyarr, indexer]}, copy\u001b[38;5;241m=\u001b[39m\u001b[38;5;28;01mTrue\u001b[39;00m, allow_dups\u001b[38;5;241m=\u001b[39m\u001b[38;5;28;01mTrue\u001b[39;00m\n\u001b[0;32m   1242\u001b[0m )\n",
      "File \u001b[1;32m~\\AppData\\Roaming\\Python\\Python310\\site-packages\\pandas\\core\\indexing.py:1432\u001b[0m, in \u001b[0;36m_LocIndexer._get_listlike_indexer\u001b[1;34m(self, key, axis)\u001b[0m\n\u001b[0;32m   1429\u001b[0m ax \u001b[38;5;241m=\u001b[39m \u001b[38;5;28mself\u001b[39m\u001b[38;5;241m.\u001b[39mobj\u001b[38;5;241m.\u001b[39m_get_axis(axis)\n\u001b[0;32m   1430\u001b[0m axis_name \u001b[38;5;241m=\u001b[39m \u001b[38;5;28mself\u001b[39m\u001b[38;5;241m.\u001b[39mobj\u001b[38;5;241m.\u001b[39m_get_axis_name(axis)\n\u001b[1;32m-> 1432\u001b[0m keyarr, indexer \u001b[38;5;241m=\u001b[39m \u001b[43max\u001b[49m\u001b[38;5;241;43m.\u001b[39;49m\u001b[43m_get_indexer_strict\u001b[49m\u001b[43m(\u001b[49m\u001b[43mkey\u001b[49m\u001b[43m,\u001b[49m\u001b[43m \u001b[49m\u001b[43maxis_name\u001b[49m\u001b[43m)\u001b[49m\n\u001b[0;32m   1434\u001b[0m \u001b[38;5;28;01mreturn\u001b[39;00m keyarr, indexer\n",
      "File \u001b[1;32m~\\AppData\\Roaming\\Python\\Python310\\site-packages\\pandas\\core\\indexes\\base.py:6111\u001b[0m, in \u001b[0;36mIndex._get_indexer_strict\u001b[1;34m(self, key, axis_name)\u001b[0m\n\u001b[0;32m   6108\u001b[0m \u001b[38;5;28;01melse\u001b[39;00m:\n\u001b[0;32m   6109\u001b[0m     keyarr, indexer, new_indexer \u001b[38;5;241m=\u001b[39m \u001b[38;5;28mself\u001b[39m\u001b[38;5;241m.\u001b[39m_reindex_non_unique(keyarr)\n\u001b[1;32m-> 6111\u001b[0m \u001b[38;5;28;43mself\u001b[39;49m\u001b[38;5;241;43m.\u001b[39;49m\u001b[43m_raise_if_missing\u001b[49m\u001b[43m(\u001b[49m\u001b[43mkeyarr\u001b[49m\u001b[43m,\u001b[49m\u001b[43m \u001b[49m\u001b[43mindexer\u001b[49m\u001b[43m,\u001b[49m\u001b[43m \u001b[49m\u001b[43maxis_name\u001b[49m\u001b[43m)\u001b[49m\n\u001b[0;32m   6113\u001b[0m keyarr \u001b[38;5;241m=\u001b[39m \u001b[38;5;28mself\u001b[39m\u001b[38;5;241m.\u001b[39mtake(indexer)\n\u001b[0;32m   6114\u001b[0m \u001b[38;5;28;01mif\u001b[39;00m \u001b[38;5;28misinstance\u001b[39m(key, Index):\n\u001b[0;32m   6115\u001b[0m     \u001b[38;5;66;03m# GH 42790 - Preserve name from an Index\u001b[39;00m\n",
      "File \u001b[1;32m~\\AppData\\Roaming\\Python\\Python310\\site-packages\\pandas\\core\\indexes\\base.py:6171\u001b[0m, in \u001b[0;36mIndex._raise_if_missing\u001b[1;34m(self, key, indexer, axis_name)\u001b[0m\n\u001b[0;32m   6169\u001b[0m     \u001b[38;5;28;01mif\u001b[39;00m use_interval_msg:\n\u001b[0;32m   6170\u001b[0m         key \u001b[38;5;241m=\u001b[39m \u001b[38;5;28mlist\u001b[39m(key)\n\u001b[1;32m-> 6171\u001b[0m     \u001b[38;5;28;01mraise\u001b[39;00m \u001b[38;5;167;01mKeyError\u001b[39;00m(\u001b[38;5;124mf\u001b[39m\u001b[38;5;124m\"\u001b[39m\u001b[38;5;124mNone of [\u001b[39m\u001b[38;5;132;01m{\u001b[39;00mkey\u001b[38;5;132;01m}\u001b[39;00m\u001b[38;5;124m] are in the [\u001b[39m\u001b[38;5;132;01m{\u001b[39;00maxis_name\u001b[38;5;132;01m}\u001b[39;00m\u001b[38;5;124m]\u001b[39m\u001b[38;5;124m\"\u001b[39m)\n\u001b[0;32m   6173\u001b[0m not_found \u001b[38;5;241m=\u001b[39m \u001b[38;5;28mlist\u001b[39m(ensure_index(key)[missing_mask\u001b[38;5;241m.\u001b[39mnonzero()[\u001b[38;5;241m0\u001b[39m]]\u001b[38;5;241m.\u001b[39munique())\n\u001b[0;32m   6174\u001b[0m \u001b[38;5;28;01mraise\u001b[39;00m \u001b[38;5;167;01mKeyError\u001b[39;00m(\u001b[38;5;124mf\u001b[39m\u001b[38;5;124m\"\u001b[39m\u001b[38;5;132;01m{\u001b[39;00mnot_found\u001b[38;5;132;01m}\u001b[39;00m\u001b[38;5;124m not in index\u001b[39m\u001b[38;5;124m\"\u001b[39m)\n",
      "\u001b[1;31mKeyError\u001b[0m: \"None of [Index(['Heures', 'Consommation'], dtype='object')] are in the [index]\""
     ]
    }
   ],
   "source": [
    "# Plot consommation over time for \n",
    "sub_df = df.loc[[\"Heures\", \"Consommation\"]]\n",
    "sub_df = sub_df.iloc[:, :96]\n",
    "\n",
    "sub_df.plot(x=\"Heure\", y=\"Consommation\", figsize=(20,10))"
   ]
  },
  {
   "cell_type": "markdown",
   "metadata": {},
   "source": []
  },
  {
   "cell_type": "markdown",
   "metadata": {},
   "source": [
    "# plot "
   ]
  },
  {
   "cell_type": "markdown",
   "metadata": {},
   "source": [
    "<br>\n",
    "\n",
    "## 1. Sélectionner les enregistrements"
   ]
  },
  {
   "cell_type": "markdown",
   "metadata": {},
   "source": [
    "### Sélection"
   ]
  },
  {
   "cell_type": "markdown",
   "metadata": {},
   "source": [
    "Utilisez la fonction `query()` pour filtrer les enregistrements selon un critère booléen"
   ]
  },
  {
   "cell_type": "code",
   "execution_count": null,
   "metadata": {
    "scrolled": true
   },
   "outputs": [],
   "source": [
    "df.query('Charbon > 16')\n"
   ]
  },
  {
   "cell_type": "markdown",
   "metadata": {},
   "source": [
    "Comme la fonction renvoie un DataFrame, vous pouvez enchaîner plusieurs filtres"
   ]
  },
  {
   "cell_type": "code",
   "execution_count": null,
   "metadata": {
    "scrolled": true
   },
   "outputs": [],
   "source": [
    "df.query('Consommation > 16').query('Charbon > 16') # ici ne marche pas"
   ]
  },
  {
   "cell_type": "markdown",
   "metadata": {},
   "source": [
    "On peut aussi créer un critère plus complexe à l'aide des opérateurs `and` et `or`"
   ]
  },
  {
   "cell_type": "code",
   "execution_count": null,
   "metadata": {
    "scrolled": true
   },
   "outputs": [],
   "source": [
    "df.query('Logiques > 16 and Stats > 16')"
   ]
  },
  {
   "cell_type": "code",
   "execution_count": null,
   "metadata": {
    "scrolled": true
   },
   "outputs": [],
   "source": [
    "df.query('Logiques > 16 or (Stats > 16 and Systèmes == \"B\")')"
   ]
  },
  {
   "cell_type": "markdown",
   "metadata": {},
   "source": [
    "Notez les double quotes \" dans la chaîne délimitée par les simples quotes '"
   ]
  },
  {
   "cell_type": "markdown",
   "metadata": {},
   "source": [
    "Pour une variable catégorique, on peut avoir besoin de filtrer sur plusieurs modalités possibles :"
   ]
  },
  {
   "cell_type": "code",
   "execution_count": null,
   "metadata": {
    "scrolled": true
   },
   "outputs": [],
   "source": [
    "df.query('Systèmes in [\"C\", \"D\"]')"
   ]
  },
  {
   "cell_type": "markdown",
   "metadata": {},
   "source": [
    "Il est également possible d'appeler une fonction dans la chaîne de caractères. Par exemple pour isoler les lignes qui contiennent des valeurs manquantes dans une colonne, on peut utiliser les méthodes `isna()` ou `isnull()` :"
   ]
  },
  {
   "cell_type": "code",
   "execution_count": null,
   "metadata": {},
   "outputs": [],
   "source": [
    "df.query('Consommation.isna()')"
   ]
  },
  {
   "cell_type": "markdown",
   "metadata": {},
   "source": [
    "### Suppression"
   ]
  },
  {
   "cell_type": "markdown",
   "metadata": {},
   "source": [
    "Pour supprimer définitivement une ou plusieurs ligne, on peut réaffecter le DataFrame :"
   ]
  },
  {
   "cell_type": "code",
   "execution_count": null,
   "metadata": {
    "scrolled": true
   },
   "outputs": [],
   "source": [
    "df2=df.query('Systèmes in [\"C\", \"D\"]')\n",
    "df2"
   ]
  },
  {
   "cell_type": "markdown",
   "metadata": {},
   "source": [
    "Pour supprimer selon les noms de lignes, on peut utiliser la fonction `drop()`."
   ]
  },
  {
   "cell_type": "code",
   "execution_count": null,
   "metadata": {
    "scrolled": false
   },
   "outputs": [],
   "source": [
    "df2=df.drop('Carine TRUDELLE')\n",
    "df2.shape"
   ]
  },
  {
   "cell_type": "code",
   "execution_count": null,
   "metadata": {
    "scrolled": true
   },
   "outputs": [],
   "source": [
    "df2=df.drop(['Ambroise LEGUENNEC','Roméo LEBERGUEILLEC'])\n",
    "df2.shape"
   ]
  },
  {
   "cell_type": "markdown",
   "metadata": {},
   "source": [
    "Notez que dans la plupart des DataFrames, le nom des lignes est un numéro de lignes. Dans ce cas, une commande du type `df.drop(0)` par exemple permet de supprimer la première ligne (indice 0)."
   ]
  },
  {
   "cell_type": "markdown",
   "metadata": {},
   "source": [
    "<br>\n",
    "\n",
    "## 2. Sélectionner et créer les variables"
   ]
  },
  {
   "cell_type": "markdown",
   "metadata": {},
   "source": [
    "### Sélection"
   ]
  },
  {
   "cell_type": "markdown",
   "metadata": {},
   "source": [
    "Revoir le notebook Introduction.ipynb"
   ]
  },
  {
   "cell_type": "code",
   "execution_count": null,
   "metadata": {
    "scrolled": true
   },
   "outputs": [],
   "source": [
    "df.Sport"
   ]
  },
  {
   "cell_type": "code",
   "execution_count": null,
   "metadata": {
    "scrolled": true
   },
   "outputs": [],
   "source": [
    "df['Sport']"
   ]
  },
  {
   "cell_type": "code",
   "execution_count": null,
   "metadata": {
    "scrolled": true
   },
   "outputs": [],
   "source": [
    "df.iloc[:,2:5]"
   ]
  },
  {
   "cell_type": "markdown",
   "metadata": {},
   "source": [
    "### Suppression"
   ]
  },
  {
   "cell_type": "code",
   "execution_count": null,
   "metadata": {
    "scrolled": true
   },
   "outputs": [],
   "source": [
    "df2 = df.drop('Sport', axis=1)    # axis=1 indique qu'on agit sur les colonnes, la fonction agit sur les lignes par défaut\n",
    "df2"
   ]
  },
  {
   "cell_type": "markdown",
   "metadata": {},
   "source": [
    "### Création d'une nouvelle variable"
   ]
  },
  {
   "cell_type": "markdown",
   "metadata": {
    "scrolled": true
   },
   "source": [
    "Il faut utiliser la syntaxe avec des crochets. Les méthodes `loc` ou `iloc` ne modifieront pas le DataFrame."
   ]
  },
  {
   "cell_type": "code",
   "execution_count": null,
   "metadata": {
    "scrolled": true
   },
   "outputs": [],
   "source": [
    "df['Moyenne des notes'] = df.mean(axis=1)\n",
    "df.head()"
   ]
  },
  {
   "cell_type": "code",
   "execution_count": null,
   "metadata": {},
   "outputs": [],
   "source": [
    "df['CopieSport'] = df.Sport\n",
    "df['Nom'] = df.index    # Recopier l'Index dans une colonne\n",
    "df.head()"
   ]
  },
  {
   "cell_type": "markdown",
   "metadata": {},
   "source": [
    "### Renommage des variables"
   ]
  },
  {
   "cell_type": "code",
   "execution_count": null,
   "metadata": {},
   "outputs": [],
   "source": [
    "df.columns = [c.replace(' ', '_') for c in df.columns] # ici c'est mon code\n",
    "df.head()"
   ]
  },
  {
   "cell_type": "markdown",
   "metadata": {},
   "source": [
    "Il est également possible de renommer l'index."
   ]
  },
  {
   "cell_type": "code",
   "execution_count": null,
   "metadata": {
    "scrolled": true
   },
   "outputs": [],
   "source": [
    "df.index.name"
   ]
  },
  {
   "cell_type": "code",
   "execution_count": null,
   "metadata": {},
   "outputs": [],
   "source": [
    "df.index.name = 'Prénom_Nom'\n",
    "df.head()"
   ]
  },
  {
   "cell_type": "markdown",
   "metadata": {},
   "source": [
    "Pour la suite du notebook, on réinitialise le DataFrame."
   ]
  },
  {
   "cell_type": "code",
   "execution_count": null,
   "metadata": {},
   "outputs": [],
   "source": [
    "df = pd.read_csv(\"notes.data\", sep=\"\\t\", index_col=0)"
   ]
  },
  {
   "cell_type": "markdown",
   "metadata": {},
   "source": [
    "<br>\n",
    "\n",
    "## 3. Vérifier et transformer les types des variables"
   ]
  },
  {
   "cell_type": "code",
   "execution_count": null,
   "metadata": {
    "scrolled": false
   },
   "outputs": [],
   "source": [
    "df.dtypes"
   ]
  },
  {
   "cell_type": "markdown",
   "metadata": {},
   "source": [
    "Les types des variables ont été détectés automatiquement d'après les données. Si les types ne conviennent pas, **il faut les changer !**"
   ]
  },
  {
   "cell_type": "markdown",
   "metadata": {},
   "source": [
    "### Mettre une colonne en type numérique"
   ]
  },
  {
   "cell_type": "markdown",
   "metadata": {},
   "source": [
    "Transformons la variable catégorique `Systèmes` en une variable numérique. Les valeurs A, B, C et D doivent être remplacées par les notes 18, 14, 10 et 6."
   ]
  },
  {
   "cell_type": "code",
   "execution_count": null,
   "metadata": {},
   "outputs": [],
   "source": [
    "df.Systèmes = df.Systèmes.replace(to_replace = 'A', value = '18')\n",
    "df.Systèmes = df.Systèmes.replace(to_replace = 'B', value = '14')\n",
    "df.Systèmes = df.Systèmes.replace(to_replace = 'C', value = '10')\n",
    "df.Systèmes = df.Systèmes.replace(to_replace = 'D', value = '6')"
   ]
  },
  {
   "cell_type": "markdown",
   "metadata": {},
   "source": [
    "Il est possible de remplacer dans tout le DataFrame, sans cibler une colonne, avec `df.replace(to_replace = 'A', value = '18')`\n",
    "\n",
    "On peut aussi faire le remplacement avec un seul appel à la fonction :"
   ]
  },
  {
   "cell_type": "code",
   "execution_count": null,
   "metadata": {
    "scrolled": true
   },
   "outputs": [],
   "source": [
    "df.replace(to_replace =  {'A': '18', 'B': '14',  'C': '10', 'D': '6'})"
   ]
  },
  {
   "cell_type": "code",
   "execution_count": null,
   "metadata": {},
   "outputs": [],
   "source": [
    "df.dtypes"
   ]
  },
  {
   "cell_type": "markdown",
   "metadata": {},
   "source": [
    "Il reste à changer le type de la colonne `Systèmes` pour la rendre numérique. On utilise la fonction `to_numeric()` :"
   ]
  },
  {
   "cell_type": "code",
   "execution_count": null,
   "metadata": {},
   "outputs": [],
   "source": [
    "df.Systèmes = pd.to_numeric(df.Systèmes)\n",
    "df.dtypes"
   ]
  },
  {
   "cell_type": "code",
   "execution_count": null,
   "metadata": {},
   "outputs": [],
   "source": [
    "df.head()"
   ]
  },
  {
   "cell_type": "markdown",
   "metadata": {},
   "source": [
    "### Nettoyer une colonne pour la rendre numérique"
   ]
  },
  {
   "cell_type": "markdown",
   "metadata": {},
   "source": [
    "Des problèmes récurrents empêchent les variables numériques d'être stockées dans un type numérique :\n",
    "- la présence d'espaces pour séparer les chiffres, comme dans `2 154 120`\n",
    "- la présence d'une virgule à la place d'un point, comme dans `127,79`\n",
    "- la présence d'espaces ou de caractères invisibles au début ou à la fin de la chaîne\n",
    "- la présence dans la colonne de valeurs manquantes codées avec des caractères, comme `?`\n",
    "- etc.\n",
    "\n",
    "Pour remplacer des caractères dans une colonne du DataFrame, utilisez la fonction `str.replace()`. Ci-dessous un exemple avec un DataFrame à une seule colonne."
   ]
  },
  {
   "cell_type": "code",
   "execution_count": null,
   "metadata": {},
   "outputs": [],
   "source": [
    "dfsale = pd.DataFrame({\"montant\": [\"26 460,15\", \"29 842,70\", \"29 074,20\"]})\n",
    "dfsale"
   ]
  },
  {
   "cell_type": "code",
   "execution_count": null,
   "metadata": {},
   "outputs": [],
   "source": [
    "dfsale.dtypes"
   ]
  },
  {
   "cell_type": "code",
   "execution_count": null,
   "metadata": {},
   "outputs": [],
   "source": [
    "dfsale.montant = pd.to_numeric(dfsale.montant)   # renvoie une erreur"
   ]
  },
  {
   "cell_type": "code",
   "execution_count": null,
   "metadata": {
    "scrolled": true
   },
   "outputs": [],
   "source": [
    "dfsale.montant = dfsale.montant.str.replace(\",\",\".\")\n",
    "dfsale.montant = dfsale.montant.str.replace(\" \",\"\")\n",
    "dfsale.montant = pd.to_numeric(dfsale.montant)\n",
    "dfsale"
   ]
  },
  {
   "cell_type": "code",
   "execution_count": null,
   "metadata": {},
   "outputs": [],
   "source": [
    "dfsale.dtypes"
   ]
  },
  {
   "cell_type": "markdown",
   "metadata": {},
   "source": [
    "Pour supprimer les espaces, tabulations et caractères invisibles au début et à la fin des chaînes, appliquez la fonction `str.strip()` sur la colonne."
   ]
  },
  {
   "cell_type": "markdown",
   "metadata": {},
   "source": [
    "### Mettre une colonne en type chaîne de caractères (string)"
   ]
  },
  {
   "cell_type": "markdown",
   "metadata": {},
   "source": [
    "Si une colonne numérique contient en fait des catégories (par exemple les valeurs 1, 2 et 3 pour indiquer un numéro de trimestre), il vaut mieux traiter la colonne comme une variable catégorique pour éviter les erreurs dans l'analyse. La commande ci-dessous permet de transformer une colonne numérique vers le type chaîne de caractères."
   ]
  },
  {
   "cell_type": "code",
   "execution_count": null,
   "metadata": {},
   "outputs": [],
   "source": [
    "df.Sport = df.Sport.astype(str)\n",
    "df.dtypes"
   ]
  },
  {
   "cell_type": "markdown",
   "metadata": {},
   "source": [
    "Plutôt que des chaînes de caractères (str), il existe en pandas un véritable type pour les variables catégoriques :"
   ]
  },
  {
   "cell_type": "code",
   "execution_count": null,
   "metadata": {},
   "outputs": [],
   "source": [
    "df.Stats = df.Stats.astype('category')\n",
    "df.dtypes"
   ]
  },
  {
   "cell_type": "markdown",
   "metadata": {},
   "source": [
    "Son principal intérêt est de permettre de déclarer un ordre entre les catégories qui ne correpond pas à l'ordre alphabétique/alphanumérique. Ce format prend également moins de place en mémoire."
   ]
  },
  {
   "cell_type": "markdown",
   "metadata": {},
   "source": [
    "Pour la suite du notebook, on réinitialise le DataFrame."
   ]
  },
  {
   "cell_type": "code",
   "execution_count": null,
   "metadata": {},
   "outputs": [],
   "source": [
    "df = pd.read_csv(\"notes.data\", sep=\"\\t\", index_col=0)"
   ]
  },
  {
   "cell_type": "markdown",
   "metadata": {},
   "source": [
    "### Mettre une colonne en type date"
   ]
  },
  {
   "cell_type": "markdown",
   "metadata": {},
   "source": [
    "Si une colonne du DataFrame contient des dates, elles sont par défaut reconnues comme des chaînes de caractères. Il est possible de transformer la colonne en type date à l'aide de cette commande :"
   ]
  },
  {
   "cell_type": "code",
   "execution_count": null,
   "metadata": {},
   "outputs": [],
   "source": [
    "# df.date = pd.to_datetime(df.date)\n",
    "# commande mise en commentaire pour la bonne exécution du notebook"
   ]
  },
  {
   "cell_type": "markdown",
   "metadata": {},
   "source": [
    "<br>\n",
    "\n",
    "## 4. Agréger des lignes"
   ]
  },
  {
   "cell_type": "markdown",
   "metadata": {},
   "source": [
    "La fonction `groupby()` permet de **regrouper** les lignes selon une ou plusieurs colonnes. Le but final est d'**agréger** les valeurs par groupe dans une ou plusieurs autres colonnes."
   ]
  },
  {
   "cell_type": "code",
   "execution_count": null,
   "metadata": {
    "scrolled": true
   },
   "outputs": [],
   "source": [
    "df.groupby('Systèmes')"
   ]
  },
  {
   "cell_type": "markdown",
   "metadata": {},
   "source": [
    "L'objet retourné n'est pas affichable nativement.\n",
    "\n",
    "Pour agréger, pandas propose des fonctions d'agrégation, dont la plus basique est `size()` :"
   ]
  },
  {
   "cell_type": "code",
   "execution_count": null,
   "metadata": {
    "scrolled": true
   },
   "outputs": [],
   "source": [
    "df.groupby('Systèmes').size()    # nombre de lignes dans chaque groupe"
   ]
  },
  {
   "cell_type": "markdown",
   "metadata": {},
   "source": [
    "La fonction `size()` renvoie toujours une Series. Notez que les groupes se retrouvent en Index de la Series, tandis que les valeurs agrégées remplissent la Series, comme on peut le voir ci-dessous :"
   ]
  },
  {
   "cell_type": "code",
   "execution_count": null,
   "metadata": {},
   "outputs": [],
   "source": [
    "agregation = df.groupby('Systèmes').size()\n",
    "agregation.index"
   ]
  },
  {
   "cell_type": "code",
   "execution_count": null,
   "metadata": {},
   "outputs": [],
   "source": [
    "agregation.values"
   ]
  },
  {
   "cell_type": "markdown",
   "metadata": {},
   "source": [
    "Si on regroupe selon plusieurs colonnes à la fois, on obtient une Series avec un index composite (à plusieurs colonnes), nommé MultiIndex."
   ]
  },
  {
   "cell_type": "code",
   "execution_count": null,
   "metadata": {
    "scrolled": true
   },
   "outputs": [],
   "source": [
    "agregation = df.groupby(['Systèmes','Sport']).size()\n",
    "agregation"
   ]
  },
  {
   "cell_type": "code",
   "execution_count": null,
   "metadata": {},
   "outputs": [],
   "source": [
    "agregation.index"
   ]
  },
  {
   "cell_type": "markdown",
   "metadata": {},
   "source": [
    "Si la fonction `size()` renvoie toujours une Series, les autres fonctions d'agrégation renvoient :\n",
    "- une Series si on n'agrège que dans une seule colonne,\n",
    "- un DataFrame sinon.\n",
    "\n",
    "Par exemple avec la fonction `mean()` qui permet d'agréger en calculant la moyenne, cela donne :"
   ]
  },
  {
   "cell_type": "code",
   "execution_count": null,
   "metadata": {},
   "outputs": [],
   "source": [
    "df.groupby('Systèmes').mean()    # Moyenne calculée dans chaque colonne numérique"
   ]
  },
  {
   "cell_type": "code",
   "execution_count": null,
   "metadata": {
    "scrolled": true
   },
   "outputs": [],
   "source": [
    "df.groupby('Systèmes').Logiques.mean()    # Moyenne calculée dans la colonne Sport uniquement "
   ]
  },
  {
   "cell_type": "markdown",
   "metadata": {},
   "source": [
    "Il est aussi possible de grouper avec le paramètre `as_index=False`. Dans ce cas, les groupes ne sont plus stockés dans un Index ou MultiIndex mais directement dans des colonnes. Le résultat est forcément un DataFrame."
   ]
  },
  {
   "cell_type": "code",
   "execution_count": null,
   "metadata": {
    "scrolled": true
   },
   "outputs": [],
   "source": [
    "df.groupby('Systèmes',as_index=False).mean()    # Grouper sur 1 colonne, agréger dans toutes les colonnes numériques"
   ]
  },
  {
   "cell_type": "code",
   "execution_count": null,
   "metadata": {
    "scrolled": true
   },
   "outputs": [],
   "source": [
    "df.groupby('Systèmes',as_index=False).Logiques.mean()    # Grouper sur 1 colonne, agréger dans 1 colonne"
   ]
  },
  {
   "cell_type": "code",
   "execution_count": null,
   "metadata": {},
   "outputs": [],
   "source": [
    "df.groupby(['Systèmes','Sport'],as_index=False).mean()    # Grouper sur 2 colonnes, agréger dans toutes les colonnes numériques"
   ]
  },
  {
   "cell_type": "code",
   "execution_count": null,
   "metadata": {},
   "outputs": [],
   "source": [
    "df.groupby(['Systèmes','Sport'],as_index=False).Logiques.mean()    # Grouper sur 2 colonnes, agréger dans 1 colonne"
   ]
  },
  {
   "cell_type": "markdown",
   "metadata": {},
   "source": [
    "Remarques :\n",
    "\n",
    "Le paramètre `as_index=False` du `groupby()` ne fonctionne pas si l'agrégation est réalisée avec la fonction `size()`. On obtient quand même une Series avec les groupes en index.\n",
    "\n",
    "Après une agrégation avec `size()`, pour transformer la Series en DataFrame, on peut utiliser une de ces deux solutions :"
   ]
  },
  {
   "cell_type": "code",
   "execution_count": null,
   "metadata": {
    "scrolled": true
   },
   "outputs": [],
   "source": [
    "# Utilisation de la fonction to_frame()\n",
    "df.groupby('Systèmes').size().to_frame('Effectif')"
   ]
  },
  {
   "cell_type": "code",
   "execution_count": null,
   "metadata": {
    "scrolled": true
   },
   "outputs": [],
   "source": [
    "# Utilisation du constructeur de la classe DataFrame\n",
    "pd.DataFrame(df.groupby('Systèmes').size(), columns=['Effectif'])"
   ]
  },
  {
   "cell_type": "markdown",
   "metadata": {},
   "source": [
    "En plus de `size()` et `mean()`, les principales fonctions d'agrégation sont :"
   ]
  },
  {
   "cell_type": "code",
   "execution_count": null,
   "metadata": {},
   "outputs": [],
   "source": [
    "df.groupby('Systèmes').Sport.sum()    # somme"
   ]
  },
  {
   "cell_type": "code",
   "execution_count": null,
   "metadata": {},
   "outputs": [],
   "source": [
    "df.groupby('Systèmes').Sport.min()    # minimum"
   ]
  },
  {
   "cell_type": "code",
   "execution_count": null,
   "metadata": {},
   "outputs": [],
   "source": [
    "df.groupby('Systèmes').Sport.max()    # maximum"
   ]
  },
  {
   "cell_type": "code",
   "execution_count": null,
   "metadata": {},
   "outputs": [],
   "source": [
    "df.groupby('Systèmes').Sport.count()    # nombre de valeurs dans la colonne, mais sans les valeurs manquantes, contrairement à size()"
   ]
  },
  {
   "cell_type": "code",
   "execution_count": null,
   "metadata": {},
   "outputs": [],
   "source": [
    "df.groupby('Systèmes').Sport.nunique()    # nombre de valeurs distinctes dans la colonne"
   ]
  },
  {
   "cell_type": "markdown",
   "metadata": {},
   "source": [
    "<br>\n",
    "\n",
    "## 5. Transformer des variables"
   ]
  },
  {
   "cell_type": "markdown",
   "metadata": {
    "scrolled": true
   },
   "source": [
    "A venir..."
   ]
  },
  {
   "cell_type": "markdown",
   "metadata": {},
   "source": [
    "<br>\n",
    "\n",
    "## 6. Gérer les valeurs manquantes"
   ]
  },
  {
   "cell_type": "markdown",
   "metadata": {},
   "source": [
    "### Repérer les valeurs manquantes"
   ]
  },
  {
   "cell_type": "markdown",
   "metadata": {
    "scrolled": true
   },
   "source": [
    "On peut compter les lignes ou les colonnes qui contiennent des valeurs manquantes."
   ]
  },
  {
   "cell_type": "code",
   "execution_count": null,
   "metadata": {
    "scrolled": true
   },
   "outputs": [],
   "source": [
    "df.isna().sum() "
   ]
  },
  {
   "cell_type": "code",
   "execution_count": null,
   "metadata": {},
   "outputs": [],
   "source": [
    "df.isna().sum(axis=1).sort_values(ascending=False)"
   ]
  },
  {
   "cell_type": "markdown",
   "metadata": {},
   "source": [
    "Pour isoler les lignes qui contiennent une valeur manquante, utilisez :"
   ]
  },
  {
   "cell_type": "code",
   "execution_count": null,
   "metadata": {
    "scrolled": false
   },
   "outputs": [],
   "source": [
    "df[df.isna().any(axis=1)]"
   ]
  },
  {
   "cell_type": "markdown",
   "metadata": {},
   "source": [
    "On peut cibler uniquement les valeurs manquantes d'une colonne uniquement, par exemple avec la commande ci-dessous."
   ]
  },
  {
   "cell_type": "code",
   "execution_count": null,
   "metadata": {
    "scrolled": true
   },
   "outputs": [],
   "source": [
    "df.query('Systèmes.isna()')"
   ]
  },
  {
   "cell_type": "markdown",
   "metadata": {},
   "source": [
    "### Imputer les valeurs manquantes"
   ]
  },
  {
   "cell_type": "markdown",
   "metadata": {},
   "source": [
    "On peut remplacer les valeurs manquantes en utilisant la fonction `fillna()`.\n",
    "\n",
    "Pour imputer par la moyenne dans une colonne :"
   ]
  },
  {
   "cell_type": "code",
   "execution_count": null,
   "metadata": {
    "scrolled": true
   },
   "outputs": [],
   "source": [
    "df.Stats.fillna(df.Stats.mean(), inplace=True)"
   ]
  },
  {
   "cell_type": "code",
   "execution_count": null,
   "metadata": {
    "scrolled": false
   },
   "outputs": [],
   "source": [
    "df.isna().sum() "
   ]
  },
  {
   "cell_type": "markdown",
   "metadata": {},
   "source": [
    "Pour réaliser des imputations plus précises, on peut appliquer une technique de clustering sur les données puis imputer par la moyenne ou le mode dans chaque cluster. Une autre solution consiste à réaliser un modèle supervisé pour \"prédire\" la valeur manquante en fonction des autres variables."
   ]
  },
  {
   "cell_type": "markdown",
   "metadata": {},
   "source": [
    "### Supprimer les lignes/colonnes"
   ]
  },
  {
   "cell_type": "markdown",
   "metadata": {},
   "source": [
    "En dernier recours, la fonction `dropna()` permet de supprimer les lignes ou colonnes qui contiennent au moins une valeur manquante. Il est possible d'exiger un seuil supérieur de valeurs manquantes pour que la ligne/colonne soit supprimée (voir la [doc](https://pandas.pydata.org/docs/reference/api/pandas.DataFrame.dropna.html)).\n",
    "\n",
    "De manière générale, on déconseille de supprimer des lignes si cela représente plus de 5% du jeu de données."
   ]
  },
  {
   "cell_type": "code",
   "execution_count": null,
   "metadata": {},
   "outputs": [],
   "source": [
    "df.dropna()"
   ]
  },
  {
   "cell_type": "code",
   "execution_count": null,
   "metadata": {},
   "outputs": [],
   "source": [
    "df.dropna(axis=1)"
   ]
  },
  {
   "cell_type": "markdown",
   "metadata": {},
   "source": [
    "N'oubliez pas de réaffecter le résultat dans une variable, ou d'utiliser le paramètre `inplace=True`."
   ]
  },
  {
   "cell_type": "markdown",
   "metadata": {},
   "source": [
    "Pour une vue plus complète sur la gestion des valeurs manquantes, voir la doc de [pandas](http://pandas.pydata.org/) : https://pandas.pydata.org/pandas-docs/stable/user_guide/missing_data.html"
   ]
  }
 ],
 "metadata": {
  "kernelspec": {
   "display_name": "Python 3",
   "language": "python",
   "name": "python3"
  },
  "language_info": {
   "codemirror_mode": {
    "name": "ipython",
    "version": 3
   },
   "file_extension": ".py",
   "mimetype": "text/x-python",
   "name": "python",
   "nbconvert_exporter": "python",
   "pygments_lexer": "ipython3",
   "version": "3.10.4"
  }
 },
 "nbformat": 4,
 "nbformat_minor": 2
}
