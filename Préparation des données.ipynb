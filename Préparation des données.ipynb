{
 "cells": [
  {
   "cell_type": "markdown",
   "metadata": {},
   "source": [
    "Tristan MANIER - Léa GRASSIEN - Mathieu RAMEL - INFO 5 - 9/01/2024\n"
   ]
  },
  {
   "cell_type": "markdown",
   "metadata": {},
   "source": [
    "# 1. Présentation des données"
   ]
  },
  {
   "cell_type": "markdown",
   "metadata": {},
   "source": [
    "Pourquoi avons nous choisis ces données ?\n",
    "TODO\n",
    "\n",
    "source, conditions de recueil, nombre de fichiers, nombres de variables et d'individus, expliquer l'activité derrière les données.\n",
    "TODO\n",
    "\n",
    "Donnez la signification desindividus et des variables\n",
    "TODO"
   ]
  },
  {
   "cell_type": "markdown",
   "metadata": {},
   "source": [
    "## Questions\n",
    "\n",
    "### Analyse\n",
    "Nous allons chercher à répondre à ces questions :\n",
    "- Quelles sont les sources de production d'énergie les plus corrélées ?\n",
    "- Quelles est la proportion d'énergie renouvelable produite ?\n",
    "- Quelles sont les tendances de méthode de production d'énergie au cours de l'année ?\n",
    "- Quelles sont les périodes de l'année où la production d'énergie est la plus importante/faible ?\n",
    "- Quelles sont les moments de la journée où la production d'énergie est la plus importante/faible ?\n",
    "- La météo influe-t-elle sur la consomation d'énergie ?\n",
    "- Quelles sont les sources de production d'énergie les plus corrélées avec la météo ?\n",
    "\n",
    "### Prédictions\n",
    "- Quelle est la tendance de production d'énergie pour les jours/mois/années à venir ?\n",
    "- "
   ]
  },
  {
   "cell_type": "markdown",
   "metadata": {},
   "source": [
    "# 2. Préparation des données"
   ]
  },
  {
   "cell_type": "markdown",
   "metadata": {},
   "source": [
    "Ce notebook présente les commandes utiles pour les principales tâches de préparation des données. Les données `notes.data` qui servent d'illustration sont des notes obtenues par des étudiants dans des matières."
   ]
  },
  {
   "cell_type": "code",
   "execution_count": null,
   "metadata": {
    "scrolled": true
   },
   "outputs": [],
   "source": [
    "import pandas as pd\n",
    "pd.set_option('display.max_rows', 100)     # Set the maximum number of rows displayed to 100 rows"
   ]
  },
  {
   "cell_type": "markdown",
   "metadata": {},
   "source": [
    "## 2.1 Premier dataset sur la production d'énergie"
   ]
  },
  {
   "cell_type": "code",
   "execution_count": null,
   "metadata": {
    "scrolled": true
   },
   "outputs": [],
   "source": [
    "df = pd.read_csv(\"eCO2mix_RTE_En-cours-TR.csv\", sep=\"\\t\", encoding='latin-1', index_col=False)\n",
    "\n",
    "df.head()"
   ]
  },
  {
   "cell_type": "code",
   "execution_count": null,
   "metadata": {
    "scrolled": true
   },
   "outputs": [],
   "source": [
    "print(f\"{df.shape[0]} rows and {df.shape[1]} columns\")\n",
    "\n",
    "# Combine dtypre, count and nnunique\n",
    "pd.concat([df.dtypes, df.count(), df.nunique()], keys=[\"Types\", \"Count\", \"NUnique\"], axis=1)"
   ]
  },
  {
   "cell_type": "markdown",
   "metadata": {},
   "source": [
    "### Statistiques descriptives des valeurs non-définies"
   ]
  },
  {
   "cell_type": "code",
   "execution_count": null,
   "metadata": {},
   "outputs": [],
   "source": [
    "temp = ({\n",
    "    'column':[],\n",
    "    'nb_lines' :[],\n",
    "    'nb_ND':[]\n",
    "})\n",
    "\n",
    "nd = pd.DataFrame(temp)\n",
    "\n",
    "for column in df.columns : \n",
    "    new_row = pd.DataFrame({'column': column, 'nb_lines': df[column].count(), 'nb_ND': (df[column] == 'ND').sum()}, index=[0])\n",
    "    nd = pd.concat([new_row, nd.loc[:]]).reset_index(drop=True)\n",
    "nd = nd.sort_values(by='nb_ND', ascending=False)\n",
    "\n",
    "nd[\"%ND\"] = nd[\"nb_ND\"] / nd[\"nb_lines\"] * 100\n",
    "\n",
    "nd"
   ]
  },
  {
   "cell_type": "markdown",
   "metadata": {},
   "source": [
    "## 2.2 Deuxième dataset sur les données météo"
   ]
  },
  {
   "cell_type": "code",
   "execution_count": null,
   "metadata": {},
   "outputs": [],
   "source": [
    "df_weather = pd.read_csv(\"donnees-synop-essentielles-omm.csv\", sep=\";\", index_col=False, encoding='utf-8')\n",
    "\n",
    "# df_weather.head()\n",
    "print(f\"{df_weather.shape[0]} rows and {df_weather.shape[1]} columns\")\n",
    "\n",
    "df_weather.head()"
   ]
  },
  {
   "cell_type": "markdown",
   "metadata": {},
   "source": [
    "Selection des données d'une seule région. (Pourais être remplacer par une moyenne des régions) "
   ]
  },
  {
   "cell_type": "code",
   "execution_count": null,
   "metadata": {},
   "outputs": [],
   "source": [
    "code_region = int('07149')  # Ile-de-France\n",
    "df_weather = df_weather[df_weather[\"numer_sta\"] == code_region]\n",
    "\n",
    "# df_weather.head()\n",
    "print(f\"{df_weather.shape[0]} rows and {df_weather.shape[1]} columns\")"
   ]
  },
  {
   "cell_type": "markdown",
   "metadata": {},
   "source": [
    "Formattage des données météo"
   ]
  },
  {
   "cell_type": "code",
   "execution_count": null,
   "metadata": {},
   "outputs": [],
   "source": [
    "#multiplier les colonnes par 3 pour avoir 1 lignes par heures\n",
    "weather_rename_map = {\n",
    "    'date': 'date',\n",
    "    'pmer': 'pression_mer',\n",
    "    'ff': 'vitesse_vent',\n",
    "    't': 'température',\n",
    "    'u': 'humidité',\n",
    "    'pres': 'pression',\n",
    "    'niv_bar': 'niveau_barometrique',\n",
    "    'tn12': 't_min_12h',\n",
    "    'tn24': 't_min_24h',\n",
    "    'tx12': 't_max_12h',\n",
    "    'tx24': 't_max_24h',\n",
    "    'tminsol': 't_min_sol_12h',\n",
    "    'rr1': 'précipitation_1h',\n",
    "    'rr3': 'précipitation_3h',\n",
    "    'rr6': 'précipitation_6h',\n",
    "    'rr12': 'précipitation_12h',\n",
    "    'rr24': 'précipitation_24h',\n",
    "    'ssfrai': 'hauteur_neige'\n",
    "}\n",
    "\n",
    "df_weather = df_weather.rename(columns=weather_rename_map)\n",
    "\n",
    "for col_name in df_weather.columns.values.tolist():\n",
    "    if col_name not in weather_rename_map.values():\n",
    "        df_weather = df_weather.drop(col_name, axis=1)\n",
    "\n",
    "df_weather.head()"
   ]
  },
  {
   "cell_type": "markdown",
   "metadata": {},
   "source": [
    "Suppresion des lignes avec des valeurs manquantes."
   ]
  },
  {
   "cell_type": "code",
   "execution_count": null,
   "metadata": {},
   "outputs": [],
   "source": [
    "df = df.dropna(subset=['Date', \"Heures\"])"
   ]
  },
  {
   "cell_type": "markdown",
   "metadata": {},
   "source": [
    "## 2.3 Jointure des deux datasets\n",
    "\n",
    "Formatage des dates et heures des deux datasets."
   ]
  },
  {
   "cell_type": "code",
   "execution_count": null,
   "metadata": {},
   "outputs": [],
   "source": [
    "# Concat date and hours\n",
    "df['date'] = df['Date'].astype(str) + df['Heures'].astype(str)\n",
    "\n",
    "# Convert to datetime\n",
    "df['date'] = df['date'].apply(lambda x: pd.to_datetime(str(x), format='%Y-%m-%d%H:%M'))\n",
    "\n",
    "df['date'].head()"
   ]
  },
  {
   "cell_type": "code",
   "execution_count": null,
   "metadata": {},
   "outputs": [],
   "source": [
    "df_weather[\"date\"] = df_weather['date'].apply(lambda x: pd.to_datetime(str(x), format='%Y%m%d%H%M%S'))\n",
    "df_weather[\"date\"]"
   ]
  },
  {
   "cell_type": "markdown",
   "metadata": {},
   "source": [
    "Fusion des deux datasets"
   ]
  },
  {
   "cell_type": "code",
   "execution_count": null,
   "metadata": {},
   "outputs": [],
   "source": [
    "df_full = pd.merge(df, df_weather, how='inner', on = 'date' )\n",
    "\n",
    "# full_df.head()\n",
    "print(f\"df : {df.shape[0]} rows and {df.shape[1]} columns\")\n",
    "print(f\"df_weather : {df_weather.shape[0]} rows and {df_weather.shape[1]} columns\")\n",
    "print(f\"df_full : {df_full.shape[0]} rows and {df_full.shape[1]} columns\")"
   ]
  },
  {
   "cell_type": "markdown",
   "metadata": {},
   "source": [
    "# 3. Analyse des données"
   ]
  },
  {
   "cell_type": "markdown",
   "metadata": {},
   "source": [
    "Selection d'une periode de temps"
   ]
  },
  {
   "cell_type": "code",
   "execution_count": null,
   "metadata": {},
   "outputs": [],
   "source": [
    "from matplotlib import pyplot as plt\n",
    "\n",
    "#select rows between date1 and date 2\n",
    "date1 = pd.to_datetime('2022-06-01')\n",
    "date2 = pd.to_datetime('2023-07-02')\n",
    "\n",
    "df_selection = df_full[(df_full['date'] >= date1) & (df_full['date'] < date2)]"
   ]
  },
  {
   "cell_type": "markdown",
   "metadata": {},
   "source": [
    "Visualisation des données de consomations"
   ]
  },
  {
   "cell_type": "code",
   "execution_count": null,
   "metadata": {},
   "outputs": [],
   "source": [
    "figure = plt.figure(figsize=(20,10))\n",
    "plt.plot(df_selection[\"date\"], df_selection[\"Consommation\"], label=column)\n",
    "plt.legend( loc='upper right', numpoints = 1 )\n",
    "plt.xlabel('Date')\n",
    "plt.ylabel('Production (MW)')\n",
    "plt.show()"
   ]
  },
  {
   "cell_type": "markdown",
   "metadata": {},
   "source": [
    "Visualisation des données de production"
   ]
  },
  {
   "cell_type": "code",
   "execution_count": null,
   "metadata": {},
   "outputs": [],
   "source": [
    "\n",
    "print()\n",
    "\n",
    "to_plot = [\"Charbon\", \"Eolien\", \"Solaire\", \"Nucléaire\", \"Hydraulique\", \"Bioénergies\", \"Pompage\"]\n",
    "\n",
    "figure = plt.figure(figsize=(20,10))\n",
    "for column in to_plot :\n",
    "    plt.plot(df_selection[\"date\"], df_selection[column], label=column)\n",
    "    plt.legend( loc='upper right', numpoints = 1 )\n",
    "\n",
    "plt.xlabel('Date')\n",
    "plt.ylabel('Production (MW)')\n",
    "plt.show()\n"
   ]
  },
  {
   "cell_type": "markdown",
   "metadata": {},
   "source": [
    "### Quelles sont les sources de production d'énergie les plus corrélées ?"
   ]
  },
  {
   "cell_type": "code",
   "execution_count": null,
   "metadata": {},
   "outputs": [],
   "source": [
    "df_energies= df_selection[[\"Charbon\",\"Gaz\",\"Fioul\",\"Nucléaire\",\"Eolien\",\"Solaire\",\"Hydraulique\",\"Bioénergies\",\"Consommation\"]]\n",
    "print(df_energies[\"Nucléaire\"].mean())\n",
    "# df_energies[\"Nucléaire\"]/= df_energies[\"Nucléaire\"].mean()\n",
    "print(df_energies[\"Nucléaire\"].std())\n",
    "# print(df_energies.corr())\n",
    "# df_energies"
   ]
  },
  {
   "cell_type": "markdown",
   "metadata": {},
   "source": [
    "### Quelles est la proportion d'énergie renouvelable produite ?"
   ]
  },
  {
   "cell_type": "code",
   "execution_count": null,
   "metadata": {},
   "outputs": [],
   "source": [
    "df_energies= df_selection[[\"Charbon\",\"Gaz\",\"Fioul\",\"Nucléaire\",\"Eolien\",\"Solaire\",\"Hydraulique\",\"Bioénergies\"]]\n",
    "total_energies = sum(df_energies.sum(axis=1))\n",
    "\n",
    "name_col =[\"Charbon\",\"Gaz\",\"Fioul\",\"Nucléaire\",\"Eolien\",\"Solaire\",\"Hydraulique\",\"Bioénergies\"]\n",
    "sum_dic = {}\n",
    "pourcent_dic = {}\n",
    "for col in name_col:\n",
    "    sum_dic[col] = sum(df_energies[col])\n",
    "    pourcent_dic[col] = sum_dic[col]/total_energies*100\n",
    "print(pourcent_dic)\n",
    "renouvelable = [\"Eolien\",\"Solaire\",\"Hydraulique\",\"Bioénergies\"]\n",
    "pourcent_renouvelable = sum([pourcent_dic[nrj12] for nrj12 in renouvelable])\n",
    "print(f\"{pourcent_renouvelable}%\")\n"
   ]
  },
  {
   "cell_type": "markdown",
   "metadata": {},
   "source": [
    "Les énergies renouvelables représente plus d'un quart de la production total d'énergie."
   ]
  },
  {
   "cell_type": "markdown",
   "metadata": {},
   "source": [
    "### Quelles sont les tendances de méthode de production d'énergie au cours de l'année ?\n",
    "TODO: mathieu\n",
    "separer données en plusieurs periode et les plot"
   ]
  },
  {
   "cell_type": "markdown",
   "metadata": {},
   "source": [
    "# 4. Prédiction"
   ]
  },
  {
   "cell_type": "code",
   "execution_count": null,
   "metadata": {
    "scrolled": true
   },
   "outputs": [],
   "source": [
    "df.query('Charbon > 16').head()"
   ]
  }
 ],
 "metadata": {
  "kernelspec": {
   "display_name": "Python 3",
   "language": "python",
   "name": "python3"
  },
  "language_info": {
   "codemirror_mode": {
    "name": "ipython",
    "version": 3
   },
   "file_extension": ".py",
   "mimetype": "text/x-python",
   "name": "python",
   "nbconvert_exporter": "python",
   "pygments_lexer": "ipython3",
   "version": "0.0.0"
  }
 },
 "nbformat": 4,
 "nbformat_minor": 2
}
