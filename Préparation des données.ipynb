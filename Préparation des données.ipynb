{
 "cells": [
  {
   "cell_type": "markdown",
   "metadata": {},
   "source": [
    "Tristan MANIER - Léa GRASSIEN - Mathieu RAMEL - INFO 5 - 9/01/2024\n"
   ]
  },
  {
   "cell_type": "markdown",
   "metadata": {},
   "source": [
    "# 1. Présentation des données"
   ]
  },
  {
   "cell_type": "markdown",
   "metadata": {},
   "source": [
    "Pourquoi avons nous choisis ces données ?\n",
    "TODO\n",
    "\n",
    "source, conditions de recueil, nombre de fichiers, nombres de variables et d'individus, expliquer l'activité derrière les données.\n",
    "TODO\n",
    "\n",
    "Donnez la signification desindividus et des variables\n",
    "TODO"
   ]
  },
  {
   "cell_type": "markdown",
   "metadata": {},
   "source": [
    "## Questions\n",
    "\n",
    "### Analyse\n",
    "Nous allons chercher à répondre à ces questions :\n",
    "- Quelles sont les sources de production d'énergie les plus corrélées ?\n",
    "- Quelles est la proportion d'énergie renouvelable produite ?\n",
    "- Quelles sont les tendances de méthode de production d'énergie au cours de l'année ?\n",
    "- Quelles sont les périodes de l'année où la production d'énergie est la plus importante/faible ?\n",
    "- Quelles sont les moments de la journée où la production d'énergie est la plus importante/faible ?\n",
    "- La météo influe-t-elle sur la consomation d'énergie ?\n",
    "- Quelles sont les sources de production d'énergie les plus corrélées avec la météo ?\n",
    "\n",
    "### Prédictions\n",
    "- Quelle est la tendance de production d'énergie pour les jours/mois/années à venir ?\n",
    "- "
   ]
  },
  {
   "cell_type": "markdown",
   "metadata": {},
   "source": [
    "# 2. Préparation des données"
   ]
  },
  {
   "cell_type": "markdown",
   "metadata": {},
   "source": [
    "Ce notebook présente les commandes utiles pour les principales tâches de préparation des données. Les données `notes.data` qui servent d'illustration sont des notes obtenues par des étudiants dans des matières."
   ]
  },
  {
   "cell_type": "code",
   "execution_count": null,
   "metadata": {
    "scrolled": true
   },
   "outputs": [],
   "source": [
    "import pandas as pd\n",
    "pd.set_option('display.max_rows', 100)     # Set the maximum number of rows displayed to 100 rows\n",
    "\n",
    "import math"
   ]
  },
  {
   "cell_type": "markdown",
   "metadata": {},
   "source": [
    "## 2.1 Premier dataset sur la production d'énergie"
   ]
  },
  {
   "cell_type": "code",
   "execution_count": null,
   "metadata": {
    "scrolled": true
   },
   "outputs": [],
   "source": [
    "df = pd.read_csv(\"eCO2mix_RTE_En-cours-TR.csv\", sep=\"\\t\", encoding='latin-1', index_col=False)\n",
    "\n",
    "df.head()"
   ]
  },
  {
   "cell_type": "code",
   "execution_count": null,
   "metadata": {
    "scrolled": true
   },
   "outputs": [],
   "source": [
    "print(f\"{df.shape[0]} rows and {df.shape[1]} columns\")\n",
    "\n",
    "# Combine dtypre, count and nnunique\n",
    "pd.concat([df.dtypes, df.count(), df.nunique()], keys=[\"Types\", \"Count\", \"NUnique\"], axis=1)"
   ]
  },
  {
   "cell_type": "markdown",
   "metadata": {},
   "source": [
    "### Statistiques descriptives des valeurs non-définies"
   ]
  },
  {
   "cell_type": "code",
   "execution_count": null,
   "metadata": {},
   "outputs": [],
   "source": [
    "temp = ({\n",
    "    'column':[],\n",
    "    'nb_lines' :[],\n",
    "    'nb_ND':[]\n",
    "})\n",
    "\n",
    "nd = pd.DataFrame(temp)\n",
    "\n",
    "for column in df.columns : \n",
    "    new_row = pd.DataFrame({'column': column, 'nb_lines': df[column].count(), 'nb_ND': (df[column] == 'ND').sum()}, index=[0])\n",
    "    nd = pd.concat([new_row, nd.loc[:]]).reset_index(drop=True)\n",
    "nd = nd.sort_values(by='nb_ND', ascending=False)\n",
    "\n",
    "nd[\"%ND\"] = nd[\"nb_ND\"] / nd[\"nb_lines\"] * 100\n",
    "\n",
    "nd"
   ]
  },
  {
   "cell_type": "markdown",
   "metadata": {},
   "source": [
    "## 2.2 Deuxième dataset sur les données météo"
   ]
  },
  {
   "cell_type": "code",
   "execution_count": null,
   "metadata": {},
   "outputs": [],
   "source": [
    "df_weather = pd.read_csv(\"donnees-synop-essentielles-omm.csv\", sep=\";\", index_col=False, encoding='utf-8')\n",
    "\n",
    "# df_weather.head()\n",
    "print(f\"{df_weather.shape[0]} rows and {df_weather.shape[1]} columns\")\n",
    "\n",
    "df_weather.head()"
   ]
  },
  {
   "cell_type": "markdown",
   "metadata": {},
   "source": [
    "Selection des données d'une seule région. (Pourais être remplacer par une moyenne des régions) "
   ]
  },
  {
   "cell_type": "code",
   "execution_count": null,
   "metadata": {},
   "outputs": [],
   "source": [
    "code_region = int('07149')  # Ile-de-France\n",
    "df_weather = df_weather[df_weather[\"numer_sta\"] == code_region]\n",
    "\n",
    "# df_weather.head()\n",
    "print(f\"{df_weather.shape[0]} rows and {df_weather.shape[1]} columns\")"
   ]
  },
  {
   "cell_type": "markdown",
   "metadata": {},
   "source": [
    "Formattage des données météo.\n",
    "\n",
    "Parmis toutes les données météo fournies, nous avons choisis de ne garder que les données les plus pertinantes pour nous. De plus, nous les avons renomer pour facilité leur utilisation et leur lisibilité."
   ]
  },
  {
   "cell_type": "code",
   "execution_count": null,
   "metadata": {},
   "outputs": [],
   "source": [
    "#multiplier les colonnes par 3 pour avoir 1 lignes par heures\n",
    "weather_rename_map = {\n",
    "    'date': 'date',\n",
    "    'pmer': 'pression_mer',\n",
    "    'ff': 'vitesse_vent',\n",
    "    't': 'température',\n",
    "    'u': 'humidité',\n",
    "    'pres': 'pression',\n",
    "    'niv_bar': 'niveau_barometrique',\n",
    "    'tn12': 't_min_12h',\n",
    "    'tn24': 't_min_24h',\n",
    "    'tx12': 't_max_12h',\n",
    "    'tx24': 't_max_24h',\n",
    "    'tminsol': 't_min_sol_12h',\n",
    "    'rr1': 'précipitation_1h',\n",
    "    'rr3': 'précipitation_3h',\n",
    "    'rr6': 'précipitation_6h',\n",
    "    'rr12': 'précipitation_12h',\n",
    "    'rr24': 'précipitation_24h',\n",
    "    'ssfrai': 'hauteur_neige'\n",
    "}\n",
    "\n",
    "df_weather = df_weather.rename(columns=weather_rename_map)\n",
    "\n",
    "# remove columns not in weather_rename_map\n",
    "for col_name in df_weather.columns.values.tolist():\n",
    "    if col_name not in weather_rename_map.values():\n",
    "        df_weather = df_weather.drop(col_name, axis=1)\n",
    "\n",
    "df_weather = df_weather.reset_index(drop=True)\n",
    "\n",
    "# convert object to float\n",
    "for col_name in df_weather.columns.values.tolist():\n",
    "    df_weather[col_name] = pd.to_numeric(df_weather[col_name], errors='coerce')\n",
    "\n",
    "#df_weather.head()\n",
    "\n",
    "#df_weather.dtypes"
   ]
  },
  {
   "cell_type": "markdown",
   "metadata": {},
   "source": [
    "Suppresion des lignes avec des valeurs manquantes pour les dates et heures."
   ]
  },
  {
   "cell_type": "code",
   "execution_count": null,
   "metadata": {},
   "outputs": [],
   "source": [
    "df = df.dropna(subset=['Date', \"Heures\"])"
   ]
  },
  {
   "cell_type": "markdown",
   "metadata": {},
   "source": [
    "## 2.3 Jointure des deux datasets\n",
    "\n",
    "Formatage des dates et heures des deux datasets."
   ]
  },
  {
   "cell_type": "code",
   "execution_count": null,
   "metadata": {},
   "outputs": [],
   "source": [
    "# Concat date and hours\n",
    "df['date'] = df['Date'].astype(str) + df['Heures'].astype(str)\n",
    "\n",
    "# Convert to datetime\n",
    "df['date'] = df['date'].apply(lambda x: pd.to_datetime(str(x), format='%Y-%m-%d%H:%M'))\n",
    "\n",
    "df_weather[\"date\"] = df_weather['date'].apply(lambda x: pd.to_datetime(str(x), format='%Y%m%d%H%M%S'))"
   ]
  },
  {
   "cell_type": "markdown",
   "metadata": {},
   "source": [
    "Fusion des deux datasets"
   ]
  },
  {
   "cell_type": "code",
   "execution_count": null,
   "metadata": {},
   "outputs": [],
   "source": [
    "df_full = pd.merge(df, df_weather, how='inner', on = 'date' )\n",
    "\n",
    "# full_df.head()\n",
    "print(f\"df : {df.shape[0]} rows and {df.shape[1]} columns\")\n",
    "print(f\"df_weather : {df_weather.shape[0]} rows and {df_weather.shape[1]} columns\")\n",
    "print(f\"df_full : {df_full.shape[0]} rows and {df_full.shape[1]} columns\")\n",
    "\n",
    "print(f\"Data between {df_full['date'].min()} and {df_full['date'].max()}\")"
   ]
  },
  {
   "cell_type": "markdown",
   "metadata": {},
   "source": [
    "# 3. Analyse des données"
   ]
  },
  {
   "cell_type": "markdown",
   "metadata": {},
   "source": [
    "Selection d'une periode de temps"
   ]
  },
  {
   "cell_type": "code",
   "execution_count": null,
   "metadata": {},
   "outputs": [],
   "source": [
    "from matplotlib import pyplot as plt\n",
    "\n",
    "#select rows between date1 and date 2\n",
    "date1 = pd.to_datetime('2022-06-01')\n",
    "date2 = pd.to_datetime('2023-12-01')\n",
    "\n",
    "df_selection = df_full[(df_full['date'] >= date1) & (df_full['date'] < date2)]"
   ]
  },
  {
   "cell_type": "markdown",
   "metadata": {},
   "source": [
    "Visualisation des données de consomations"
   ]
  },
  {
   "cell_type": "code",
   "execution_count": null,
   "metadata": {},
   "outputs": [],
   "source": [
    "figure = plt.figure(figsize=(20,10))\n",
    "plt.plot(df_selection[\"date\"], df_selection[\"Consommation\"], label=column)\n",
    "plt.legend( loc='upper right', numpoints = 1 )\n",
    "plt.xlabel('Date')\n",
    "plt.ylabel('Production (MW)')\n",
    "plt.show()"
   ]
  },
  {
   "cell_type": "markdown",
   "metadata": {},
   "source": [
    "Visualisation des données de production"
   ]
  },
  {
   "cell_type": "code",
   "execution_count": null,
   "metadata": {},
   "outputs": [],
   "source": [
    "to_plot = [\"Charbon\", \"Eolien\", \"Solaire\", \"Nucléaire\", \"Hydraulique\", \"Bioénergies\", \"Pompage\"]\n",
    "\n",
    "figure = plt.figure(figsize=(20,10))\n",
    "for column in to_plot :\n",
    "    plt.plot(df_selection[\"date\"], df_selection[column], label=column)\n",
    "    plt.legend( loc='upper right', numpoints = 1 )\n",
    "\n",
    "plt.xlabel('Date')\n",
    "plt.ylabel('Production (MW)')\n",
    "plt.show()\n"
   ]
  },
  {
   "cell_type": "markdown",
   "metadata": {},
   "source": [
    "### Quelles sont les sources de production d'énergie les plus corrélées ?"
   ]
  },
  {
   "cell_type": "markdown",
   "metadata": {},
   "source": [
    "Selections des colonnes liées à la production et description de celles-ci"
   ]
  },
  {
   "cell_type": "code",
   "execution_count": null,
   "metadata": {},
   "outputs": [],
   "source": [
    "df_energies = df_full[[\"Charbon\", \"Gaz\", \"Fioul\", \"Nucléaire\", \"Eolien\", \"Solaire\", \"Hydraulique\", \"Bioénergies\", \"Consommation\"]]\n",
    "\n",
    "df_energies.describe()"
   ]
  },
  {
   "cell_type": "markdown",
   "metadata": {},
   "source": [
    "Matrice de corrélation"
   ]
  },
  {
   "cell_type": "code",
   "execution_count": null,
   "metadata": {},
   "outputs": [],
   "source": [
    "df_energies.corr()"
   ]
  },
  {
   "cell_type": "markdown",
   "metadata": {},
   "source": [
    "#### Conclusion\n",
    "TODO: Mathieu"
   ]
  },
  {
   "cell_type": "markdown",
   "metadata": {},
   "source": [
    "### Quelles est la proportion d'énergie renouvelable produite ?\n",
    "\n",
    "Calcul de la production globale d'énergie sur la période du dataset"
   ]
  },
  {
   "cell_type": "code",
   "execution_count": null,
   "metadata": {},
   "outputs": [],
   "source": [
    "name_col =[\"Charbon\", \"Gaz\", \"Fioul\", \"Nucléaire\", \"Eolien\", \"Solaire\", \"Hydraulique\", \"Bioénergies\"]\n",
    "\n",
    "df_energies = df_full[name_col]\n",
    "\n",
    "df_energies = df_energies.dropna()\n",
    "\n",
    "total_energies = sum(df_energies.sum(axis=1))\n",
    "print(f\"Production total : {total_energies} MW\")"
   ]
  },
  {
   "cell_type": "markdown",
   "metadata": {},
   "source": [
    "Calcul des proportions de chaque source d'énergie"
   ]
  },
  {
   "cell_type": "code",
   "execution_count": null,
   "metadata": {},
   "outputs": [],
   "source": [
    "sum_dic = {}\n",
    "pourcent_dic = {}\n",
    "for col in name_col:\n",
    "    sum_dic[col] = sum(df_energies[col])\n",
    "    pourcent_dic[col] = sum_dic[col]/total_energies*100\n",
    "    \n",
    "pourcent_df = pd.DataFrame.from_dict(pourcent_dic, orient='index', columns=['%'])\n",
    "print(pourcent_df)"
   ]
  },
  {
   "cell_type": "markdown",
   "metadata": {},
   "source": [
    "Aggrégation des sources d'énergie en 3 catégories : renouvelable, fossile et nucléaire"
   ]
  },
  {
   "cell_type": "code",
   "execution_count": null,
   "metadata": {},
   "outputs": [],
   "source": [
    "renouvelable = [\"Eolien\",\"Solaire\",\"Hydraulique\",\"Bioénergies\"]\n",
    "pourcent_renouvelable = sum([pourcent_dic[nrj12] for nrj12 in renouvelable])\n",
    "print(f\"Pourcentage d'énergie renouvelable : {pourcent_renouvelable:.2f} %\")\n",
    "\n",
    "fossil = [\"Charbon\",\"Gaz\",\"Fioul\"]\n",
    "pourcent_fossil = sum([pourcent_dic[nrj12] for nrj12 in fossil])\n",
    "print(f\"Pourcentage d'énergie fossile : {pourcent_fossil:.2f} %\")\n",
    "\n",
    "nuclear = [\"Nucléaire\"]\n",
    "pourcent_nuclear = sum([pourcent_dic[nrj12] for nrj12 in nuclear])\n",
    "print(f\"Pourcentage d'énergie nucléaire : {pourcent_nuclear:.2f} %\")"
   ]
  },
  {
   "cell_type": "markdown",
   "metadata": {},
   "source": [
    "Les énergies renouvelables représente plus d'un quart de la production total d'énergie."
   ]
  },
  {
   "cell_type": "markdown",
   "metadata": {},
   "source": [
    "### Quelles sont les tendances de méthode de production d'énergie au cours de l'année ?\n",
    "TODO: mathieu\n",
    "separer données en plusieurs periode et les plot"
   ]
  },
  {
   "cell_type": "markdown",
   "metadata": {},
   "source": [
    "### La météo influe-t-elle sur la consomation d'énergie ?\n"
   ]
  },
  {
   "cell_type": "code",
   "execution_count": null,
   "metadata": {},
   "outputs": [],
   "source": [
    "col_names = [\"Consommation\", \"température\", \"vitesse_vent\", \"humidité\", \"pression\", \"précipitation_24h\", \"hauteur_neige\"]\n",
    "# df_full.columns.values.tolist()\n",
    "\n",
    "df_selection = df_full[col_names]\n",
    "#removes lines with nan or None\n",
    "df_selection = df_selection.dropna()\n",
    "\n",
    "df_selection.describe()"
   ]
  },
  {
   "cell_type": "markdown",
   "metadata": {},
   "source": [
    "Matrice de corrélation"
   ]
  },
  {
   "cell_type": "code",
   "execution_count": null,
   "metadata": {},
   "outputs": [],
   "source": [
    "corr_matrix = df_selection.corr()\n",
    "\n",
    "# for only the \"Consommation\" column sort by descending order of absolute values\n",
    "pd.DataFrame(corr_matrix[\"Consommation\"].sort_values(ascending=False, key=lambda x: abs(x)))"
   ]
  },
  {
   "cell_type": "markdown",
   "metadata": {},
   "source": [
    "### Conclusion\n",
    "\n",
    "On remarque que la température est inversement corrélée avec la consomation d'énergie. Cela est logique car plus il fait froid, plus les gens chauffent leur logement.\n",
    "Cependant c'est la seule corrélation notable."
   ]
  },
  {
   "cell_type": "markdown",
   "metadata": {},
   "source": [
    "### Quelles sont les sources de production d'énergie les plus corrélées avec la météo ?"
   ]
  },
  {
   "cell_type": "code",
   "execution_count": 169,
   "metadata": {},
   "outputs": [
    {
     "data": {
      "text/html": [
       "<div>\n",
       "<style scoped>\n",
       "    .dataframe tbody tr th:only-of-type {\n",
       "        vertical-align: middle;\n",
       "    }\n",
       "\n",
       "    .dataframe tbody tr th {\n",
       "        vertical-align: top;\n",
       "    }\n",
       "\n",
       "    .dataframe thead th {\n",
       "        text-align: right;\n",
       "    }\n",
       "</style>\n",
       "<table border=\"1\" class=\"dataframe\">\n",
       "  <thead>\n",
       "    <tr style=\"text-align: right;\">\n",
       "      <th></th>\n",
       "      <th>Charbon</th>\n",
       "      <th>Gaz</th>\n",
       "      <th>Fioul</th>\n",
       "      <th>Nucléaire</th>\n",
       "      <th>Eolien</th>\n",
       "      <th>Solaire</th>\n",
       "      <th>Hydraulique</th>\n",
       "      <th>Bioénergies</th>\n",
       "      <th>température</th>\n",
       "      <th>vitesse_vent</th>\n",
       "      <th>humidité</th>\n",
       "      <th>pression</th>\n",
       "      <th>précipitation_24h</th>\n",
       "      <th>hauteur_neige</th>\n",
       "    </tr>\n",
       "  </thead>\n",
       "  <tbody>\n",
       "    <tr>\n",
       "      <th>count</th>\n",
       "      <td>2349.000000</td>\n",
       "      <td>2349.000000</td>\n",
       "      <td>2349.000000</td>\n",
       "      <td>2349.000000</td>\n",
       "      <td>2349.000000</td>\n",
       "      <td>2349.000000</td>\n",
       "      <td>2349.000000</td>\n",
       "      <td>2349.000000</td>\n",
       "      <td>2349.000000</td>\n",
       "      <td>2349.000000</td>\n",
       "      <td>2349.000000</td>\n",
       "      <td>2349.000000</td>\n",
       "      <td>2349.000000</td>\n",
       "      <td>2349.000000</td>\n",
       "    </tr>\n",
       "    <tr>\n",
       "      <th>mean</th>\n",
       "      <td>182.846318</td>\n",
       "      <td>3846.537676</td>\n",
       "      <td>196.538101</td>\n",
       "      <td>33523.229034</td>\n",
       "      <td>4933.463176</td>\n",
       "      <td>3125.917412</td>\n",
       "      <td>5682.726692</td>\n",
       "      <td>730.951043</td>\n",
       "      <td>287.212495</td>\n",
       "      <td>3.914049</td>\n",
       "      <td>71.564921</td>\n",
       "      <td>100562.490421</td>\n",
       "      <td>1.822095</td>\n",
       "      <td>0.000004</td>\n",
       "    </tr>\n",
       "    <tr>\n",
       "      <th>std</th>\n",
       "      <td>403.679060</td>\n",
       "      <td>2413.278162</td>\n",
       "      <td>147.575528</td>\n",
       "      <td>5941.525968</td>\n",
       "      <td>3652.194985</td>\n",
       "      <td>3581.603563</td>\n",
       "      <td>2496.196559</td>\n",
       "      <td>97.395568</td>\n",
       "      <td>7.734232</td>\n",
       "      <td>1.953747</td>\n",
       "      <td>18.777471</td>\n",
       "      <td>926.887533</td>\n",
       "      <td>4.457989</td>\n",
       "      <td>0.000206</td>\n",
       "    </tr>\n",
       "    <tr>\n",
       "      <th>min</th>\n",
       "      <td>0.000000</td>\n",
       "      <td>243.000000</td>\n",
       "      <td>107.000000</td>\n",
       "      <td>19774.000000</td>\n",
       "      <td>557.000000</td>\n",
       "      <td>0.000000</td>\n",
       "      <td>1578.000000</td>\n",
       "      <td>0.000000</td>\n",
       "      <td>267.050000</td>\n",
       "      <td>0.000000</td>\n",
       "      <td>14.000000</td>\n",
       "      <td>96290.000000</td>\n",
       "      <td>-0.100000</td>\n",
       "      <td>0.000000</td>\n",
       "    </tr>\n",
       "    <tr>\n",
       "      <th>25%</th>\n",
       "      <td>14.000000</td>\n",
       "      <td>2027.000000</td>\n",
       "      <td>137.000000</td>\n",
       "      <td>28702.000000</td>\n",
       "      <td>2093.000000</td>\n",
       "      <td>0.000000</td>\n",
       "      <td>3790.000000</td>\n",
       "      <td>674.000000</td>\n",
       "      <td>281.850000</td>\n",
       "      <td>2.500000</td>\n",
       "      <td>58.000000</td>\n",
       "      <td>100080.000000</td>\n",
       "      <td>0.000000</td>\n",
       "      <td>0.000000</td>\n",
       "    </tr>\n",
       "    <tr>\n",
       "      <th>50%</th>\n",
       "      <td>27.000000</td>\n",
       "      <td>3501.000000</td>\n",
       "      <td>164.000000</td>\n",
       "      <td>33816.000000</td>\n",
       "      <td>3624.000000</td>\n",
       "      <td>1518.000000</td>\n",
       "      <td>5300.000000</td>\n",
       "      <td>705.000000</td>\n",
       "      <td>286.550000</td>\n",
       "      <td>3.700000</td>\n",
       "      <td>75.000000</td>\n",
       "      <td>100630.000000</td>\n",
       "      <td>0.000000</td>\n",
       "      <td>0.000000</td>\n",
       "    </tr>\n",
       "    <tr>\n",
       "      <th>75%</th>\n",
       "      <td>47.000000</td>\n",
       "      <td>5286.000000</td>\n",
       "      <td>197.000000</td>\n",
       "      <td>38162.000000</td>\n",
       "      <td>6824.000000</td>\n",
       "      <td>5742.000000</td>\n",
       "      <td>7001.000000</td>\n",
       "      <td>783.000000</td>\n",
       "      <td>292.750000</td>\n",
       "      <td>5.200000</td>\n",
       "      <td>87.000000</td>\n",
       "      <td>101150.000000</td>\n",
       "      <td>1.600000</td>\n",
       "      <td>0.000000</td>\n",
       "    </tr>\n",
       "    <tr>\n",
       "      <th>max</th>\n",
       "      <td>1835.000000</td>\n",
       "      <td>9728.000000</td>\n",
       "      <td>1442.000000</td>\n",
       "      <td>45799.000000</td>\n",
       "      <td>16331.000000</td>\n",
       "      <td>12083.000000</td>\n",
       "      <td>16145.000000</td>\n",
       "      <td>1092.000000</td>\n",
       "      <td>309.050000</td>\n",
       "      <td>12.200000</td>\n",
       "      <td>100.000000</td>\n",
       "      <td>103070.000000</td>\n",
       "      <td>44.000000</td>\n",
       "      <td>0.010000</td>\n",
       "    </tr>\n",
       "  </tbody>\n",
       "</table>\n",
       "</div>"
      ],
      "text/plain": [
       "           Charbon          Gaz        Fioul     Nucléaire        Eolien  \\\n",
       "count  2349.000000  2349.000000  2349.000000   2349.000000   2349.000000   \n",
       "mean    182.846318  3846.537676   196.538101  33523.229034   4933.463176   \n",
       "std     403.679060  2413.278162   147.575528   5941.525968   3652.194985   \n",
       "min       0.000000   243.000000   107.000000  19774.000000    557.000000   \n",
       "25%      14.000000  2027.000000   137.000000  28702.000000   2093.000000   \n",
       "50%      27.000000  3501.000000   164.000000  33816.000000   3624.000000   \n",
       "75%      47.000000  5286.000000   197.000000  38162.000000   6824.000000   \n",
       "max    1835.000000  9728.000000  1442.000000  45799.000000  16331.000000   \n",
       "\n",
       "            Solaire   Hydraulique  Bioénergies  température  vitesse_vent  \\\n",
       "count   2349.000000   2349.000000  2349.000000  2349.000000   2349.000000   \n",
       "mean    3125.917412   5682.726692   730.951043   287.212495      3.914049   \n",
       "std     3581.603563   2496.196559    97.395568     7.734232      1.953747   \n",
       "min        0.000000   1578.000000     0.000000   267.050000      0.000000   \n",
       "25%        0.000000   3790.000000   674.000000   281.850000      2.500000   \n",
       "50%     1518.000000   5300.000000   705.000000   286.550000      3.700000   \n",
       "75%     5742.000000   7001.000000   783.000000   292.750000      5.200000   \n",
       "max    12083.000000  16145.000000  1092.000000   309.050000     12.200000   \n",
       "\n",
       "          humidité       pression  précipitation_24h  hauteur_neige  \n",
       "count  2349.000000    2349.000000        2349.000000    2349.000000  \n",
       "mean     71.564921  100562.490421           1.822095       0.000004  \n",
       "std      18.777471     926.887533           4.457989       0.000206  \n",
       "min      14.000000   96290.000000          -0.100000       0.000000  \n",
       "25%      58.000000  100080.000000           0.000000       0.000000  \n",
       "50%      75.000000  100630.000000           0.000000       0.000000  \n",
       "75%      87.000000  101150.000000           1.600000       0.000000  \n",
       "max     100.000000  103070.000000          44.000000       0.010000  "
      ]
     },
     "execution_count": 169,
     "metadata": {},
     "output_type": "execute_result"
    }
   ],
   "source": [
    "col_names_prod =[\"Charbon\", \"Gaz\", \"Fioul\", \"Nucléaire\", \"Eolien\", \"Solaire\", \"Hydraulique\", \"Bioénergies\"]\n",
    "col_names_weather = [\"température\", \"vitesse_vent\", \"humidité\", \"pression\", \"précipitation_24h\", \"hauteur_neige\"]\n",
    "\n",
    "df_selection = df_full[col_names_prod + col_names_weather]\n",
    "df_selection = df_selection.dropna()\n",
    "\n",
    "df_selection.describe()"
   ]
  },
  {
   "cell_type": "code",
   "execution_count": 170,
   "metadata": {},
   "outputs": [
    {
     "data": {
      "text/html": [
       "<div>\n",
       "<style scoped>\n",
       "    .dataframe tbody tr th:only-of-type {\n",
       "        vertical-align: middle;\n",
       "    }\n",
       "\n",
       "    .dataframe tbody tr th {\n",
       "        vertical-align: top;\n",
       "    }\n",
       "\n",
       "    .dataframe thead th {\n",
       "        text-align: right;\n",
       "    }\n",
       "</style>\n",
       "<table border=\"1\" class=\"dataframe\">\n",
       "  <thead>\n",
       "    <tr style=\"text-align: right;\">\n",
       "      <th></th>\n",
       "      <th>Bioénergies</th>\n",
       "      <th>Hydraulique</th>\n",
       "      <th>Solaire</th>\n",
       "      <th>Eolien</th>\n",
       "      <th>Nucléaire</th>\n",
       "      <th>Fioul</th>\n",
       "      <th>Gaz</th>\n",
       "      <th>Charbon</th>\n",
       "    </tr>\n",
       "  </thead>\n",
       "  <tbody>\n",
       "    <tr>\n",
       "      <th>température</th>\n",
       "      <td>-0.107017</td>\n",
       "      <td>-0.426612</td>\n",
       "      <td>0.631816</td>\n",
       "      <td>-0.273598</td>\n",
       "      <td>-0.575566</td>\n",
       "      <td>-0.335713</td>\n",
       "      <td>-0.544218</td>\n",
       "      <td>-0.510578</td>\n",
       "    </tr>\n",
       "    <tr>\n",
       "      <th>vitesse_vent</th>\n",
       "      <td>-0.001051</td>\n",
       "      <td>0.064231</td>\n",
       "      <td>0.164533</td>\n",
       "      <td>0.639315</td>\n",
       "      <td>0.012601</td>\n",
       "      <td>-0.029842</td>\n",
       "      <td>-0.194520</td>\n",
       "      <td>-0.081827</td>\n",
       "    </tr>\n",
       "    <tr>\n",
       "      <th>humidité</th>\n",
       "      <td>0.023190</td>\n",
       "      <td>0.245030</td>\n",
       "      <td>-0.726843</td>\n",
       "      <td>0.273818</td>\n",
       "      <td>0.267622</td>\n",
       "      <td>0.143183</td>\n",
       "      <td>0.265001</td>\n",
       "      <td>0.201082</td>\n",
       "    </tr>\n",
       "    <tr>\n",
       "      <th>pression</th>\n",
       "      <td>0.083321</td>\n",
       "      <td>-0.036470</td>\n",
       "      <td>0.118623</td>\n",
       "      <td>-0.464342</td>\n",
       "      <td>0.094257</td>\n",
       "      <td>0.019468</td>\n",
       "      <td>0.245654</td>\n",
       "      <td>0.131551</td>\n",
       "    </tr>\n",
       "    <tr>\n",
       "      <th>précipitation_24h</th>\n",
       "      <td>0.053438</td>\n",
       "      <td>0.003623</td>\n",
       "      <td>-0.088554</td>\n",
       "      <td>0.213873</td>\n",
       "      <td>-0.078030</td>\n",
       "      <td>-0.039498</td>\n",
       "      <td>-0.093169</td>\n",
       "      <td>-0.100703</td>\n",
       "    </tr>\n",
       "    <tr>\n",
       "      <th>hauteur_neige</th>\n",
       "      <td>-0.012070</td>\n",
       "      <td>0.072871</td>\n",
       "      <td>-0.016321</td>\n",
       "      <td>-0.016969</td>\n",
       "      <td>0.027629</td>\n",
       "      <td>0.053495</td>\n",
       "      <td>0.050178</td>\n",
       "      <td>0.083407</td>\n",
       "    </tr>\n",
       "  </tbody>\n",
       "</table>\n",
       "</div>"
      ],
      "text/plain": [
       "                   Bioénergies  Hydraulique   Solaire    Eolien  Nucléaire  \\\n",
       "température          -0.107017    -0.426612  0.631816 -0.273598  -0.575566   \n",
       "vitesse_vent         -0.001051     0.064231  0.164533  0.639315   0.012601   \n",
       "humidité              0.023190     0.245030 -0.726843  0.273818   0.267622   \n",
       "pression              0.083321    -0.036470  0.118623 -0.464342   0.094257   \n",
       "précipitation_24h     0.053438     0.003623 -0.088554  0.213873  -0.078030   \n",
       "hauteur_neige        -0.012070     0.072871 -0.016321 -0.016969   0.027629   \n",
       "\n",
       "                      Fioul       Gaz   Charbon  \n",
       "température       -0.335713 -0.544218 -0.510578  \n",
       "vitesse_vent      -0.029842 -0.194520 -0.081827  \n",
       "humidité           0.143183  0.265001  0.201082  \n",
       "pression           0.019468  0.245654  0.131551  \n",
       "précipitation_24h -0.039498 -0.093169 -0.100703  \n",
       "hauteur_neige      0.053495  0.050178  0.083407  "
      ]
     },
     "execution_count": 170,
     "metadata": {},
     "output_type": "execute_result"
    }
   ],
   "source": [
    "#create a dataset with with the correlation between the production and the weather for each energy\n",
    "corr_dataset = pd.DataFrame()\n",
    "for col_name in col_names_prod:\n",
    "    current_df = df_selection[[col_name] + col_names_weather]\n",
    "    corr_matrix = current_df.corr()\n",
    "\n",
    "    corr_list = corr_matrix[col_name]\n",
    "    \n",
    "    corr_dataset.insert(0, col_name, corr_matrix[col_name])\n",
    "\n",
    "corr_dataset.dropna()"
   ]
  },
  {
   "cell_type": "markdown",
   "metadata": {},
   "source": [
    "### Conclusion\n",
    "\n",
    "On remarque que la température influence toutes les produciont d'énérgie, quand il fait froid la production augmentent et inversement. Sauf pour le solaire qui est invers car on produit plus d'énergie solaire en été lorsque le soeil est haut.\n",
    "\n",
    "L'autre corrélation notable est celle entre le solaire et l'humidité. Cela est logique car il y a plus de nuage lorsque l'humidité est élevée et donc moins de soleil. De même pour les temps pluvieux. Cependant la corrélation entre le solaire et les précipitations des dernières 24h est inexistante, ce qui est très étonnant.\n",
    "\n",
    "L'humidité à également un impact sur la production d'énégie hydrolique. Cela est logique car il y a plus d'eau dans les barages. Cependant elle a également in impact sur l'éolien, le nucléaire, le gaz et le charbon. Cela est plus difficile à expliquer.\n",
    "\n",
    "La dernière corrélation est entre la vitesse du vent, la pression et la production d'énérgie éolienne qui est tout à fait logique, les pression et dépression entrainne du vent qui favorisent la production d'énergie éolienne."
   ]
  },
  {
   "cell_type": "markdown",
   "metadata": {},
   "source": [
    "# 4. Prédiction"
   ]
  },
  {
   "cell_type": "code",
   "execution_count": null,
   "metadata": {
    "scrolled": true
   },
   "outputs": [],
   "source": [
    "df.query('Charbon > 16').head()"
   ]
  }
 ],
 "metadata": {
  "kernelspec": {
   "display_name": "Python 3",
   "language": "python",
   "name": "python3"
  },
  "language_info": {
   "codemirror_mode": {
    "name": "ipython",
    "version": 3
   },
   "file_extension": ".py",
   "mimetype": "text/x-python",
   "name": "python",
   "nbconvert_exporter": "python",
   "pygments_lexer": "ipython3",
   "version": "3.9.16"
  }
 },
 "nbformat": 4,
 "nbformat_minor": 2
}
